{
 "cells": [
  {
   "cell_type": "markdown",
   "metadata": {
    "colab_type": "text",
    "id": "BLaaPI7DvtWJ"
   },
   "source": [
    "# Python Pacakges\n",
    "\n",
    "A pacakge (or a module or a library) is a piece of code with some specific functionality. In Python ecosystem, there are many packages specifically designed for data science workflow. Python's [standard library](\"https://docs.python.org/3/library/\") is installed with it. Many additional modules are available from [PyPI (the Python Package Index)](\"https://pypi.org/\").\n",
    "\n",
    "*   To install a package on machine, one must run the following command on the command prompt/terminal: **`pip install packagename1 pacakgename2 ...`** (or **`!pip install packagename1 packagename2`** inside Jupyter Notebook).  \n",
    "*   Packages need to be isntalled once on each computer, yet one has to always load them to be able to use the module functionality. The packages are loaded using the follwing Python code: **`import pacakgename1, packagename2`**.  Once imported, all the functionalty of the package will now be available to the user and should be called by explcitely specificying pacakgename in front.\n",
    "*   If the package has a long name, it is suggested to assign a shorter name for future usage:  **`import pacakgename1 as pkg1`**.\n",
    "\n",
    "Note: it is a good practice to import necessary modules in the top part of the code. Packages covered during this lecture are:\n",
    "\n",
    "\n",
    "*   [Pandas](https://pandas.pydata.org) - great tool for data manipulation, processing, preparation and description. Includes also several high-level functionalities for regression analysis, yet more suitable packages exist for this task (e.g. [statsmodels](http://statsmodels.sf.net/), [scikit-learn](http://scikit-learn.org/))\n",
    "*   [Matplotlib](https://matplotlib.org) - the standard data visualization tool in Python, which makes both easy and hard things possible. Matplotlib provides a MATLAB like interaface and fully customizable plots, yet it is not the choice for interactive plotting (packages such as [plotly](https://plot.ly/python/) or [bokeh](https://bokeh.pydata.org/en/latest/) are ued for interactive visualization in Python)\n",
    "*   [Seaborn](https://seaborn.pydata.org) - a high-level interface for statistical graphs, which is utilizing matplotlib in behind. As a result it is possible to customize seaborn plots using matplotlib instances.\n",
    "*   [Numpy](https://www.numpy.org) - a fundamental package for scientific computing in Python, which among all allows the cretion of multidimensional arrays and matrices. Many packages including Pandas are built on top of NumPy.\n",
    "\n"
   ]
  },
  {
   "cell_type": "code",
   "execution_count": 1,
   "metadata": {
    "ExecuteTime": {
     "end_time": "2020-02-12T22:36:20.819512Z",
     "start_time": "2020-02-12T22:36:12.788595Z"
    },
    "colab": {},
    "colab_type": "code",
    "id": "eMq9MA_YRdkb"
   },
   "outputs": [],
   "source": [
    "import numpy as np\n",
    "import pandas as pd\n",
    "import matplotlib.pyplot as plt\n",
    "import seaborn as sns\n",
    "import scipy.stats as ss\n",
    "#scipy is not imported fully as the submodels should be imported separately"
   ]
  },
  {
   "cell_type": "markdown",
   "metadata": {
    "colab_type": "text",
    "id": "jpqYZ4trvxPz"
   },
   "source": [
    "# Pandas: read, show, describe, write\n",
    "\n",
    "- [`pd.read_csv(\"filepath.csv\")`](https://pandas.pydata.org/pandas-docs/stable/reference/api/pandas.read_csv.html) - read a local or hosted csv file\n",
    "- [`pd.read_excel(\"filepath.xlsx\")`](https://pandas.pydata.org/pandas-docs/stable/reference/api/pandas.read_excel.html) - read a local or hosted MS Excel file\n",
    "- [`data.to_csv(\"filepath.csv\")`](https://pandas.pydata.org/pandas-docs/stable/reference/api/pandas.DataFrame.to_csv.html) - save the daraframe object as a CSV file\n",
    "- [`data.to_excel(\"filepath.xlsx\")`](https://pandas.pydata.org/pandas-docs/stable/reference/api/pandas.DataFrame.to_excel.html) - save the daraframe object as a MS Excel file\n",
    "- [`data.head(n=5)`](https://pandas.pydata.org/pandas-docs/stable/reference/api/pandas.DataFrame.head.html) - show the top n (in this case ) rows of the dataframe\n",
    "- [`data.tail(n=5)`](https://pandas.pydata.org/pandas-docs/stable/reference/api/pandas.DataFrame.head.html) - show the bottom n (in this case ) rows of the dataframe\n",
    "- [`data.shape`](https://pandas.pydata.org/pandas-docs/stable/reference/api/pandas.DataFrame.shape.html) - provides a tuple showing the dimensionality (number of rows and columns) of the dataframe\n",
    "- [`data.info()`](https://pandas.pydata.org/pandas-docs/stable/reference/api/pandas.DataFrame.info.html) - provides summarized information on the dataframe including the dimensons, data types and number of nonempty cells\n",
    "- [`data.count()`](https://pandas.pydata.org/pandas-docs/stable/reference/api/pandas.DataFrame.count.html) - produces a pandas Series with the count of nonempty cells in each column\n",
    "- [`min(),max(),mean(),mode(),median(),std(),var()`]() similar to count() produce a Series with the relevant columnwise operation\n",
    "- [`corr() and cov()`]() produce a correlation and variance/covariance matrix for the numerical columns of the DataFrame respectively.\n",
    "- [`data.info()`](https://pandas.pydata.org/pandas-docs/stable/reference/api/pandas.DataFrame.info.html) - provides summarized information on the dataframe including the dimensons, data types and number of nonempty cells"
   ]
  },
  {
   "cell_type": "code",
   "execution_count": 2,
   "metadata": {
    "ExecuteTime": {
     "end_time": "2020-02-12T22:36:22.049476Z",
     "start_time": "2020-02-12T22:36:20.821448Z"
    },
    "colab": {},
    "colab_type": "code",
    "id": "FloX8NRTvswJ"
   },
   "outputs": [],
   "source": [
    "data=pd.read_csv(\"https://raw.githubusercontent.com/HrantDavtyan/DSS/master/car_data.csv\")\n",
    "#pd.read_excel(\"some_excel_file.xlsx\")"
   ]
  },
  {
   "cell_type": "code",
   "execution_count": 3,
   "metadata": {
    "ExecuteTime": {
     "end_time": "2020-02-12T22:36:22.102344Z",
     "start_time": "2020-02-12T22:36:22.053466Z"
    },
    "colab": {
     "base_uri": "https://localhost:8080/",
     "height": 210
    },
    "colab_type": "code",
    "id": "qxq-34LLE9wi",
    "outputId": "94105d7b-f6ba-4ec8-fddb-6bcc5f73a245"
   },
   "outputs": [
    {
     "data": {
      "text/html": [
       "<div>\n",
       "<style scoped>\n",
       "    .dataframe tbody tr th:only-of-type {\n",
       "        vertical-align: middle;\n",
       "    }\n",
       "\n",
       "    .dataframe tbody tr th {\n",
       "        vertical-align: top;\n",
       "    }\n",
       "\n",
       "    .dataframe thead th {\n",
       "        text-align: right;\n",
       "    }\n",
       "</style>\n",
       "<table border=\"1\" class=\"dataframe\">\n",
       "  <thead>\n",
       "    <tr style=\"text-align: right;\">\n",
       "      <th></th>\n",
       "      <th>make</th>\n",
       "      <th>fuel_type</th>\n",
       "      <th>num_of_doors</th>\n",
       "      <th>body_style</th>\n",
       "      <th>drive_wheels</th>\n",
       "      <th>engine_location</th>\n",
       "      <th>wheel_base</th>\n",
       "      <th>length</th>\n",
       "      <th>width</th>\n",
       "      <th>height</th>\n",
       "      <th>...</th>\n",
       "      <th>engine_size</th>\n",
       "      <th>fuel_system</th>\n",
       "      <th>bore</th>\n",
       "      <th>stroke</th>\n",
       "      <th>compression_ratio</th>\n",
       "      <th>horsepower</th>\n",
       "      <th>peak_rpm</th>\n",
       "      <th>city_mpg</th>\n",
       "      <th>highway_mpg</th>\n",
       "      <th>price</th>\n",
       "    </tr>\n",
       "  </thead>\n",
       "  <tbody>\n",
       "    <tr>\n",
       "      <td>0</td>\n",
       "      <td>alfa-romero</td>\n",
       "      <td>gas</td>\n",
       "      <td>two</td>\n",
       "      <td>convertible</td>\n",
       "      <td>rwd</td>\n",
       "      <td>front</td>\n",
       "      <td>88.6</td>\n",
       "      <td>168.8</td>\n",
       "      <td>64.1</td>\n",
       "      <td>48.8</td>\n",
       "      <td>...</td>\n",
       "      <td>130</td>\n",
       "      <td>mpfi</td>\n",
       "      <td>3.47</td>\n",
       "      <td>2.68</td>\n",
       "      <td>9.0</td>\n",
       "      <td>111</td>\n",
       "      <td>5000</td>\n",
       "      <td>21</td>\n",
       "      <td>27</td>\n",
       "      <td>13495</td>\n",
       "    </tr>\n",
       "    <tr>\n",
       "      <td>1</td>\n",
       "      <td>alfa-romero</td>\n",
       "      <td>gas</td>\n",
       "      <td>two</td>\n",
       "      <td>convertible</td>\n",
       "      <td>rwd</td>\n",
       "      <td>front</td>\n",
       "      <td>88.6</td>\n",
       "      <td>168.8</td>\n",
       "      <td>64.1</td>\n",
       "      <td>48.8</td>\n",
       "      <td>...</td>\n",
       "      <td>130</td>\n",
       "      <td>mpfi</td>\n",
       "      <td>3.47</td>\n",
       "      <td>2.68</td>\n",
       "      <td>9.0</td>\n",
       "      <td>111</td>\n",
       "      <td>5000</td>\n",
       "      <td>21</td>\n",
       "      <td>27</td>\n",
       "      <td>16500</td>\n",
       "    </tr>\n",
       "    <tr>\n",
       "      <td>2</td>\n",
       "      <td>alfa-romero</td>\n",
       "      <td>gas</td>\n",
       "      <td>two</td>\n",
       "      <td>hatchback</td>\n",
       "      <td>rwd</td>\n",
       "      <td>front</td>\n",
       "      <td>94.5</td>\n",
       "      <td>171.2</td>\n",
       "      <td>65.5</td>\n",
       "      <td>52.4</td>\n",
       "      <td>...</td>\n",
       "      <td>152</td>\n",
       "      <td>mpfi</td>\n",
       "      <td>2.68</td>\n",
       "      <td>3.47</td>\n",
       "      <td>9.0</td>\n",
       "      <td>154</td>\n",
       "      <td>5000</td>\n",
       "      <td>19</td>\n",
       "      <td>26</td>\n",
       "      <td>16500</td>\n",
       "    </tr>\n",
       "  </tbody>\n",
       "</table>\n",
       "<p>3 rows × 23 columns</p>\n",
       "</div>"
      ],
      "text/plain": [
       "          make fuel_type num_of_doors   body_style drive_wheels  \\\n",
       "0  alfa-romero       gas          two  convertible          rwd   \n",
       "1  alfa-romero       gas          two  convertible          rwd   \n",
       "2  alfa-romero       gas          two    hatchback          rwd   \n",
       "\n",
       "  engine_location  wheel_base  length  width  height  ...  engine_size  \\\n",
       "0           front        88.6   168.8   64.1    48.8  ...          130   \n",
       "1           front        88.6   168.8   64.1    48.8  ...          130   \n",
       "2           front        94.5   171.2   65.5    52.4  ...          152   \n",
       "\n",
       "  fuel_system  bore  stroke compression_ratio  horsepower  peak_rpm  city_mpg  \\\n",
       "0        mpfi  3.47    2.68               9.0         111      5000        21   \n",
       "1        mpfi  3.47    2.68               9.0         111      5000        21   \n",
       "2        mpfi  2.68    3.47               9.0         154      5000        19   \n",
       "\n",
       "   highway_mpg  price  \n",
       "0           27  13495  \n",
       "1           27  16500  \n",
       "2           26  16500  \n",
       "\n",
       "[3 rows x 23 columns]"
      ]
     },
     "execution_count": 3,
     "metadata": {},
     "output_type": "execute_result"
    }
   ],
   "source": [
    "data.head(n=3)"
   ]
  },
  {
   "cell_type": "code",
   "execution_count": 4,
   "metadata": {
    "ExecuteTime": {
     "end_time": "2020-02-12T22:36:22.135248Z",
     "start_time": "2020-02-12T22:36:22.107321Z"
    },
    "colab": {
     "base_uri": "https://localhost:8080/",
     "height": 158
    },
    "colab_type": "code",
    "id": "a3lm-SPyE9zX",
    "outputId": "4fcc77f5-cf23-46ee-92a5-cc350ae0f1ce"
   },
   "outputs": [
    {
     "data": {
      "text/html": [
       "<div>\n",
       "<style scoped>\n",
       "    .dataframe tbody tr th:only-of-type {\n",
       "        vertical-align: middle;\n",
       "    }\n",
       "\n",
       "    .dataframe tbody tr th {\n",
       "        vertical-align: top;\n",
       "    }\n",
       "\n",
       "    .dataframe thead th {\n",
       "        text-align: right;\n",
       "    }\n",
       "</style>\n",
       "<table border=\"1\" class=\"dataframe\">\n",
       "  <thead>\n",
       "    <tr style=\"text-align: right;\">\n",
       "      <th></th>\n",
       "      <th>make</th>\n",
       "      <th>fuel_type</th>\n",
       "      <th>num_of_doors</th>\n",
       "      <th>body_style</th>\n",
       "      <th>drive_wheels</th>\n",
       "      <th>engine_location</th>\n",
       "      <th>wheel_base</th>\n",
       "      <th>length</th>\n",
       "      <th>width</th>\n",
       "      <th>height</th>\n",
       "      <th>...</th>\n",
       "      <th>engine_size</th>\n",
       "      <th>fuel_system</th>\n",
       "      <th>bore</th>\n",
       "      <th>stroke</th>\n",
       "      <th>compression_ratio</th>\n",
       "      <th>horsepower</th>\n",
       "      <th>peak_rpm</th>\n",
       "      <th>city_mpg</th>\n",
       "      <th>highway_mpg</th>\n",
       "      <th>price</th>\n",
       "    </tr>\n",
       "  </thead>\n",
       "  <tbody>\n",
       "    <tr>\n",
       "      <td>190</td>\n",
       "      <td>volvo</td>\n",
       "      <td>gas</td>\n",
       "      <td>four</td>\n",
       "      <td>sedan</td>\n",
       "      <td>rwd</td>\n",
       "      <td>front</td>\n",
       "      <td>109.1</td>\n",
       "      <td>188.8</td>\n",
       "      <td>68.9</td>\n",
       "      <td>55.5</td>\n",
       "      <td>...</td>\n",
       "      <td>173</td>\n",
       "      <td>mpfi</td>\n",
       "      <td>3.58</td>\n",
       "      <td>2.87</td>\n",
       "      <td>8.8</td>\n",
       "      <td>134</td>\n",
       "      <td>5500</td>\n",
       "      <td>18</td>\n",
       "      <td>23</td>\n",
       "      <td>21485</td>\n",
       "    </tr>\n",
       "    <tr>\n",
       "      <td>191</td>\n",
       "      <td>volvo</td>\n",
       "      <td>diesel</td>\n",
       "      <td>four</td>\n",
       "      <td>sedan</td>\n",
       "      <td>rwd</td>\n",
       "      <td>front</td>\n",
       "      <td>109.1</td>\n",
       "      <td>188.8</td>\n",
       "      <td>68.9</td>\n",
       "      <td>55.5</td>\n",
       "      <td>...</td>\n",
       "      <td>145</td>\n",
       "      <td>idi</td>\n",
       "      <td>3.01</td>\n",
       "      <td>3.40</td>\n",
       "      <td>23.0</td>\n",
       "      <td>106</td>\n",
       "      <td>4800</td>\n",
       "      <td>26</td>\n",
       "      <td>27</td>\n",
       "      <td>22470</td>\n",
       "    </tr>\n",
       "    <tr>\n",
       "      <td>192</td>\n",
       "      <td>volvo</td>\n",
       "      <td>gas</td>\n",
       "      <td>four</td>\n",
       "      <td>sedan</td>\n",
       "      <td>rwd</td>\n",
       "      <td>front</td>\n",
       "      <td>109.1</td>\n",
       "      <td>188.8</td>\n",
       "      <td>68.9</td>\n",
       "      <td>55.5</td>\n",
       "      <td>...</td>\n",
       "      <td>141</td>\n",
       "      <td>mpfi</td>\n",
       "      <td>3.78</td>\n",
       "      <td>3.15</td>\n",
       "      <td>9.5</td>\n",
       "      <td>114</td>\n",
       "      <td>5400</td>\n",
       "      <td>19</td>\n",
       "      <td>25</td>\n",
       "      <td>22625</td>\n",
       "    </tr>\n",
       "  </tbody>\n",
       "</table>\n",
       "<p>3 rows × 23 columns</p>\n",
       "</div>"
      ],
      "text/plain": [
       "      make fuel_type num_of_doors body_style drive_wheels engine_location  \\\n",
       "190  volvo       gas         four      sedan          rwd           front   \n",
       "191  volvo    diesel         four      sedan          rwd           front   \n",
       "192  volvo       gas         four      sedan          rwd           front   \n",
       "\n",
       "     wheel_base  length  width  height  ...  engine_size fuel_system  bore  \\\n",
       "190       109.1   188.8   68.9    55.5  ...          173        mpfi  3.58   \n",
       "191       109.1   188.8   68.9    55.5  ...          145         idi  3.01   \n",
       "192       109.1   188.8   68.9    55.5  ...          141        mpfi  3.78   \n",
       "\n",
       "     stroke compression_ratio  horsepower  peak_rpm  city_mpg  highway_mpg  \\\n",
       "190    2.87               8.8         134      5500        18           23   \n",
       "191    3.40              23.0         106      4800        26           27   \n",
       "192    3.15               9.5         114      5400        19           25   \n",
       "\n",
       "     price  \n",
       "190  21485  \n",
       "191  22470  \n",
       "192  22625  \n",
       "\n",
       "[3 rows x 23 columns]"
      ]
     },
     "execution_count": 4,
     "metadata": {},
     "output_type": "execute_result"
    }
   ],
   "source": [
    "data.tail(n=3)"
   ]
  },
  {
   "cell_type": "code",
   "execution_count": 5,
   "metadata": {
    "ExecuteTime": {
     "end_time": "2020-02-12T22:36:24.516572Z",
     "start_time": "2020-02-12T22:36:24.509591Z"
    },
    "colab": {
     "base_uri": "https://localhost:8080/",
     "height": 35
    },
    "colab_type": "code",
    "id": "DGbYAmyzFJ3W",
    "outputId": "750a6975-39f9-4e2b-f0bf-472f7d3d7bf9"
   },
   "outputs": [
    {
     "data": {
      "text/plain": [
       "(193, 23)"
      ]
     },
     "execution_count": 5,
     "metadata": {},
     "output_type": "execute_result"
    }
   ],
   "source": [
    "data.shape"
   ]
  },
  {
   "cell_type": "code",
   "execution_count": 6,
   "metadata": {
    "ExecuteTime": {
     "end_time": "2020-02-12T22:36:24.778783Z",
     "start_time": "2020-02-12T22:36:24.761845Z"
    },
    "colab": {
     "base_uri": "https://localhost:8080/",
     "height": 526
    },
    "colab_type": "code",
    "id": "OVg-9MR-FLLa",
    "outputId": "aaccb1ff-7f7c-4775-8a59-841be77aabd2"
   },
   "outputs": [
    {
     "name": "stdout",
     "output_type": "stream",
     "text": [
      "<class 'pandas.core.frame.DataFrame'>\n",
      "RangeIndex: 193 entries, 0 to 192\n",
      "Data columns (total 23 columns):\n",
      "make                 193 non-null object\n",
      "fuel_type            193 non-null object\n",
      "num_of_doors         193 non-null object\n",
      "body_style           193 non-null object\n",
      "drive_wheels         193 non-null object\n",
      "engine_location      193 non-null object\n",
      "wheel_base           193 non-null float64\n",
      "length               193 non-null float64\n",
      "width                193 non-null float64\n",
      "height               193 non-null float64\n",
      "curb_weight          193 non-null int64\n",
      "engine_type          193 non-null object\n",
      "num_of_cylinders     193 non-null object\n",
      "engine_size          193 non-null int64\n",
      "fuel_system          193 non-null object\n",
      "bore                 193 non-null float64\n",
      "stroke               193 non-null float64\n",
      "compression_ratio    193 non-null float64\n",
      "horsepower           193 non-null int64\n",
      "peak_rpm             193 non-null int64\n",
      "city_mpg             193 non-null int64\n",
      "highway_mpg          193 non-null int64\n",
      "price                193 non-null int64\n",
      "dtypes: float64(7), int64(7), object(9)\n",
      "memory usage: 34.8+ KB\n"
     ]
    }
   ],
   "source": [
    "data.info()"
   ]
  },
  {
   "cell_type": "code",
   "execution_count": 7,
   "metadata": {
    "ExecuteTime": {
     "end_time": "2020-02-12T22:36:24.973390Z",
     "start_time": "2020-02-12T22:36:24.962455Z"
    },
    "colab": {
     "base_uri": "https://localhost:8080/",
     "height": 454
    },
    "colab_type": "code",
    "id": "fIJOzeuWFOE9",
    "outputId": "c91de60f-111d-48d0-d4bd-f8daa2c2dc7e"
   },
   "outputs": [
    {
     "data": {
      "text/plain": [
       "make                 193\n",
       "fuel_type            193\n",
       "num_of_doors         193\n",
       "body_style           193\n",
       "drive_wheels         193\n",
       "engine_location      193\n",
       "wheel_base           193\n",
       "length               193\n",
       "width                193\n",
       "height               193\n",
       "curb_weight          193\n",
       "engine_type          193\n",
       "num_of_cylinders     193\n",
       "engine_size          193\n",
       "fuel_system          193\n",
       "bore                 193\n",
       "stroke               193\n",
       "compression_ratio    193\n",
       "horsepower           193\n",
       "peak_rpm             193\n",
       "city_mpg             193\n",
       "highway_mpg          193\n",
       "price                193\n",
       "dtype: int64"
      ]
     },
     "execution_count": 7,
     "metadata": {},
     "output_type": "execute_result"
    }
   ],
   "source": [
    "data.count()\n",
    "#data.max()\n",
    "#data.min()\n",
    "#data.mean()\n",
    "#data.mode()\n",
    "#data.median()\n",
    "#data.std()\n",
    "#data.var()\n",
    "#data.corr()\n",
    "#data.cov()"
   ]
  },
  {
   "cell_type": "code",
   "execution_count": 8,
   "metadata": {
    "ExecuteTime": {
     "end_time": "2020-02-12T22:36:25.232697Z",
     "start_time": "2020-02-12T22:36:25.154905Z"
    },
    "colab": {
     "base_uri": "https://localhost:8080/",
     "height": 288
    },
    "colab_type": "code",
    "id": "RQwC_UbWFPd0",
    "outputId": "9a280ec0-0596-454d-980c-c87ee3452d1b"
   },
   "outputs": [
    {
     "data": {
      "text/html": [
       "<div>\n",
       "<style scoped>\n",
       "    .dataframe tbody tr th:only-of-type {\n",
       "        vertical-align: middle;\n",
       "    }\n",
       "\n",
       "    .dataframe tbody tr th {\n",
       "        vertical-align: top;\n",
       "    }\n",
       "\n",
       "    .dataframe thead th {\n",
       "        text-align: right;\n",
       "    }\n",
       "</style>\n",
       "<table border=\"1\" class=\"dataframe\">\n",
       "  <thead>\n",
       "    <tr style=\"text-align: right;\">\n",
       "      <th></th>\n",
       "      <th>wheel_base</th>\n",
       "      <th>length</th>\n",
       "      <th>width</th>\n",
       "      <th>height</th>\n",
       "      <th>curb_weight</th>\n",
       "      <th>engine_size</th>\n",
       "      <th>bore</th>\n",
       "      <th>stroke</th>\n",
       "      <th>compression_ratio</th>\n",
       "      <th>horsepower</th>\n",
       "      <th>peak_rpm</th>\n",
       "      <th>city_mpg</th>\n",
       "      <th>highway_mpg</th>\n",
       "      <th>price</th>\n",
       "    </tr>\n",
       "  </thead>\n",
       "  <tbody>\n",
       "    <tr>\n",
       "      <td>count</td>\n",
       "      <td>193.000000</td>\n",
       "      <td>193.000000</td>\n",
       "      <td>193.000000</td>\n",
       "      <td>193.000000</td>\n",
       "      <td>193.000000</td>\n",
       "      <td>193.000000</td>\n",
       "      <td>193.000000</td>\n",
       "      <td>193.000000</td>\n",
       "      <td>193.000000</td>\n",
       "      <td>193.000000</td>\n",
       "      <td>193.000000</td>\n",
       "      <td>193.000000</td>\n",
       "      <td>193.000000</td>\n",
       "      <td>193.000000</td>\n",
       "    </tr>\n",
       "    <tr>\n",
       "      <td>mean</td>\n",
       "      <td>98.923834</td>\n",
       "      <td>174.326425</td>\n",
       "      <td>65.893782</td>\n",
       "      <td>53.869948</td>\n",
       "      <td>2561.507772</td>\n",
       "      <td>128.124352</td>\n",
       "      <td>3.330622</td>\n",
       "      <td>3.248860</td>\n",
       "      <td>10.143627</td>\n",
       "      <td>103.481865</td>\n",
       "      <td>5099.740933</td>\n",
       "      <td>25.326425</td>\n",
       "      <td>30.787565</td>\n",
       "      <td>13285.025907</td>\n",
       "    </tr>\n",
       "    <tr>\n",
       "      <td>std</td>\n",
       "      <td>6.152409</td>\n",
       "      <td>12.478593</td>\n",
       "      <td>2.137795</td>\n",
       "      <td>2.394770</td>\n",
       "      <td>526.700026</td>\n",
       "      <td>41.590452</td>\n",
       "      <td>0.272385</td>\n",
       "      <td>0.315421</td>\n",
       "      <td>3.977491</td>\n",
       "      <td>37.960107</td>\n",
       "      <td>468.694369</td>\n",
       "      <td>6.387828</td>\n",
       "      <td>6.816910</td>\n",
       "      <td>8089.082886</td>\n",
       "    </tr>\n",
       "    <tr>\n",
       "      <td>min</td>\n",
       "      <td>86.600000</td>\n",
       "      <td>141.100000</td>\n",
       "      <td>60.300000</td>\n",
       "      <td>47.800000</td>\n",
       "      <td>1488.000000</td>\n",
       "      <td>61.000000</td>\n",
       "      <td>2.540000</td>\n",
       "      <td>2.070000</td>\n",
       "      <td>7.000000</td>\n",
       "      <td>48.000000</td>\n",
       "      <td>4150.000000</td>\n",
       "      <td>13.000000</td>\n",
       "      <td>16.000000</td>\n",
       "      <td>5118.000000</td>\n",
       "    </tr>\n",
       "    <tr>\n",
       "      <td>25%</td>\n",
       "      <td>94.500000</td>\n",
       "      <td>166.300000</td>\n",
       "      <td>64.100000</td>\n",
       "      <td>52.000000</td>\n",
       "      <td>2145.000000</td>\n",
       "      <td>98.000000</td>\n",
       "      <td>3.150000</td>\n",
       "      <td>3.110000</td>\n",
       "      <td>8.500000</td>\n",
       "      <td>70.000000</td>\n",
       "      <td>4800.000000</td>\n",
       "      <td>19.000000</td>\n",
       "      <td>25.000000</td>\n",
       "      <td>7738.000000</td>\n",
       "    </tr>\n",
       "    <tr>\n",
       "      <td>50%</td>\n",
       "      <td>97.000000</td>\n",
       "      <td>173.200000</td>\n",
       "      <td>65.400000</td>\n",
       "      <td>54.100000</td>\n",
       "      <td>2414.000000</td>\n",
       "      <td>120.000000</td>\n",
       "      <td>3.310000</td>\n",
       "      <td>3.290000</td>\n",
       "      <td>9.000000</td>\n",
       "      <td>95.000000</td>\n",
       "      <td>5100.000000</td>\n",
       "      <td>25.000000</td>\n",
       "      <td>30.000000</td>\n",
       "      <td>10245.000000</td>\n",
       "    </tr>\n",
       "    <tr>\n",
       "      <td>75%</td>\n",
       "      <td>102.400000</td>\n",
       "      <td>184.600000</td>\n",
       "      <td>66.900000</td>\n",
       "      <td>55.700000</td>\n",
       "      <td>2952.000000</td>\n",
       "      <td>146.000000</td>\n",
       "      <td>3.590000</td>\n",
       "      <td>3.410000</td>\n",
       "      <td>9.400000</td>\n",
       "      <td>116.000000</td>\n",
       "      <td>5500.000000</td>\n",
       "      <td>30.000000</td>\n",
       "      <td>34.000000</td>\n",
       "      <td>16515.000000</td>\n",
       "    </tr>\n",
       "    <tr>\n",
       "      <td>max</td>\n",
       "      <td>120.900000</td>\n",
       "      <td>208.100000</td>\n",
       "      <td>72.000000</td>\n",
       "      <td>59.800000</td>\n",
       "      <td>4066.000000</td>\n",
       "      <td>326.000000</td>\n",
       "      <td>3.940000</td>\n",
       "      <td>4.170000</td>\n",
       "      <td>23.000000</td>\n",
       "      <td>262.000000</td>\n",
       "      <td>6600.000000</td>\n",
       "      <td>49.000000</td>\n",
       "      <td>54.000000</td>\n",
       "      <td>45400.000000</td>\n",
       "    </tr>\n",
       "  </tbody>\n",
       "</table>\n",
       "</div>"
      ],
      "text/plain": [
       "       wheel_base      length       width      height  curb_weight  \\\n",
       "count  193.000000  193.000000  193.000000  193.000000   193.000000   \n",
       "mean    98.923834  174.326425   65.893782   53.869948  2561.507772   \n",
       "std      6.152409   12.478593    2.137795    2.394770   526.700026   \n",
       "min     86.600000  141.100000   60.300000   47.800000  1488.000000   \n",
       "25%     94.500000  166.300000   64.100000   52.000000  2145.000000   \n",
       "50%     97.000000  173.200000   65.400000   54.100000  2414.000000   \n",
       "75%    102.400000  184.600000   66.900000   55.700000  2952.000000   \n",
       "max    120.900000  208.100000   72.000000   59.800000  4066.000000   \n",
       "\n",
       "       engine_size        bore      stroke  compression_ratio  horsepower  \\\n",
       "count   193.000000  193.000000  193.000000         193.000000  193.000000   \n",
       "mean    128.124352    3.330622    3.248860          10.143627  103.481865   \n",
       "std      41.590452    0.272385    0.315421           3.977491   37.960107   \n",
       "min      61.000000    2.540000    2.070000           7.000000   48.000000   \n",
       "25%      98.000000    3.150000    3.110000           8.500000   70.000000   \n",
       "50%     120.000000    3.310000    3.290000           9.000000   95.000000   \n",
       "75%     146.000000    3.590000    3.410000           9.400000  116.000000   \n",
       "max     326.000000    3.940000    4.170000          23.000000  262.000000   \n",
       "\n",
       "          peak_rpm    city_mpg  highway_mpg         price  \n",
       "count   193.000000  193.000000   193.000000    193.000000  \n",
       "mean   5099.740933   25.326425    30.787565  13285.025907  \n",
       "std     468.694369    6.387828     6.816910   8089.082886  \n",
       "min    4150.000000   13.000000    16.000000   5118.000000  \n",
       "25%    4800.000000   19.000000    25.000000   7738.000000  \n",
       "50%    5100.000000   25.000000    30.000000  10245.000000  \n",
       "75%    5500.000000   30.000000    34.000000  16515.000000  \n",
       "max    6600.000000   49.000000    54.000000  45400.000000  "
      ]
     },
     "execution_count": 8,
     "metadata": {},
     "output_type": "execute_result"
    }
   ],
   "source": [
    "data.describe()"
   ]
  },
  {
   "cell_type": "markdown",
   "metadata": {
    "colab_type": "text",
    "id": "JM5zbDuOvs6c"
   },
   "source": [
    "# Pandas: subsetting, droping, reindexing, renaming\n",
    "\n",
    "- [data.column_name and data[\"column_name\"]]() allow to select a single column from a DataFrame\n",
    "- data[ [\"column_1\",\"column_2\"] ] allows to subset several (in this case two) columns from the DataFrame\n",
    "- [data.iloc[]]() - allows subsetting rows and columns of a  DataFrame using indicies\n",
    "- [data.loc[]]() - allows subsetting rows and columns both with indecies and labels\n",
    "- [data[]]() and data.loc[] support subsettin with logical (conditional) statements"
   ]
  },
  {
   "cell_type": "code",
   "execution_count": 9,
   "metadata": {
    "ExecuteTime": {
     "end_time": "2020-02-12T22:36:25.483421Z",
     "start_time": "2020-02-12T22:36:25.475478Z"
    },
    "colab": {
     "base_uri": "https://localhost:8080/",
     "height": 126
    },
    "colab_type": "code",
    "id": "GBA80MAbvyar",
    "outputId": "af18c641-4ea7-4da6-add5-e2b628a80140"
   },
   "outputs": [
    {
     "data": {
      "text/plain": [
       "0    alfa-romero\n",
       "1    alfa-romero\n",
       "2    alfa-romero\n",
       "3           audi\n",
       "4           audi\n",
       "Name: make, dtype: object"
      ]
     },
     "execution_count": 9,
     "metadata": {},
     "output_type": "execute_result"
    }
   ],
   "source": [
    "data.make.head()"
   ]
  },
  {
   "cell_type": "code",
   "execution_count": 10,
   "metadata": {
    "ExecuteTime": {
     "end_time": "2020-02-12T22:36:25.672283Z",
     "start_time": "2020-02-12T22:36:25.662310Z"
    },
    "colab": {
     "base_uri": "https://localhost:8080/",
     "height": 126
    },
    "colab_type": "code",
    "id": "rlLyBbzeNcUJ",
    "outputId": "509487b8-7607-4969-eb3e-3bed4d714f06"
   },
   "outputs": [
    {
     "data": {
      "text/plain": [
       "0    alfa-romero\n",
       "1    alfa-romero\n",
       "2    alfa-romero\n",
       "3           audi\n",
       "4           audi\n",
       "Name: make, dtype: object"
      ]
     },
     "execution_count": 10,
     "metadata": {},
     "output_type": "execute_result"
    }
   ],
   "source": [
    "data[\"make\"].head()"
   ]
  },
  {
   "cell_type": "code",
   "execution_count": 11,
   "metadata": {
    "ExecuteTime": {
     "end_time": "2020-02-12T22:36:25.921876Z",
     "start_time": "2020-02-12T22:36:25.906916Z"
    },
    "colab": {
     "base_uri": "https://localhost:8080/",
     "height": 198
    },
    "colab_type": "code",
    "id": "7ei6wEpLNelW",
    "outputId": "f072f432-663f-4b23-d0e2-f6fe04610f25"
   },
   "outputs": [
    {
     "data": {
      "text/html": [
       "<div>\n",
       "<style scoped>\n",
       "    .dataframe tbody tr th:only-of-type {\n",
       "        vertical-align: middle;\n",
       "    }\n",
       "\n",
       "    .dataframe tbody tr th {\n",
       "        vertical-align: top;\n",
       "    }\n",
       "\n",
       "    .dataframe thead th {\n",
       "        text-align: right;\n",
       "    }\n",
       "</style>\n",
       "<table border=\"1\" class=\"dataframe\">\n",
       "  <thead>\n",
       "    <tr style=\"text-align: right;\">\n",
       "      <th></th>\n",
       "      <th>make</th>\n",
       "      <th>price</th>\n",
       "    </tr>\n",
       "  </thead>\n",
       "  <tbody>\n",
       "    <tr>\n",
       "      <td>0</td>\n",
       "      <td>alfa-romero</td>\n",
       "      <td>13495</td>\n",
       "    </tr>\n",
       "    <tr>\n",
       "      <td>1</td>\n",
       "      <td>alfa-romero</td>\n",
       "      <td>16500</td>\n",
       "    </tr>\n",
       "    <tr>\n",
       "      <td>2</td>\n",
       "      <td>alfa-romero</td>\n",
       "      <td>16500</td>\n",
       "    </tr>\n",
       "    <tr>\n",
       "      <td>3</td>\n",
       "      <td>audi</td>\n",
       "      <td>13950</td>\n",
       "    </tr>\n",
       "    <tr>\n",
       "      <td>4</td>\n",
       "      <td>audi</td>\n",
       "      <td>17450</td>\n",
       "    </tr>\n",
       "  </tbody>\n",
       "</table>\n",
       "</div>"
      ],
      "text/plain": [
       "          make  price\n",
       "0  alfa-romero  13495\n",
       "1  alfa-romero  16500\n",
       "2  alfa-romero  16500\n",
       "3         audi  13950\n",
       "4         audi  17450"
      ]
     },
     "execution_count": 11,
     "metadata": {},
     "output_type": "execute_result"
    }
   ],
   "source": [
    "data[[\"make\",\"price\"]].head()"
   ]
  },
  {
   "cell_type": "code",
   "execution_count": 12,
   "metadata": {
    "ExecuteTime": {
     "end_time": "2020-02-12T22:36:26.119347Z",
     "start_time": "2020-02-12T22:36:26.106427Z"
    },
    "colab": {
     "base_uri": "https://localhost:8080/",
     "height": 198
    },
    "colab_type": "code",
    "id": "rBLmc7hFNy8d",
    "outputId": "f6fe176b-24d4-44d2-f084-a9894a068eb5"
   },
   "outputs": [
    {
     "data": {
      "text/html": [
       "<div>\n",
       "<style scoped>\n",
       "    .dataframe tbody tr th:only-of-type {\n",
       "        vertical-align: middle;\n",
       "    }\n",
       "\n",
       "    .dataframe tbody tr th {\n",
       "        vertical-align: top;\n",
       "    }\n",
       "\n",
       "    .dataframe thead th {\n",
       "        text-align: right;\n",
       "    }\n",
       "</style>\n",
       "<table border=\"1\" class=\"dataframe\">\n",
       "  <thead>\n",
       "    <tr style=\"text-align: right;\">\n",
       "      <th></th>\n",
       "      <th>make</th>\n",
       "      <th>price</th>\n",
       "    </tr>\n",
       "  </thead>\n",
       "  <tbody>\n",
       "    <tr>\n",
       "      <td>0</td>\n",
       "      <td>alfa-romero</td>\n",
       "      <td>13495</td>\n",
       "    </tr>\n",
       "    <tr>\n",
       "      <td>1</td>\n",
       "      <td>alfa-romero</td>\n",
       "      <td>16500</td>\n",
       "    </tr>\n",
       "    <tr>\n",
       "      <td>2</td>\n",
       "      <td>alfa-romero</td>\n",
       "      <td>16500</td>\n",
       "    </tr>\n",
       "    <tr>\n",
       "      <td>3</td>\n",
       "      <td>audi</td>\n",
       "      <td>13950</td>\n",
       "    </tr>\n",
       "    <tr>\n",
       "      <td>4</td>\n",
       "      <td>audi</td>\n",
       "      <td>17450</td>\n",
       "    </tr>\n",
       "  </tbody>\n",
       "</table>\n",
       "</div>"
      ],
      "text/plain": [
       "          make  price\n",
       "0  alfa-romero  13495\n",
       "1  alfa-romero  16500\n",
       "2  alfa-romero  16500\n",
       "3         audi  13950\n",
       "4         audi  17450"
      ]
     },
     "execution_count": 12,
     "metadata": {},
     "output_type": "execute_result"
    }
   ],
   "source": [
    "data.iloc[0:5,[0,-1]]"
   ]
  },
  {
   "cell_type": "code",
   "execution_count": 13,
   "metadata": {
    "ExecuteTime": {
     "end_time": "2020-02-12T22:36:26.291889Z",
     "start_time": "2020-02-12T22:36:26.278922Z"
    },
    "colab": {
     "base_uri": "https://localhost:8080/",
     "height": 198
    },
    "colab_type": "code",
    "id": "gO3Hn9VoNsiK",
    "outputId": "941ec03f-f88b-4370-f2a9-4a300def82d2"
   },
   "outputs": [
    {
     "data": {
      "text/html": [
       "<div>\n",
       "<style scoped>\n",
       "    .dataframe tbody tr th:only-of-type {\n",
       "        vertical-align: middle;\n",
       "    }\n",
       "\n",
       "    .dataframe tbody tr th {\n",
       "        vertical-align: top;\n",
       "    }\n",
       "\n",
       "    .dataframe thead th {\n",
       "        text-align: right;\n",
       "    }\n",
       "</style>\n",
       "<table border=\"1\" class=\"dataframe\">\n",
       "  <thead>\n",
       "    <tr style=\"text-align: right;\">\n",
       "      <th></th>\n",
       "      <th>make</th>\n",
       "      <th>price</th>\n",
       "    </tr>\n",
       "  </thead>\n",
       "  <tbody>\n",
       "    <tr>\n",
       "      <td>0</td>\n",
       "      <td>alfa-romero</td>\n",
       "      <td>13495</td>\n",
       "    </tr>\n",
       "    <tr>\n",
       "      <td>1</td>\n",
       "      <td>alfa-romero</td>\n",
       "      <td>16500</td>\n",
       "    </tr>\n",
       "    <tr>\n",
       "      <td>2</td>\n",
       "      <td>alfa-romero</td>\n",
       "      <td>16500</td>\n",
       "    </tr>\n",
       "    <tr>\n",
       "      <td>3</td>\n",
       "      <td>audi</td>\n",
       "      <td>13950</td>\n",
       "    </tr>\n",
       "    <tr>\n",
       "      <td>4</td>\n",
       "      <td>audi</td>\n",
       "      <td>17450</td>\n",
       "    </tr>\n",
       "  </tbody>\n",
       "</table>\n",
       "</div>"
      ],
      "text/plain": [
       "          make  price\n",
       "0  alfa-romero  13495\n",
       "1  alfa-romero  16500\n",
       "2  alfa-romero  16500\n",
       "3         audi  13950\n",
       "4         audi  17450"
      ]
     },
     "execution_count": 13,
     "metadata": {},
     "output_type": "execute_result"
    }
   ],
   "source": [
    "data.loc[0:4,[\"make\",\"price\"]]"
   ]
  },
  {
   "cell_type": "code",
   "execution_count": 14,
   "metadata": {
    "ExecuteTime": {
     "end_time": "2020-02-12T22:36:26.469617Z",
     "start_time": "2020-02-12T22:36:26.458646Z"
    },
    "colab": {
     "base_uri": "https://localhost:8080/",
     "height": 145
    },
    "colab_type": "code",
    "id": "vW6RRqzHYL7Z",
    "outputId": "aa7cee58-c2e6-49d8-c38f-784563da2eec"
   },
   "outputs": [
    {
     "data": {
      "text/plain": [
       "3    13950\n",
       "4    17450\n",
       "5    15250\n",
       "6    17710\n",
       "7    18920\n",
       "8    23875\n",
       "Name: price, dtype: int64"
      ]
     },
     "execution_count": 14,
     "metadata": {},
     "output_type": "execute_result"
    }
   ],
   "source": [
    "data.price[data.make==\"audi\"]"
   ]
  },
  {
   "cell_type": "code",
   "execution_count": 15,
   "metadata": {
    "ExecuteTime": {
     "end_time": "2020-02-12T22:36:26.720999Z",
     "start_time": "2020-02-12T22:36:26.711024Z"
    },
    "colab": {
     "base_uri": "https://localhost:8080/",
     "height": 145
    },
    "colab_type": "code",
    "id": "kOvwBfjPYm_t",
    "outputId": "eb205ee7-c87c-44c6-8f85-df1e296fc1c4"
   },
   "outputs": [
    {
     "data": {
      "text/plain": [
       "3    13950\n",
       "4    17450\n",
       "5    15250\n",
       "6    17710\n",
       "7    18920\n",
       "8    23875\n",
       "Name: price, dtype: int64"
      ]
     },
     "execution_count": 15,
     "metadata": {},
     "output_type": "execute_result"
    }
   ],
   "source": [
    "data.loc[data.make==\"audi\",\"price\"]"
   ]
  },
  {
   "cell_type": "code",
   "execution_count": 16,
   "metadata": {
    "ExecuteTime": {
     "end_time": "2020-02-12T22:36:26.924250Z",
     "start_time": "2020-02-12T22:36:26.904302Z"
    },
    "colab": {
     "base_uri": "https://localhost:8080/",
     "height": 468
    },
    "colab_type": "code",
    "id": "lTWsrkgcYw5n",
    "outputId": "9b2c4e4c-7fbe-4171-ddfe-97d3efa0ed6f"
   },
   "outputs": [
    {
     "data": {
      "text/html": [
       "<div>\n",
       "<style scoped>\n",
       "    .dataframe tbody tr th:only-of-type {\n",
       "        vertical-align: middle;\n",
       "    }\n",
       "\n",
       "    .dataframe tbody tr th {\n",
       "        vertical-align: top;\n",
       "    }\n",
       "\n",
       "    .dataframe thead th {\n",
       "        text-align: right;\n",
       "    }\n",
       "</style>\n",
       "<table border=\"1\" class=\"dataframe\">\n",
       "  <thead>\n",
       "    <tr style=\"text-align: right;\">\n",
       "      <th></th>\n",
       "      <th>make</th>\n",
       "      <th>price</th>\n",
       "    </tr>\n",
       "  </thead>\n",
       "  <tbody>\n",
       "    <tr>\n",
       "      <td>3</td>\n",
       "      <td>audi</td>\n",
       "      <td>13950</td>\n",
       "    </tr>\n",
       "    <tr>\n",
       "      <td>4</td>\n",
       "      <td>audi</td>\n",
       "      <td>17450</td>\n",
       "    </tr>\n",
       "    <tr>\n",
       "      <td>5</td>\n",
       "      <td>audi</td>\n",
       "      <td>15250</td>\n",
       "    </tr>\n",
       "    <tr>\n",
       "      <td>6</td>\n",
       "      <td>audi</td>\n",
       "      <td>17710</td>\n",
       "    </tr>\n",
       "    <tr>\n",
       "      <td>7</td>\n",
       "      <td>audi</td>\n",
       "      <td>18920</td>\n",
       "    </tr>\n",
       "    <tr>\n",
       "      <td>8</td>\n",
       "      <td>audi</td>\n",
       "      <td>23875</td>\n",
       "    </tr>\n",
       "    <tr>\n",
       "      <td>9</td>\n",
       "      <td>bmw</td>\n",
       "      <td>16430</td>\n",
       "    </tr>\n",
       "    <tr>\n",
       "      <td>10</td>\n",
       "      <td>bmw</td>\n",
       "      <td>16925</td>\n",
       "    </tr>\n",
       "    <tr>\n",
       "      <td>11</td>\n",
       "      <td>bmw</td>\n",
       "      <td>20970</td>\n",
       "    </tr>\n",
       "    <tr>\n",
       "      <td>12</td>\n",
       "      <td>bmw</td>\n",
       "      <td>21105</td>\n",
       "    </tr>\n",
       "    <tr>\n",
       "      <td>13</td>\n",
       "      <td>bmw</td>\n",
       "      <td>24565</td>\n",
       "    </tr>\n",
       "    <tr>\n",
       "      <td>14</td>\n",
       "      <td>bmw</td>\n",
       "      <td>30760</td>\n",
       "    </tr>\n",
       "    <tr>\n",
       "      <td>15</td>\n",
       "      <td>bmw</td>\n",
       "      <td>41315</td>\n",
       "    </tr>\n",
       "    <tr>\n",
       "      <td>16</td>\n",
       "      <td>bmw</td>\n",
       "      <td>36880</td>\n",
       "    </tr>\n",
       "  </tbody>\n",
       "</table>\n",
       "</div>"
      ],
      "text/plain": [
       "    make  price\n",
       "3   audi  13950\n",
       "4   audi  17450\n",
       "5   audi  15250\n",
       "6   audi  17710\n",
       "7   audi  18920\n",
       "8   audi  23875\n",
       "9    bmw  16430\n",
       "10   bmw  16925\n",
       "11   bmw  20970\n",
       "12   bmw  21105\n",
       "13   bmw  24565\n",
       "14   bmw  30760\n",
       "15   bmw  41315\n",
       "16   bmw  36880"
      ]
     },
     "execution_count": 16,
     "metadata": {},
     "output_type": "execute_result"
    }
   ],
   "source": [
    "data.loc[(data.make==\"audi\") | (data.make==\"bmw\"),[\"make\",\"price\"]]"
   ]
  },
  {
   "cell_type": "markdown",
   "metadata": {
    "colab_type": "text",
    "id": "YU4znpPzw2lc"
   },
   "source": [
    "# Pandas: dataframe, merge, join, concatenate\n",
    "- [DataFrame()](https://pandas.pydata.org/pandas-docs/stable/reference/api/pandas.DataFrame.html) - create a dataframe by suppliying data and column names as an input (can be done using dictionaries)\n",
    "- [copy()](https://pandas.pydata.org/pandas-docs/stable/reference/api/pandas.DataFrame.copy.html) - copies the DataFrame\n",
    "- [concat()](https://pandas.pydata.org/pandas-docs/stable/reference/api/pandas.concat.html) - append one dataframe below the other (or sideways), takes list of dataframes as an input\n",
    "- [join()](https://pandas.pydata.org/pandas-docs/stable/reference/api/pandas.DataFrame.join.html) - merge two dataframes based on index (can as well be done with merge(left_index=True))\n",
    "- [merge()](https://pandas.pydata.org/pandas-docs/stable/reference/api/pandas.DataFrame.merge.html) - merge (inner, outer, left, right) two dataframe using a common (or prespecified) column or the index as the key"
   ]
  },
  {
   "cell_type": "code",
   "execution_count": 17,
   "metadata": {
    "ExecuteTime": {
     "end_time": "2020-02-12T22:36:27.293067Z",
     "start_time": "2020-02-12T22:36:27.281103Z"
    },
    "colab": {
     "base_uri": "https://localhost:8080/",
     "height": 108
    },
    "colab_type": "code",
    "id": "-OaCfXlzw24X",
    "outputId": "15b3c235-e55a-45b4-c0b9-e4ed5896c764"
   },
   "outputs": [
    {
     "data": {
      "text/html": [
       "<div>\n",
       "<style scoped>\n",
       "    .dataframe tbody tr th:only-of-type {\n",
       "        vertical-align: middle;\n",
       "    }\n",
       "\n",
       "    .dataframe tbody tr th {\n",
       "        vertical-align: top;\n",
       "    }\n",
       "\n",
       "    .dataframe thead th {\n",
       "        text-align: right;\n",
       "    }\n",
       "</style>\n",
       "<table border=\"1\" class=\"dataframe\">\n",
       "  <thead>\n",
       "    <tr style=\"text-align: right;\">\n",
       "      <th></th>\n",
       "      <th>make</th>\n",
       "      <th>rating</th>\n",
       "    </tr>\n",
       "  </thead>\n",
       "  <tbody>\n",
       "    <tr>\n",
       "      <td>0</td>\n",
       "      <td>audi</td>\n",
       "      <td>5</td>\n",
       "    </tr>\n",
       "    <tr>\n",
       "      <td>1</td>\n",
       "      <td>bmw</td>\n",
       "      <td>4</td>\n",
       "    </tr>\n",
       "  </tbody>\n",
       "</table>\n",
       "</div>"
      ],
      "text/plain": [
       "   make  rating\n",
       "0  audi       5\n",
       "1   bmw       4"
      ]
     },
     "execution_count": 17,
     "metadata": {},
     "output_type": "execute_result"
    }
   ],
   "source": [
    "my_dict = {\"make\":[\"audi\",\"bmw\"],\"rating\":[5,4]}\n",
    "df1 = pd.DataFrame(my_dict)\n",
    "df1.head()"
   ]
  },
  {
   "cell_type": "code",
   "execution_count": 18,
   "metadata": {
    "ExecuteTime": {
     "end_time": "2020-02-12T22:36:27.517158Z",
     "start_time": "2020-02-12T22:36:27.512172Z"
    },
    "colab": {},
    "colab_type": "code",
    "id": "hdm421G_JM3S"
   },
   "outputs": [],
   "source": [
    "df2 = df1.copy()"
   ]
  },
  {
   "cell_type": "code",
   "execution_count": 19,
   "metadata": {
    "ExecuteTime": {
     "end_time": "2020-02-12T22:36:27.729693Z",
     "start_time": "2020-02-12T22:36:27.720719Z"
    },
    "colab": {
     "base_uri": "https://localhost:8080/",
     "height": 168
    },
    "colab_type": "code",
    "id": "5eCPYInlJPlT",
    "outputId": "82842698-e09b-4273-fd62-6a036e1c03b2"
   },
   "outputs": [
    {
     "data": {
      "text/html": [
       "<div>\n",
       "<style scoped>\n",
       "    .dataframe tbody tr th:only-of-type {\n",
       "        vertical-align: middle;\n",
       "    }\n",
       "\n",
       "    .dataframe tbody tr th {\n",
       "        vertical-align: top;\n",
       "    }\n",
       "\n",
       "    .dataframe thead th {\n",
       "        text-align: right;\n",
       "    }\n",
       "</style>\n",
       "<table border=\"1\" class=\"dataframe\">\n",
       "  <thead>\n",
       "    <tr style=\"text-align: right;\">\n",
       "      <th></th>\n",
       "      <th>make</th>\n",
       "      <th>rating</th>\n",
       "    </tr>\n",
       "  </thead>\n",
       "  <tbody>\n",
       "    <tr>\n",
       "      <td>0</td>\n",
       "      <td>audi</td>\n",
       "      <td>5</td>\n",
       "    </tr>\n",
       "    <tr>\n",
       "      <td>1</td>\n",
       "      <td>bmw</td>\n",
       "      <td>4</td>\n",
       "    </tr>\n",
       "    <tr>\n",
       "      <td>0</td>\n",
       "      <td>audi</td>\n",
       "      <td>5</td>\n",
       "    </tr>\n",
       "    <tr>\n",
       "      <td>1</td>\n",
       "      <td>bmw</td>\n",
       "      <td>4</td>\n",
       "    </tr>\n",
       "  </tbody>\n",
       "</table>\n",
       "</div>"
      ],
      "text/plain": [
       "   make  rating\n",
       "0  audi       5\n",
       "1   bmw       4\n",
       "0  audi       5\n",
       "1   bmw       4"
      ]
     },
     "execution_count": 19,
     "metadata": {},
     "output_type": "execute_result"
    }
   ],
   "source": [
    "pd.concat([df1,df2],axis=0)"
   ]
  },
  {
   "cell_type": "code",
   "execution_count": 20,
   "metadata": {
    "ExecuteTime": {
     "end_time": "2020-02-12T22:36:27.897245Z",
     "start_time": "2020-02-12T22:36:27.884279Z"
    },
    "colab": {
     "base_uri": "https://localhost:8080/",
     "height": 108
    },
    "colab_type": "code",
    "id": "2M-7GUJPJUIj",
    "outputId": "60cd0142-afdd-4af7-8186-db15a03e7b3f"
   },
   "outputs": [
    {
     "data": {
      "text/html": [
       "<div>\n",
       "<style scoped>\n",
       "    .dataframe tbody tr th:only-of-type {\n",
       "        vertical-align: middle;\n",
       "    }\n",
       "\n",
       "    .dataframe tbody tr th {\n",
       "        vertical-align: top;\n",
       "    }\n",
       "\n",
       "    .dataframe thead th {\n",
       "        text-align: right;\n",
       "    }\n",
       "</style>\n",
       "<table border=\"1\" class=\"dataframe\">\n",
       "  <thead>\n",
       "    <tr style=\"text-align: right;\">\n",
       "      <th></th>\n",
       "      <th>make</th>\n",
       "      <th>rating</th>\n",
       "      <th>make</th>\n",
       "      <th>rating</th>\n",
       "    </tr>\n",
       "  </thead>\n",
       "  <tbody>\n",
       "    <tr>\n",
       "      <td>0</td>\n",
       "      <td>audi</td>\n",
       "      <td>5</td>\n",
       "      <td>audi</td>\n",
       "      <td>5</td>\n",
       "    </tr>\n",
       "    <tr>\n",
       "      <td>1</td>\n",
       "      <td>bmw</td>\n",
       "      <td>4</td>\n",
       "      <td>bmw</td>\n",
       "      <td>4</td>\n",
       "    </tr>\n",
       "  </tbody>\n",
       "</table>\n",
       "</div>"
      ],
      "text/plain": [
       "   make  rating  make  rating\n",
       "0  audi       5  audi       5\n",
       "1   bmw       4   bmw       4"
      ]
     },
     "execution_count": 20,
     "metadata": {},
     "output_type": "execute_result"
    }
   ],
   "source": [
    "pd.concat([df1,df2],axis=1)"
   ]
  },
  {
   "cell_type": "code",
   "execution_count": 21,
   "metadata": {
    "ExecuteTime": {
     "end_time": "2020-02-12T22:36:28.140732Z",
     "start_time": "2020-02-12T22:36:28.095853Z"
    },
    "colab": {
     "base_uri": "https://localhost:8080/",
     "height": 218
    },
    "colab_type": "code",
    "id": "HkAQ_CEjcy7c",
    "outputId": "6bf36e00-a4f3-4dc8-cb8a-b8b83f5369de"
   },
   "outputs": [
    {
     "data": {
      "text/html": [
       "<div>\n",
       "<style scoped>\n",
       "    .dataframe tbody tr th:only-of-type {\n",
       "        vertical-align: middle;\n",
       "    }\n",
       "\n",
       "    .dataframe tbody tr th {\n",
       "        vertical-align: top;\n",
       "    }\n",
       "\n",
       "    .dataframe thead th {\n",
       "        text-align: right;\n",
       "    }\n",
       "</style>\n",
       "<table border=\"1\" class=\"dataframe\">\n",
       "  <thead>\n",
       "    <tr style=\"text-align: right;\">\n",
       "      <th></th>\n",
       "      <th>make</th>\n",
       "      <th>fuel_type</th>\n",
       "      <th>num_of_doors</th>\n",
       "      <th>body_style</th>\n",
       "      <th>drive_wheels</th>\n",
       "      <th>engine_location</th>\n",
       "      <th>wheel_base</th>\n",
       "      <th>length</th>\n",
       "      <th>width</th>\n",
       "      <th>height</th>\n",
       "      <th>...</th>\n",
       "      <th>fuel_system</th>\n",
       "      <th>bore</th>\n",
       "      <th>stroke</th>\n",
       "      <th>compression_ratio</th>\n",
       "      <th>horsepower</th>\n",
       "      <th>peak_rpm</th>\n",
       "      <th>city_mpg</th>\n",
       "      <th>highway_mpg</th>\n",
       "      <th>price</th>\n",
       "      <th>rating</th>\n",
       "    </tr>\n",
       "  </thead>\n",
       "  <tbody>\n",
       "    <tr>\n",
       "      <td>0</td>\n",
       "      <td>audi</td>\n",
       "      <td>gas</td>\n",
       "      <td>four</td>\n",
       "      <td>sedan</td>\n",
       "      <td>fwd</td>\n",
       "      <td>front</td>\n",
       "      <td>99.8</td>\n",
       "      <td>176.6</td>\n",
       "      <td>66.2</td>\n",
       "      <td>54.3</td>\n",
       "      <td>...</td>\n",
       "      <td>mpfi</td>\n",
       "      <td>3.19</td>\n",
       "      <td>3.4</td>\n",
       "      <td>10.0</td>\n",
       "      <td>102</td>\n",
       "      <td>5500</td>\n",
       "      <td>24</td>\n",
       "      <td>30</td>\n",
       "      <td>13950</td>\n",
       "      <td>5</td>\n",
       "    </tr>\n",
       "    <tr>\n",
       "      <td>1</td>\n",
       "      <td>audi</td>\n",
       "      <td>gas</td>\n",
       "      <td>four</td>\n",
       "      <td>sedan</td>\n",
       "      <td>4wd</td>\n",
       "      <td>front</td>\n",
       "      <td>99.4</td>\n",
       "      <td>176.6</td>\n",
       "      <td>66.4</td>\n",
       "      <td>54.3</td>\n",
       "      <td>...</td>\n",
       "      <td>mpfi</td>\n",
       "      <td>3.19</td>\n",
       "      <td>3.4</td>\n",
       "      <td>8.0</td>\n",
       "      <td>115</td>\n",
       "      <td>5500</td>\n",
       "      <td>18</td>\n",
       "      <td>22</td>\n",
       "      <td>17450</td>\n",
       "      <td>5</td>\n",
       "    </tr>\n",
       "    <tr>\n",
       "      <td>2</td>\n",
       "      <td>audi</td>\n",
       "      <td>gas</td>\n",
       "      <td>two</td>\n",
       "      <td>sedan</td>\n",
       "      <td>fwd</td>\n",
       "      <td>front</td>\n",
       "      <td>99.8</td>\n",
       "      <td>177.3</td>\n",
       "      <td>66.3</td>\n",
       "      <td>53.1</td>\n",
       "      <td>...</td>\n",
       "      <td>mpfi</td>\n",
       "      <td>3.19</td>\n",
       "      <td>3.4</td>\n",
       "      <td>8.5</td>\n",
       "      <td>110</td>\n",
       "      <td>5500</td>\n",
       "      <td>19</td>\n",
       "      <td>25</td>\n",
       "      <td>15250</td>\n",
       "      <td>5</td>\n",
       "    </tr>\n",
       "    <tr>\n",
       "      <td>3</td>\n",
       "      <td>audi</td>\n",
       "      <td>gas</td>\n",
       "      <td>four</td>\n",
       "      <td>sedan</td>\n",
       "      <td>fwd</td>\n",
       "      <td>front</td>\n",
       "      <td>105.8</td>\n",
       "      <td>192.7</td>\n",
       "      <td>71.4</td>\n",
       "      <td>55.7</td>\n",
       "      <td>...</td>\n",
       "      <td>mpfi</td>\n",
       "      <td>3.19</td>\n",
       "      <td>3.4</td>\n",
       "      <td>8.5</td>\n",
       "      <td>110</td>\n",
       "      <td>5500</td>\n",
       "      <td>19</td>\n",
       "      <td>25</td>\n",
       "      <td>17710</td>\n",
       "      <td>5</td>\n",
       "    </tr>\n",
       "    <tr>\n",
       "      <td>4</td>\n",
       "      <td>audi</td>\n",
       "      <td>gas</td>\n",
       "      <td>four</td>\n",
       "      <td>wagon</td>\n",
       "      <td>fwd</td>\n",
       "      <td>front</td>\n",
       "      <td>105.8</td>\n",
       "      <td>192.7</td>\n",
       "      <td>71.4</td>\n",
       "      <td>55.7</td>\n",
       "      <td>...</td>\n",
       "      <td>mpfi</td>\n",
       "      <td>3.19</td>\n",
       "      <td>3.4</td>\n",
       "      <td>8.5</td>\n",
       "      <td>110</td>\n",
       "      <td>5500</td>\n",
       "      <td>19</td>\n",
       "      <td>25</td>\n",
       "      <td>18920</td>\n",
       "      <td>5</td>\n",
       "    </tr>\n",
       "  </tbody>\n",
       "</table>\n",
       "<p>5 rows × 24 columns</p>\n",
       "</div>"
      ],
      "text/plain": [
       "   make fuel_type num_of_doors body_style drive_wheels engine_location  \\\n",
       "0  audi       gas         four      sedan          fwd           front   \n",
       "1  audi       gas         four      sedan          4wd           front   \n",
       "2  audi       gas          two      sedan          fwd           front   \n",
       "3  audi       gas         four      sedan          fwd           front   \n",
       "4  audi       gas         four      wagon          fwd           front   \n",
       "\n",
       "   wheel_base  length  width  height  ...  fuel_system  bore stroke  \\\n",
       "0        99.8   176.6   66.2    54.3  ...         mpfi  3.19    3.4   \n",
       "1        99.4   176.6   66.4    54.3  ...         mpfi  3.19    3.4   \n",
       "2        99.8   177.3   66.3    53.1  ...         mpfi  3.19    3.4   \n",
       "3       105.8   192.7   71.4    55.7  ...         mpfi  3.19    3.4   \n",
       "4       105.8   192.7   71.4    55.7  ...         mpfi  3.19    3.4   \n",
       "\n",
       "   compression_ratio horsepower  peak_rpm  city_mpg  highway_mpg  price  \\\n",
       "0               10.0        102      5500        24           30  13950   \n",
       "1                8.0        115      5500        18           22  17450   \n",
       "2                8.5        110      5500        19           25  15250   \n",
       "3                8.5        110      5500        19           25  17710   \n",
       "4                8.5        110      5500        19           25  18920   \n",
       "\n",
       "   rating  \n",
       "0       5  \n",
       "1       5  \n",
       "2       5  \n",
       "3       5  \n",
       "4       5  \n",
       "\n",
       "[5 rows x 24 columns]"
      ]
     },
     "execution_count": 21,
     "metadata": {},
     "output_type": "execute_result"
    }
   ],
   "source": [
    "data.merge(df1,how=\"inner\").head()"
   ]
  },
  {
   "cell_type": "code",
   "execution_count": 22,
   "metadata": {
    "ExecuteTime": {
     "end_time": "2020-02-12T22:36:28.312273Z",
     "start_time": "2020-02-12T22:36:28.273381Z"
    },
    "colab": {
     "base_uri": "https://localhost:8080/",
     "height": 218
    },
    "colab_type": "code",
    "id": "czRIPaaOJbkX",
    "outputId": "c3c711d7-5b82-4f24-b18b-60bb0ae7c5cf"
   },
   "outputs": [
    {
     "data": {
      "text/html": [
       "<div>\n",
       "<style scoped>\n",
       "    .dataframe tbody tr th:only-of-type {\n",
       "        vertical-align: middle;\n",
       "    }\n",
       "\n",
       "    .dataframe tbody tr th {\n",
       "        vertical-align: top;\n",
       "    }\n",
       "\n",
       "    .dataframe thead th {\n",
       "        text-align: right;\n",
       "    }\n",
       "</style>\n",
       "<table border=\"1\" class=\"dataframe\">\n",
       "  <thead>\n",
       "    <tr style=\"text-align: right;\">\n",
       "      <th></th>\n",
       "      <th>make</th>\n",
       "      <th>fuel_type</th>\n",
       "      <th>num_of_doors</th>\n",
       "      <th>body_style</th>\n",
       "      <th>drive_wheels</th>\n",
       "      <th>engine_location</th>\n",
       "      <th>wheel_base</th>\n",
       "      <th>length</th>\n",
       "      <th>width</th>\n",
       "      <th>height</th>\n",
       "      <th>...</th>\n",
       "      <th>fuel_system</th>\n",
       "      <th>bore</th>\n",
       "      <th>stroke</th>\n",
       "      <th>compression_ratio</th>\n",
       "      <th>horsepower</th>\n",
       "      <th>peak_rpm</th>\n",
       "      <th>city_mpg</th>\n",
       "      <th>highway_mpg</th>\n",
       "      <th>price</th>\n",
       "      <th>rating</th>\n",
       "    </tr>\n",
       "  </thead>\n",
       "  <tbody>\n",
       "    <tr>\n",
       "      <td>0</td>\n",
       "      <td>audi</td>\n",
       "      <td>gas</td>\n",
       "      <td>four</td>\n",
       "      <td>sedan</td>\n",
       "      <td>fwd</td>\n",
       "      <td>front</td>\n",
       "      <td>99.8</td>\n",
       "      <td>176.6</td>\n",
       "      <td>66.2</td>\n",
       "      <td>54.3</td>\n",
       "      <td>...</td>\n",
       "      <td>mpfi</td>\n",
       "      <td>3.19</td>\n",
       "      <td>3.4</td>\n",
       "      <td>10.0</td>\n",
       "      <td>102</td>\n",
       "      <td>5500</td>\n",
       "      <td>24</td>\n",
       "      <td>30</td>\n",
       "      <td>13950</td>\n",
       "      <td>5</td>\n",
       "    </tr>\n",
       "    <tr>\n",
       "      <td>1</td>\n",
       "      <td>audi</td>\n",
       "      <td>gas</td>\n",
       "      <td>four</td>\n",
       "      <td>sedan</td>\n",
       "      <td>4wd</td>\n",
       "      <td>front</td>\n",
       "      <td>99.4</td>\n",
       "      <td>176.6</td>\n",
       "      <td>66.4</td>\n",
       "      <td>54.3</td>\n",
       "      <td>...</td>\n",
       "      <td>mpfi</td>\n",
       "      <td>3.19</td>\n",
       "      <td>3.4</td>\n",
       "      <td>8.0</td>\n",
       "      <td>115</td>\n",
       "      <td>5500</td>\n",
       "      <td>18</td>\n",
       "      <td>22</td>\n",
       "      <td>17450</td>\n",
       "      <td>5</td>\n",
       "    </tr>\n",
       "    <tr>\n",
       "      <td>2</td>\n",
       "      <td>audi</td>\n",
       "      <td>gas</td>\n",
       "      <td>two</td>\n",
       "      <td>sedan</td>\n",
       "      <td>fwd</td>\n",
       "      <td>front</td>\n",
       "      <td>99.8</td>\n",
       "      <td>177.3</td>\n",
       "      <td>66.3</td>\n",
       "      <td>53.1</td>\n",
       "      <td>...</td>\n",
       "      <td>mpfi</td>\n",
       "      <td>3.19</td>\n",
       "      <td>3.4</td>\n",
       "      <td>8.5</td>\n",
       "      <td>110</td>\n",
       "      <td>5500</td>\n",
       "      <td>19</td>\n",
       "      <td>25</td>\n",
       "      <td>15250</td>\n",
       "      <td>5</td>\n",
       "    </tr>\n",
       "    <tr>\n",
       "      <td>3</td>\n",
       "      <td>audi</td>\n",
       "      <td>gas</td>\n",
       "      <td>four</td>\n",
       "      <td>sedan</td>\n",
       "      <td>fwd</td>\n",
       "      <td>front</td>\n",
       "      <td>105.8</td>\n",
       "      <td>192.7</td>\n",
       "      <td>71.4</td>\n",
       "      <td>55.7</td>\n",
       "      <td>...</td>\n",
       "      <td>mpfi</td>\n",
       "      <td>3.19</td>\n",
       "      <td>3.4</td>\n",
       "      <td>8.5</td>\n",
       "      <td>110</td>\n",
       "      <td>5500</td>\n",
       "      <td>19</td>\n",
       "      <td>25</td>\n",
       "      <td>17710</td>\n",
       "      <td>5</td>\n",
       "    </tr>\n",
       "    <tr>\n",
       "      <td>4</td>\n",
       "      <td>audi</td>\n",
       "      <td>gas</td>\n",
       "      <td>four</td>\n",
       "      <td>wagon</td>\n",
       "      <td>fwd</td>\n",
       "      <td>front</td>\n",
       "      <td>105.8</td>\n",
       "      <td>192.7</td>\n",
       "      <td>71.4</td>\n",
       "      <td>55.7</td>\n",
       "      <td>...</td>\n",
       "      <td>mpfi</td>\n",
       "      <td>3.19</td>\n",
       "      <td>3.4</td>\n",
       "      <td>8.5</td>\n",
       "      <td>110</td>\n",
       "      <td>5500</td>\n",
       "      <td>19</td>\n",
       "      <td>25</td>\n",
       "      <td>18920</td>\n",
       "      <td>5</td>\n",
       "    </tr>\n",
       "  </tbody>\n",
       "</table>\n",
       "<p>5 rows × 24 columns</p>\n",
       "</div>"
      ],
      "text/plain": [
       "   make fuel_type num_of_doors body_style drive_wheels engine_location  \\\n",
       "0  audi       gas         four      sedan          fwd           front   \n",
       "1  audi       gas         four      sedan          4wd           front   \n",
       "2  audi       gas          two      sedan          fwd           front   \n",
       "3  audi       gas         four      sedan          fwd           front   \n",
       "4  audi       gas         four      wagon          fwd           front   \n",
       "\n",
       "   wheel_base  length  width  height  ...  fuel_system  bore stroke  \\\n",
       "0        99.8   176.6   66.2    54.3  ...         mpfi  3.19    3.4   \n",
       "1        99.4   176.6   66.4    54.3  ...         mpfi  3.19    3.4   \n",
       "2        99.8   177.3   66.3    53.1  ...         mpfi  3.19    3.4   \n",
       "3       105.8   192.7   71.4    55.7  ...         mpfi  3.19    3.4   \n",
       "4       105.8   192.7   71.4    55.7  ...         mpfi  3.19    3.4   \n",
       "\n",
       "   compression_ratio horsepower  peak_rpm  city_mpg  highway_mpg  price  \\\n",
       "0               10.0        102      5500        24           30  13950   \n",
       "1                8.0        115      5500        18           22  17450   \n",
       "2                8.5        110      5500        19           25  15250   \n",
       "3                8.5        110      5500        19           25  17710   \n",
       "4                8.5        110      5500        19           25  18920   \n",
       "\n",
       "   rating  \n",
       "0       5  \n",
       "1       5  \n",
       "2       5  \n",
       "3       5  \n",
       "4       5  \n",
       "\n",
       "[5 rows x 24 columns]"
      ]
     },
     "execution_count": 22,
     "metadata": {},
     "output_type": "execute_result"
    }
   ],
   "source": [
    "data.merge(df1,how=\"right\").head()"
   ]
  },
  {
   "cell_type": "code",
   "execution_count": 23,
   "metadata": {
    "ExecuteTime": {
     "end_time": "2020-02-12T22:36:28.498775Z",
     "start_time": "2020-02-12T22:36:28.452900Z"
    },
    "colab": {
     "base_uri": "https://localhost:8080/",
     "height": 270
    },
    "colab_type": "code",
    "id": "cxBID8rWJbni",
    "outputId": "323a6f0f-adf3-474a-fada-bfc66dc241f8"
   },
   "outputs": [
    {
     "data": {
      "text/html": [
       "<div>\n",
       "<style scoped>\n",
       "    .dataframe tbody tr th:only-of-type {\n",
       "        vertical-align: middle;\n",
       "    }\n",
       "\n",
       "    .dataframe tbody tr th {\n",
       "        vertical-align: top;\n",
       "    }\n",
       "\n",
       "    .dataframe thead th {\n",
       "        text-align: right;\n",
       "    }\n",
       "</style>\n",
       "<table border=\"1\" class=\"dataframe\">\n",
       "  <thead>\n",
       "    <tr style=\"text-align: right;\">\n",
       "      <th></th>\n",
       "      <th>make</th>\n",
       "      <th>fuel_type</th>\n",
       "      <th>num_of_doors</th>\n",
       "      <th>body_style</th>\n",
       "      <th>drive_wheels</th>\n",
       "      <th>engine_location</th>\n",
       "      <th>wheel_base</th>\n",
       "      <th>length</th>\n",
       "      <th>width</th>\n",
       "      <th>height</th>\n",
       "      <th>...</th>\n",
       "      <th>fuel_system</th>\n",
       "      <th>bore</th>\n",
       "      <th>stroke</th>\n",
       "      <th>compression_ratio</th>\n",
       "      <th>horsepower</th>\n",
       "      <th>peak_rpm</th>\n",
       "      <th>city_mpg</th>\n",
       "      <th>highway_mpg</th>\n",
       "      <th>price</th>\n",
       "      <th>rating</th>\n",
       "    </tr>\n",
       "  </thead>\n",
       "  <tbody>\n",
       "    <tr>\n",
       "      <td>0</td>\n",
       "      <td>alfa-romero</td>\n",
       "      <td>gas</td>\n",
       "      <td>two</td>\n",
       "      <td>convertible</td>\n",
       "      <td>rwd</td>\n",
       "      <td>front</td>\n",
       "      <td>88.6</td>\n",
       "      <td>168.8</td>\n",
       "      <td>64.1</td>\n",
       "      <td>48.8</td>\n",
       "      <td>...</td>\n",
       "      <td>mpfi</td>\n",
       "      <td>3.47</td>\n",
       "      <td>2.68</td>\n",
       "      <td>9.0</td>\n",
       "      <td>111</td>\n",
       "      <td>5000</td>\n",
       "      <td>21</td>\n",
       "      <td>27</td>\n",
       "      <td>13495</td>\n",
       "      <td>NaN</td>\n",
       "    </tr>\n",
       "    <tr>\n",
       "      <td>1</td>\n",
       "      <td>alfa-romero</td>\n",
       "      <td>gas</td>\n",
       "      <td>two</td>\n",
       "      <td>convertible</td>\n",
       "      <td>rwd</td>\n",
       "      <td>front</td>\n",
       "      <td>88.6</td>\n",
       "      <td>168.8</td>\n",
       "      <td>64.1</td>\n",
       "      <td>48.8</td>\n",
       "      <td>...</td>\n",
       "      <td>mpfi</td>\n",
       "      <td>3.47</td>\n",
       "      <td>2.68</td>\n",
       "      <td>9.0</td>\n",
       "      <td>111</td>\n",
       "      <td>5000</td>\n",
       "      <td>21</td>\n",
       "      <td>27</td>\n",
       "      <td>16500</td>\n",
       "      <td>NaN</td>\n",
       "    </tr>\n",
       "    <tr>\n",
       "      <td>2</td>\n",
       "      <td>alfa-romero</td>\n",
       "      <td>gas</td>\n",
       "      <td>two</td>\n",
       "      <td>hatchback</td>\n",
       "      <td>rwd</td>\n",
       "      <td>front</td>\n",
       "      <td>94.5</td>\n",
       "      <td>171.2</td>\n",
       "      <td>65.5</td>\n",
       "      <td>52.4</td>\n",
       "      <td>...</td>\n",
       "      <td>mpfi</td>\n",
       "      <td>2.68</td>\n",
       "      <td>3.47</td>\n",
       "      <td>9.0</td>\n",
       "      <td>154</td>\n",
       "      <td>5000</td>\n",
       "      <td>19</td>\n",
       "      <td>26</td>\n",
       "      <td>16500</td>\n",
       "      <td>NaN</td>\n",
       "    </tr>\n",
       "    <tr>\n",
       "      <td>3</td>\n",
       "      <td>audi</td>\n",
       "      <td>gas</td>\n",
       "      <td>four</td>\n",
       "      <td>sedan</td>\n",
       "      <td>fwd</td>\n",
       "      <td>front</td>\n",
       "      <td>99.8</td>\n",
       "      <td>176.6</td>\n",
       "      <td>66.2</td>\n",
       "      <td>54.3</td>\n",
       "      <td>...</td>\n",
       "      <td>mpfi</td>\n",
       "      <td>3.19</td>\n",
       "      <td>3.40</td>\n",
       "      <td>10.0</td>\n",
       "      <td>102</td>\n",
       "      <td>5500</td>\n",
       "      <td>24</td>\n",
       "      <td>30</td>\n",
       "      <td>13950</td>\n",
       "      <td>5.0</td>\n",
       "    </tr>\n",
       "    <tr>\n",
       "      <td>4</td>\n",
       "      <td>audi</td>\n",
       "      <td>gas</td>\n",
       "      <td>four</td>\n",
       "      <td>sedan</td>\n",
       "      <td>4wd</td>\n",
       "      <td>front</td>\n",
       "      <td>99.4</td>\n",
       "      <td>176.6</td>\n",
       "      <td>66.4</td>\n",
       "      <td>54.3</td>\n",
       "      <td>...</td>\n",
       "      <td>mpfi</td>\n",
       "      <td>3.19</td>\n",
       "      <td>3.40</td>\n",
       "      <td>8.0</td>\n",
       "      <td>115</td>\n",
       "      <td>5500</td>\n",
       "      <td>18</td>\n",
       "      <td>22</td>\n",
       "      <td>17450</td>\n",
       "      <td>5.0</td>\n",
       "    </tr>\n",
       "  </tbody>\n",
       "</table>\n",
       "<p>5 rows × 24 columns</p>\n",
       "</div>"
      ],
      "text/plain": [
       "          make fuel_type num_of_doors   body_style drive_wheels  \\\n",
       "0  alfa-romero       gas          two  convertible          rwd   \n",
       "1  alfa-romero       gas          two  convertible          rwd   \n",
       "2  alfa-romero       gas          two    hatchback          rwd   \n",
       "3         audi       gas         four        sedan          fwd   \n",
       "4         audi       gas         four        sedan          4wd   \n",
       "\n",
       "  engine_location  wheel_base  length  width  height  ...  fuel_system  bore  \\\n",
       "0           front        88.6   168.8   64.1    48.8  ...         mpfi  3.47   \n",
       "1           front        88.6   168.8   64.1    48.8  ...         mpfi  3.47   \n",
       "2           front        94.5   171.2   65.5    52.4  ...         mpfi  2.68   \n",
       "3           front        99.8   176.6   66.2    54.3  ...         mpfi  3.19   \n",
       "4           front        99.4   176.6   66.4    54.3  ...         mpfi  3.19   \n",
       "\n",
       "  stroke  compression_ratio horsepower  peak_rpm  city_mpg  highway_mpg  \\\n",
       "0   2.68                9.0        111      5000        21           27   \n",
       "1   2.68                9.0        111      5000        21           27   \n",
       "2   3.47                9.0        154      5000        19           26   \n",
       "3   3.40               10.0        102      5500        24           30   \n",
       "4   3.40                8.0        115      5500        18           22   \n",
       "\n",
       "   price  rating  \n",
       "0  13495     NaN  \n",
       "1  16500     NaN  \n",
       "2  16500     NaN  \n",
       "3  13950     5.0  \n",
       "4  17450     5.0  \n",
       "\n",
       "[5 rows x 24 columns]"
      ]
     },
     "execution_count": 23,
     "metadata": {},
     "output_type": "execute_result"
    }
   ],
   "source": [
    "data.merge(df1,how=\"outer\").head()"
   ]
  },
  {
   "cell_type": "code",
   "execution_count": 24,
   "metadata": {
    "ExecuteTime": {
     "end_time": "2020-02-12T22:36:28.683282Z",
     "start_time": "2020-02-12T22:36:28.636408Z"
    },
    "colab": {
     "base_uri": "https://localhost:8080/",
     "height": 270
    },
    "colab_type": "code",
    "id": "NEynL2IKJbqg",
    "outputId": "63d3abe5-1321-4b82-df2d-2ffc3ae0f7fc"
   },
   "outputs": [
    {
     "data": {
      "text/html": [
       "<div>\n",
       "<style scoped>\n",
       "    .dataframe tbody tr th:only-of-type {\n",
       "        vertical-align: middle;\n",
       "    }\n",
       "\n",
       "    .dataframe tbody tr th {\n",
       "        vertical-align: top;\n",
       "    }\n",
       "\n",
       "    .dataframe thead th {\n",
       "        text-align: right;\n",
       "    }\n",
       "</style>\n",
       "<table border=\"1\" class=\"dataframe\">\n",
       "  <thead>\n",
       "    <tr style=\"text-align: right;\">\n",
       "      <th></th>\n",
       "      <th>make</th>\n",
       "      <th>fuel_type</th>\n",
       "      <th>num_of_doors</th>\n",
       "      <th>body_style</th>\n",
       "      <th>drive_wheels</th>\n",
       "      <th>engine_location</th>\n",
       "      <th>wheel_base</th>\n",
       "      <th>length</th>\n",
       "      <th>width</th>\n",
       "      <th>height</th>\n",
       "      <th>...</th>\n",
       "      <th>fuel_system</th>\n",
       "      <th>bore</th>\n",
       "      <th>stroke</th>\n",
       "      <th>compression_ratio</th>\n",
       "      <th>horsepower</th>\n",
       "      <th>peak_rpm</th>\n",
       "      <th>city_mpg</th>\n",
       "      <th>highway_mpg</th>\n",
       "      <th>price</th>\n",
       "      <th>rating</th>\n",
       "    </tr>\n",
       "  </thead>\n",
       "  <tbody>\n",
       "    <tr>\n",
       "      <td>0</td>\n",
       "      <td>alfa-romero</td>\n",
       "      <td>gas</td>\n",
       "      <td>two</td>\n",
       "      <td>convertible</td>\n",
       "      <td>rwd</td>\n",
       "      <td>front</td>\n",
       "      <td>88.6</td>\n",
       "      <td>168.8</td>\n",
       "      <td>64.1</td>\n",
       "      <td>48.8</td>\n",
       "      <td>...</td>\n",
       "      <td>mpfi</td>\n",
       "      <td>3.47</td>\n",
       "      <td>2.68</td>\n",
       "      <td>9.0</td>\n",
       "      <td>111</td>\n",
       "      <td>5000</td>\n",
       "      <td>21</td>\n",
       "      <td>27</td>\n",
       "      <td>13495</td>\n",
       "      <td>NaN</td>\n",
       "    </tr>\n",
       "    <tr>\n",
       "      <td>1</td>\n",
       "      <td>alfa-romero</td>\n",
       "      <td>gas</td>\n",
       "      <td>two</td>\n",
       "      <td>convertible</td>\n",
       "      <td>rwd</td>\n",
       "      <td>front</td>\n",
       "      <td>88.6</td>\n",
       "      <td>168.8</td>\n",
       "      <td>64.1</td>\n",
       "      <td>48.8</td>\n",
       "      <td>...</td>\n",
       "      <td>mpfi</td>\n",
       "      <td>3.47</td>\n",
       "      <td>2.68</td>\n",
       "      <td>9.0</td>\n",
       "      <td>111</td>\n",
       "      <td>5000</td>\n",
       "      <td>21</td>\n",
       "      <td>27</td>\n",
       "      <td>16500</td>\n",
       "      <td>NaN</td>\n",
       "    </tr>\n",
       "    <tr>\n",
       "      <td>2</td>\n",
       "      <td>alfa-romero</td>\n",
       "      <td>gas</td>\n",
       "      <td>two</td>\n",
       "      <td>hatchback</td>\n",
       "      <td>rwd</td>\n",
       "      <td>front</td>\n",
       "      <td>94.5</td>\n",
       "      <td>171.2</td>\n",
       "      <td>65.5</td>\n",
       "      <td>52.4</td>\n",
       "      <td>...</td>\n",
       "      <td>mpfi</td>\n",
       "      <td>2.68</td>\n",
       "      <td>3.47</td>\n",
       "      <td>9.0</td>\n",
       "      <td>154</td>\n",
       "      <td>5000</td>\n",
       "      <td>19</td>\n",
       "      <td>26</td>\n",
       "      <td>16500</td>\n",
       "      <td>NaN</td>\n",
       "    </tr>\n",
       "    <tr>\n",
       "      <td>3</td>\n",
       "      <td>audi</td>\n",
       "      <td>gas</td>\n",
       "      <td>four</td>\n",
       "      <td>sedan</td>\n",
       "      <td>fwd</td>\n",
       "      <td>front</td>\n",
       "      <td>99.8</td>\n",
       "      <td>176.6</td>\n",
       "      <td>66.2</td>\n",
       "      <td>54.3</td>\n",
       "      <td>...</td>\n",
       "      <td>mpfi</td>\n",
       "      <td>3.19</td>\n",
       "      <td>3.40</td>\n",
       "      <td>10.0</td>\n",
       "      <td>102</td>\n",
       "      <td>5500</td>\n",
       "      <td>24</td>\n",
       "      <td>30</td>\n",
       "      <td>13950</td>\n",
       "      <td>5.0</td>\n",
       "    </tr>\n",
       "    <tr>\n",
       "      <td>4</td>\n",
       "      <td>audi</td>\n",
       "      <td>gas</td>\n",
       "      <td>four</td>\n",
       "      <td>sedan</td>\n",
       "      <td>4wd</td>\n",
       "      <td>front</td>\n",
       "      <td>99.4</td>\n",
       "      <td>176.6</td>\n",
       "      <td>66.4</td>\n",
       "      <td>54.3</td>\n",
       "      <td>...</td>\n",
       "      <td>mpfi</td>\n",
       "      <td>3.19</td>\n",
       "      <td>3.40</td>\n",
       "      <td>8.0</td>\n",
       "      <td>115</td>\n",
       "      <td>5500</td>\n",
       "      <td>18</td>\n",
       "      <td>22</td>\n",
       "      <td>17450</td>\n",
       "      <td>5.0</td>\n",
       "    </tr>\n",
       "  </tbody>\n",
       "</table>\n",
       "<p>5 rows × 24 columns</p>\n",
       "</div>"
      ],
      "text/plain": [
       "          make fuel_type num_of_doors   body_style drive_wheels  \\\n",
       "0  alfa-romero       gas          two  convertible          rwd   \n",
       "1  alfa-romero       gas          two  convertible          rwd   \n",
       "2  alfa-romero       gas          two    hatchback          rwd   \n",
       "3         audi       gas         four        sedan          fwd   \n",
       "4         audi       gas         four        sedan          4wd   \n",
       "\n",
       "  engine_location  wheel_base  length  width  height  ...  fuel_system  bore  \\\n",
       "0           front        88.6   168.8   64.1    48.8  ...         mpfi  3.47   \n",
       "1           front        88.6   168.8   64.1    48.8  ...         mpfi  3.47   \n",
       "2           front        94.5   171.2   65.5    52.4  ...         mpfi  2.68   \n",
       "3           front        99.8   176.6   66.2    54.3  ...         mpfi  3.19   \n",
       "4           front        99.4   176.6   66.4    54.3  ...         mpfi  3.19   \n",
       "\n",
       "  stroke  compression_ratio horsepower  peak_rpm  city_mpg  highway_mpg  \\\n",
       "0   2.68                9.0        111      5000        21           27   \n",
       "1   2.68                9.0        111      5000        21           27   \n",
       "2   3.47                9.0        154      5000        19           26   \n",
       "3   3.40               10.0        102      5500        24           30   \n",
       "4   3.40                8.0        115      5500        18           22   \n",
       "\n",
       "   price  rating  \n",
       "0  13495     NaN  \n",
       "1  16500     NaN  \n",
       "2  16500     NaN  \n",
       "3  13950     5.0  \n",
       "4  17450     5.0  \n",
       "\n",
       "[5 rows x 24 columns]"
      ]
     },
     "execution_count": 24,
     "metadata": {},
     "output_type": "execute_result"
    }
   ],
   "source": [
    "data.merge(df1,how=\"left\").head()"
   ]
  },
  {
   "cell_type": "markdown",
   "metadata": {
    "colab_type": "text",
    "id": "opHZuhpWF1nd"
   },
   "source": [
    "# Pandas: missing values, unique values, duplicates\n",
    "- [isnull()](https://pandas.pydata.org/pandas-docs/stable/reference/api/pandas.DataFrame.isnull.html) - detects missing avlues and outputs True or False\n",
    "- [unique()](https://pandas.pydata.org/pandas-docs/stable/reference/api/pandas.Series.unique.html) - returns the unique values of a column\n",
    "- [nunique()](https://pandas.pydata.org/pandas-docs/stable/reference/api/pandas.DataFrame.nunique.html) - returns the number of unique values for each column\n",
    "- [value_counts()](https://pandas.pydata.org/pandas-docs/stable/reference/api/pandas.Series.value_counts.html) - provides unique values and their columns for a column"
   ]
  },
  {
   "cell_type": "code",
   "execution_count": 25,
   "metadata": {
    "ExecuteTime": {
     "end_time": "2020-02-12T22:36:28.991150Z",
     "start_time": "2020-02-12T22:36:28.980145Z"
    },
    "colab": {
     "base_uri": "https://localhost:8080/",
     "height": 526
    },
    "colab_type": "code",
    "id": "WooYtol7F101",
    "outputId": "e1000e92-ca6b-4702-ca8f-d23a69e248a0"
   },
   "outputs": [
    {
     "name": "stdout",
     "output_type": "stream",
     "text": [
      "<class 'pandas.core.frame.DataFrame'>\n",
      "RangeIndex: 193 entries, 0 to 192\n",
      "Data columns (total 23 columns):\n",
      "make                 193 non-null object\n",
      "fuel_type            193 non-null object\n",
      "num_of_doors         193 non-null object\n",
      "body_style           193 non-null object\n",
      "drive_wheels         193 non-null object\n",
      "engine_location      193 non-null object\n",
      "wheel_base           193 non-null float64\n",
      "length               193 non-null float64\n",
      "width                193 non-null float64\n",
      "height               193 non-null float64\n",
      "curb_weight          193 non-null int64\n",
      "engine_type          193 non-null object\n",
      "num_of_cylinders     193 non-null object\n",
      "engine_size          193 non-null int64\n",
      "fuel_system          193 non-null object\n",
      "bore                 193 non-null float64\n",
      "stroke               193 non-null float64\n",
      "compression_ratio    193 non-null float64\n",
      "horsepower           193 non-null int64\n",
      "peak_rpm             193 non-null int64\n",
      "city_mpg             193 non-null int64\n",
      "highway_mpg          193 non-null int64\n",
      "price                193 non-null int64\n",
      "dtypes: float64(7), int64(7), object(9)\n",
      "memory usage: 34.8+ KB\n"
     ]
    }
   ],
   "source": [
    "data.info()"
   ]
  },
  {
   "cell_type": "code",
   "execution_count": 26,
   "metadata": {
    "ExecuteTime": {
     "end_time": "2020-02-12T22:36:29.301758Z",
     "start_time": "2020-02-12T22:36:29.292820Z"
    },
    "colab": {
     "base_uri": "https://localhost:8080/",
     "height": 454
    },
    "colab_type": "code",
    "id": "Fv59lzz8G3wA",
    "outputId": "fa312a0d-413a-4e2d-ae64-71b69de236c9"
   },
   "outputs": [
    {
     "data": {
      "text/plain": [
       "make                 0\n",
       "fuel_type            0\n",
       "num_of_doors         0\n",
       "body_style           0\n",
       "drive_wheels         0\n",
       "engine_location      0\n",
       "wheel_base           0\n",
       "length               0\n",
       "width                0\n",
       "height               0\n",
       "curb_weight          0\n",
       "engine_type          0\n",
       "num_of_cylinders     0\n",
       "engine_size          0\n",
       "fuel_system          0\n",
       "bore                 0\n",
       "stroke               0\n",
       "compression_ratio    0\n",
       "horsepower           0\n",
       "peak_rpm             0\n",
       "city_mpg             0\n",
       "highway_mpg          0\n",
       "price                0\n",
       "dtype: int64"
      ]
     },
     "execution_count": 26,
     "metadata": {},
     "output_type": "execute_result"
    }
   ],
   "source": [
    "data.isnull().sum()"
   ]
  },
  {
   "cell_type": "code",
   "execution_count": 27,
   "metadata": {
    "ExecuteTime": {
     "end_time": "2020-02-12T22:36:29.485165Z",
     "start_time": "2020-02-12T22:36:29.475192Z"
    },
    "colab": {},
    "colab_type": "code",
    "id": "SbJHQjRcG4SC"
   },
   "outputs": [],
   "source": [
    "data_without_na = data.dropna(axis=0,inplace=False)"
   ]
  },
  {
   "cell_type": "code",
   "execution_count": 28,
   "metadata": {
    "ExecuteTime": {
     "end_time": "2020-02-12T22:36:29.670024Z",
     "start_time": "2020-02-12T22:36:29.660052Z"
    },
    "colab": {},
    "colab_type": "code",
    "id": "ShuWZysVG4VK"
   },
   "outputs": [],
   "source": [
    "data_filled_na = data.fillna(axis=0,value=0)"
   ]
  },
  {
   "cell_type": "code",
   "execution_count": 29,
   "metadata": {
    "ExecuteTime": {
     "end_time": "2020-02-12T22:36:29.860363Z",
     "start_time": "2020-02-12T22:36:29.842447Z"
    },
    "colab": {
     "base_uri": "https://localhost:8080/",
     "height": 54
    },
    "colab_type": "code",
    "id": "UJ0GAWS43yg7",
    "outputId": "7a155b6c-09d3-4274-c505-3d0bcba70bf6"
   },
   "outputs": [
    {
     "name": "stdout",
     "output_type": "stream",
     "text": [
      "Shape before: (193, 23)\n",
      "Shape before: (192, 23)\n"
     ]
    }
   ],
   "source": [
    "data_no_duplicates = data.drop_duplicates()\n",
    "print(\"Shape before:\",data.shape)\n",
    "print(\"Shape before:\",data_no_duplicates.shape)"
   ]
  },
  {
   "cell_type": "code",
   "execution_count": 30,
   "metadata": {
    "ExecuteTime": {
     "end_time": "2020-02-12T22:36:30.059417Z",
     "start_time": "2020-02-12T22:36:30.051442Z"
    },
    "colab": {
     "base_uri": "https://localhost:8080/",
     "height": 35
    },
    "colab_type": "code",
    "id": "Hpgs22NK3yk4",
    "outputId": "ddc18a3e-50c0-4c42-8ccb-26e2f857d66b"
   },
   "outputs": [
    {
     "data": {
      "text/plain": [
       "21"
      ]
     },
     "execution_count": 30,
     "metadata": {},
     "output_type": "execute_result"
    }
   ],
   "source": [
    "data.make.nunique()"
   ]
  },
  {
   "cell_type": "code",
   "execution_count": 31,
   "metadata": {
    "ExecuteTime": {
     "end_time": "2020-02-12T22:36:30.249277Z",
     "start_time": "2020-02-12T22:36:30.241299Z"
    },
    "colab": {
     "base_uri": "https://localhost:8080/",
     "height": 90
    },
    "colab_type": "code",
    "id": "0mArWpdO4MGC",
    "outputId": "3f363a40-cd9a-4aea-cdb6-23516503afdf"
   },
   "outputs": [
    {
     "data": {
      "text/plain": [
       "array(['alfa-romero', 'audi', 'bmw', 'chevrolet', 'dodge', 'honda',\n",
       "       'isuzu', 'jaguar', 'mazda', 'mercedes-benz', 'mercury',\n",
       "       'mitsubishi', 'nissan', 'peugot', 'plymouth', 'porsche', 'saab',\n",
       "       'subaru', 'toyota', 'volkswagen', 'volvo'], dtype=object)"
      ]
     },
     "execution_count": 31,
     "metadata": {},
     "output_type": "execute_result"
    }
   ],
   "source": [
    "data.make.unique()"
   ]
  },
  {
   "cell_type": "code",
   "execution_count": 32,
   "metadata": {
    "ExecuteTime": {
     "end_time": "2020-02-12T22:36:30.433727Z",
     "start_time": "2020-02-12T22:36:30.422755Z"
    },
    "colab": {
     "base_uri": "https://localhost:8080/",
     "height": 417
    },
    "colab_type": "code",
    "id": "GOEtDObh4MOX",
    "outputId": "63748dbd-6e32-4ef0-93fd-ade1df75f502"
   },
   "outputs": [
    {
     "data": {
      "text/plain": [
       "toyota           32\n",
       "nissan           18\n",
       "honda            13\n",
       "mitsubishi       13\n",
       "volkswagen       12\n",
       "mazda            12\n",
       "subaru           12\n",
       "volvo            11\n",
       "peugot           11\n",
       "bmw               8\n",
       "dodge             8\n",
       "mercedes-benz     8\n",
       "plymouth          7\n",
       "saab              6\n",
       "audi              6\n",
       "porsche           4\n",
       "alfa-romero       3\n",
       "chevrolet         3\n",
       "jaguar            3\n",
       "isuzu             2\n",
       "mercury           1\n",
       "Name: make, dtype: int64"
      ]
     },
     "execution_count": 32,
     "metadata": {},
     "output_type": "execute_result"
    }
   ],
   "source": [
    "data.make.value_counts()"
   ]
  },
  {
   "cell_type": "markdown",
   "metadata": {
    "colab_type": "text",
    "id": "1jQbBPXNF80p"
   },
   "source": [
    "# Pandas: DataFrame frame, apply functions, dummies, crosstabs\n",
    "\n",
    "- [data.index.tolist()]() - selects the index of the dataframe and returns as a list\n",
    "- [data.columns.tolist()]() - selects the header row (column names) of the dataframe and returns as a list\n",
    "- [rename()]() - renames the given column(s) of the daraframe, using old name as the dictionary key and new name as the value \n",
    "- [apply()]() - applies a predefined (or unnamed lambda) function to the whole column\n",
    "- [sort_values()]() - sorts the dataframe by some given column(s) values in an ascending or descending order\n",
    "- [get_dummies()]() - produces a dataframe with dumy variables (1 if True, 0 otherwise)\n",
    "- [groupby()]() - groups creates groups of a given varaible (as index) and populates all the columns with a given aggregating functino (mean in our case)\n",
    "- [crosstab()]() - creates crosstabulations (same as pivot tables), aggregation function can be the mean, median, count etc.\n",
    "- [pivot_table()]() - same crosstab, but faster\n",
    "\n",
    "- [lambda functions]() - unnamed functions defined directly inside the apply functions (in our case) or elsewhere (e.g. comprehensions)\n"
   ]
  },
  {
   "cell_type": "code",
   "execution_count": 33,
   "metadata": {
    "ExecuteTime": {
     "end_time": "2020-02-12T22:36:30.809719Z",
     "start_time": "2020-02-12T22:36:30.804731Z"
    },
    "colab": {
     "base_uri": "https://localhost:8080/",
     "height": 55
    },
    "colab_type": "code",
    "id": "8ArYpls24j8I",
    "outputId": "1ee421d0-f27a-4d90-95cb-49cd0c14a2f7"
   },
   "outputs": [
    {
     "name": "stdout",
     "output_type": "stream",
     "text": [
      "[0, 1, 2, 3, 4, 5, 6, 7, 8, 9, 10, 11, 12, 13, 14, 15, 16, 17, 18, 19, 20, 21, 22, 23, 24, 25, 26, 27, 28, 29, 30, 31, 32, 33, 34, 35, 36, 37, 38, 39, 40, 41, 42, 43, 44, 45, 46, 47, 48, 49, 50, 51, 52, 53, 54, 55, 56, 57, 58, 59, 60, 61, 62, 63, 64, 65, 66, 67, 68, 69, 70, 71, 72, 73, 74, 75, 76, 77, 78, 79, 80, 81, 82, 83, 84, 85, 86, 87, 88, 89, 90, 91, 92, 93, 94, 95, 96, 97, 98, 99, 100, 101, 102, 103, 104, 105, 106, 107, 108, 109, 110, 111, 112, 113, 114, 115, 116, 117, 118, 119, 120, 121, 122, 123, 124, 125, 126, 127, 128, 129, 130, 131, 132, 133, 134, 135, 136, 137, 138, 139, 140, 141, 142, 143, 144, 145, 146, 147, 148, 149, 150, 151, 152, 153, 154, 155, 156, 157, 158, 159, 160, 161, 162, 163, 164, 165, 166, 167, 168, 169, 170, 171, 172, 173, 174, 175, 176, 177, 178, 179, 180, 181, 182, 183, 184, 185, 186, 187, 188, 189, 190, 191, 192]\n"
     ]
    }
   ],
   "source": [
    "print(data.index.tolist())"
   ]
  },
  {
   "cell_type": "code",
   "execution_count": 34,
   "metadata": {
    "ExecuteTime": {
     "end_time": "2020-02-12T22:36:31.053591Z",
     "start_time": "2020-02-12T22:36:31.048604Z"
    },
    "colab": {
     "base_uri": "https://localhost:8080/",
     "height": 55
    },
    "colab_type": "code",
    "id": "_ZyyeTcu4kBu",
    "outputId": "5b125763-35c6-43f8-fd5c-79ec2a2b5706"
   },
   "outputs": [
    {
     "name": "stdout",
     "output_type": "stream",
     "text": [
      "['make', 'fuel_type', 'num_of_doors', 'body_style', 'drive_wheels', 'engine_location', 'wheel_base', 'length', 'width', 'height', 'curb_weight', 'engine_type', 'num_of_cylinders', 'engine_size', 'fuel_system', 'bore', 'stroke', 'compression_ratio', 'horsepower', 'peak_rpm', 'city_mpg', 'highway_mpg', 'price']\n"
     ]
    }
   ],
   "source": [
    "print(data.columns.tolist())"
   ]
  },
  {
   "cell_type": "code",
   "execution_count": 35,
   "metadata": {
    "ExecuteTime": {
     "end_time": "2020-02-12T22:36:31.285396Z",
     "start_time": "2020-02-12T22:36:31.278377Z"
    },
    "colab": {},
    "colab_type": "code",
    "id": "DNmWVbNQ4m5c"
   },
   "outputs": [],
   "source": [
    "data = data.rename(columns={\"price\":\"price_USD\"})"
   ]
  },
  {
   "cell_type": "code",
   "execution_count": 36,
   "metadata": {
    "ExecuteTime": {
     "end_time": "2020-02-12T22:36:31.498391Z",
     "start_time": "2020-02-12T22:36:31.482435Z"
    },
    "colab": {
     "base_uri": "https://localhost:8080/",
     "height": 198
    },
    "colab_type": "code",
    "id": "cR6KLOfYF89s",
    "outputId": "ef9ba2c7-5f1a-4e8d-8226-86b95abec6dc"
   },
   "outputs": [
    {
     "data": {
      "text/html": [
       "<div>\n",
       "<style scoped>\n",
       "    .dataframe tbody tr th:only-of-type {\n",
       "        vertical-align: middle;\n",
       "    }\n",
       "\n",
       "    .dataframe tbody tr th {\n",
       "        vertical-align: top;\n",
       "    }\n",
       "\n",
       "    .dataframe thead th {\n",
       "        text-align: right;\n",
       "    }\n",
       "</style>\n",
       "<table border=\"1\" class=\"dataframe\">\n",
       "  <thead>\n",
       "    <tr style=\"text-align: right;\">\n",
       "      <th></th>\n",
       "      <th>price_USD</th>\n",
       "      <th>price_AMD</th>\n",
       "    </tr>\n",
       "  </thead>\n",
       "  <tbody>\n",
       "    <tr>\n",
       "      <td>0</td>\n",
       "      <td>13495</td>\n",
       "      <td>6545075</td>\n",
       "    </tr>\n",
       "    <tr>\n",
       "      <td>1</td>\n",
       "      <td>16500</td>\n",
       "      <td>8002500</td>\n",
       "    </tr>\n",
       "    <tr>\n",
       "      <td>2</td>\n",
       "      <td>16500</td>\n",
       "      <td>8002500</td>\n",
       "    </tr>\n",
       "    <tr>\n",
       "      <td>3</td>\n",
       "      <td>13950</td>\n",
       "      <td>6765750</td>\n",
       "    </tr>\n",
       "    <tr>\n",
       "      <td>4</td>\n",
       "      <td>17450</td>\n",
       "      <td>8463250</td>\n",
       "    </tr>\n",
       "  </tbody>\n",
       "</table>\n",
       "</div>"
      ],
      "text/plain": [
       "   price_USD  price_AMD\n",
       "0      13495    6545075\n",
       "1      16500    8002500\n",
       "2      16500    8002500\n",
       "3      13950    6765750\n",
       "4      17450    8463250"
      ]
     },
     "execution_count": 36,
     "metadata": {},
     "output_type": "execute_result"
    }
   ],
   "source": [
    "data[\"price_AMD\"] = data.price_USD.apply(lambda x: x*485)\n",
    "data[[\"price_USD\", \"price_AMD\"]].head()"
   ]
  },
  {
   "cell_type": "code",
   "execution_count": 37,
   "metadata": {
    "ExecuteTime": {
     "end_time": "2020-02-12T22:36:31.721393Z",
     "start_time": "2020-02-12T22:36:31.689479Z"
    },
    "colab": {
     "base_uri": "https://localhost:8080/",
     "height": 253
    },
    "colab_type": "code",
    "id": "FiNxsxhHIJES",
    "outputId": "27c392df-dd64-4dcd-e2e8-e601d18b1c81"
   },
   "outputs": [
    {
     "data": {
      "text/html": [
       "<div>\n",
       "<style scoped>\n",
       "    .dataframe tbody tr th:only-of-type {\n",
       "        vertical-align: middle;\n",
       "    }\n",
       "\n",
       "    .dataframe tbody tr th {\n",
       "        vertical-align: top;\n",
       "    }\n",
       "\n",
       "    .dataframe thead th {\n",
       "        text-align: right;\n",
       "    }\n",
       "</style>\n",
       "<table border=\"1\" class=\"dataframe\">\n",
       "  <thead>\n",
       "    <tr style=\"text-align: right;\">\n",
       "      <th></th>\n",
       "      <th>make</th>\n",
       "      <th>fuel_type</th>\n",
       "      <th>num_of_doors</th>\n",
       "      <th>body_style</th>\n",
       "      <th>drive_wheels</th>\n",
       "      <th>engine_location</th>\n",
       "      <th>wheel_base</th>\n",
       "      <th>length</th>\n",
       "      <th>width</th>\n",
       "      <th>height</th>\n",
       "      <th>...</th>\n",
       "      <th>fuel_system</th>\n",
       "      <th>bore</th>\n",
       "      <th>stroke</th>\n",
       "      <th>compression_ratio</th>\n",
       "      <th>horsepower</th>\n",
       "      <th>peak_rpm</th>\n",
       "      <th>city_mpg</th>\n",
       "      <th>highway_mpg</th>\n",
       "      <th>price_USD</th>\n",
       "      <th>price_AMD</th>\n",
       "    </tr>\n",
       "  </thead>\n",
       "  <tbody>\n",
       "    <tr>\n",
       "      <td>65</td>\n",
       "      <td>mercedes-benz</td>\n",
       "      <td>gas</td>\n",
       "      <td>two</td>\n",
       "      <td>hardtop</td>\n",
       "      <td>rwd</td>\n",
       "      <td>front</td>\n",
       "      <td>112.0</td>\n",
       "      <td>199.2</td>\n",
       "      <td>72.0</td>\n",
       "      <td>55.4</td>\n",
       "      <td>...</td>\n",
       "      <td>mpfi</td>\n",
       "      <td>3.80</td>\n",
       "      <td>3.35</td>\n",
       "      <td>8.0</td>\n",
       "      <td>184</td>\n",
       "      <td>4500</td>\n",
       "      <td>14</td>\n",
       "      <td>16</td>\n",
       "      <td>45400</td>\n",
       "      <td>22019000</td>\n",
       "    </tr>\n",
       "    <tr>\n",
       "      <td>15</td>\n",
       "      <td>bmw</td>\n",
       "      <td>gas</td>\n",
       "      <td>two</td>\n",
       "      <td>sedan</td>\n",
       "      <td>rwd</td>\n",
       "      <td>front</td>\n",
       "      <td>103.5</td>\n",
       "      <td>193.8</td>\n",
       "      <td>67.9</td>\n",
       "      <td>53.7</td>\n",
       "      <td>...</td>\n",
       "      <td>mpfi</td>\n",
       "      <td>3.62</td>\n",
       "      <td>3.39</td>\n",
       "      <td>8.0</td>\n",
       "      <td>182</td>\n",
       "      <td>5400</td>\n",
       "      <td>16</td>\n",
       "      <td>22</td>\n",
       "      <td>41315</td>\n",
       "      <td>20037775</td>\n",
       "    </tr>\n",
       "    <tr>\n",
       "      <td>64</td>\n",
       "      <td>mercedes-benz</td>\n",
       "      <td>gas</td>\n",
       "      <td>four</td>\n",
       "      <td>sedan</td>\n",
       "      <td>rwd</td>\n",
       "      <td>front</td>\n",
       "      <td>120.9</td>\n",
       "      <td>208.1</td>\n",
       "      <td>71.7</td>\n",
       "      <td>56.7</td>\n",
       "      <td>...</td>\n",
       "      <td>mpfi</td>\n",
       "      <td>3.80</td>\n",
       "      <td>3.35</td>\n",
       "      <td>8.0</td>\n",
       "      <td>184</td>\n",
       "      <td>4500</td>\n",
       "      <td>14</td>\n",
       "      <td>16</td>\n",
       "      <td>40960</td>\n",
       "      <td>19865600</td>\n",
       "    </tr>\n",
       "    <tr>\n",
       "      <td>119</td>\n",
       "      <td>porsche</td>\n",
       "      <td>gas</td>\n",
       "      <td>two</td>\n",
       "      <td>convertible</td>\n",
       "      <td>rwd</td>\n",
       "      <td>rear</td>\n",
       "      <td>89.5</td>\n",
       "      <td>168.9</td>\n",
       "      <td>65.0</td>\n",
       "      <td>51.6</td>\n",
       "      <td>...</td>\n",
       "      <td>mpfi</td>\n",
       "      <td>3.74</td>\n",
       "      <td>2.90</td>\n",
       "      <td>9.5</td>\n",
       "      <td>207</td>\n",
       "      <td>5900</td>\n",
       "      <td>17</td>\n",
       "      <td>25</td>\n",
       "      <td>37028</td>\n",
       "      <td>17958580</td>\n",
       "    </tr>\n",
       "    <tr>\n",
       "      <td>16</td>\n",
       "      <td>bmw</td>\n",
       "      <td>gas</td>\n",
       "      <td>four</td>\n",
       "      <td>sedan</td>\n",
       "      <td>rwd</td>\n",
       "      <td>front</td>\n",
       "      <td>110.0</td>\n",
       "      <td>197.0</td>\n",
       "      <td>70.9</td>\n",
       "      <td>56.3</td>\n",
       "      <td>...</td>\n",
       "      <td>mpfi</td>\n",
       "      <td>3.62</td>\n",
       "      <td>3.39</td>\n",
       "      <td>8.0</td>\n",
       "      <td>182</td>\n",
       "      <td>5400</td>\n",
       "      <td>15</td>\n",
       "      <td>20</td>\n",
       "      <td>36880</td>\n",
       "      <td>17886800</td>\n",
       "    </tr>\n",
       "  </tbody>\n",
       "</table>\n",
       "<p>5 rows × 24 columns</p>\n",
       "</div>"
      ],
      "text/plain": [
       "              make fuel_type num_of_doors   body_style drive_wheels  \\\n",
       "65   mercedes-benz       gas          two      hardtop          rwd   \n",
       "15             bmw       gas          two        sedan          rwd   \n",
       "64   mercedes-benz       gas         four        sedan          rwd   \n",
       "119        porsche       gas          two  convertible          rwd   \n",
       "16             bmw       gas         four        sedan          rwd   \n",
       "\n",
       "    engine_location  wheel_base  length  width  height  ...  fuel_system  \\\n",
       "65            front       112.0   199.2   72.0    55.4  ...         mpfi   \n",
       "15            front       103.5   193.8   67.9    53.7  ...         mpfi   \n",
       "64            front       120.9   208.1   71.7    56.7  ...         mpfi   \n",
       "119            rear        89.5   168.9   65.0    51.6  ...         mpfi   \n",
       "16            front       110.0   197.0   70.9    56.3  ...         mpfi   \n",
       "\n",
       "     bore stroke  compression_ratio horsepower  peak_rpm  city_mpg  \\\n",
       "65   3.80   3.35                8.0        184      4500        14   \n",
       "15   3.62   3.39                8.0        182      5400        16   \n",
       "64   3.80   3.35                8.0        184      4500        14   \n",
       "119  3.74   2.90                9.5        207      5900        17   \n",
       "16   3.62   3.39                8.0        182      5400        15   \n",
       "\n",
       "     highway_mpg  price_USD  price_AMD  \n",
       "65            16      45400   22019000  \n",
       "15            22      41315   20037775  \n",
       "64            16      40960   19865600  \n",
       "119           25      37028   17958580  \n",
       "16            20      36880   17886800  \n",
       "\n",
       "[5 rows x 24 columns]"
      ]
     },
     "execution_count": 37,
     "metadata": {},
     "output_type": "execute_result"
    }
   ],
   "source": [
    "data.sort_values(by=\"price_USD\",ascending=False).head()"
   ]
  },
  {
   "cell_type": "code",
   "execution_count": 38,
   "metadata": {
    "ExecuteTime": {
     "end_time": "2020-02-12T22:36:31.950807Z",
     "start_time": "2020-02-12T22:36:31.925911Z"
    },
    "colab": {
     "base_uri": "https://localhost:8080/",
     "height": 198
    },
    "colab_type": "code",
    "id": "iJnhPRqK4vQM",
    "outputId": "59e5d9d1-7e0c-4b50-ef1a-429c2718ccf4"
   },
   "outputs": [
    {
     "data": {
      "text/html": [
       "<div>\n",
       "<style scoped>\n",
       "    .dataframe tbody tr th:only-of-type {\n",
       "        vertical-align: middle;\n",
       "    }\n",
       "\n",
       "    .dataframe tbody tr th {\n",
       "        vertical-align: top;\n",
       "    }\n",
       "\n",
       "    .dataframe thead th {\n",
       "        text-align: right;\n",
       "    }\n",
       "</style>\n",
       "<table border=\"1\" class=\"dataframe\">\n",
       "  <thead>\n",
       "    <tr style=\"text-align: right;\">\n",
       "      <th></th>\n",
       "      <th>audi</th>\n",
       "      <th>bmw</th>\n",
       "      <th>chevrolet</th>\n",
       "      <th>dodge</th>\n",
       "      <th>honda</th>\n",
       "      <th>isuzu</th>\n",
       "      <th>jaguar</th>\n",
       "      <th>mazda</th>\n",
       "      <th>mercedes-benz</th>\n",
       "      <th>mercury</th>\n",
       "      <th>mitsubishi</th>\n",
       "      <th>nissan</th>\n",
       "      <th>peugot</th>\n",
       "      <th>plymouth</th>\n",
       "      <th>porsche</th>\n",
       "      <th>saab</th>\n",
       "      <th>subaru</th>\n",
       "      <th>toyota</th>\n",
       "      <th>volkswagen</th>\n",
       "      <th>volvo</th>\n",
       "    </tr>\n",
       "  </thead>\n",
       "  <tbody>\n",
       "    <tr>\n",
       "      <td>0</td>\n",
       "      <td>0</td>\n",
       "      <td>0</td>\n",
       "      <td>0</td>\n",
       "      <td>0</td>\n",
       "      <td>0</td>\n",
       "      <td>0</td>\n",
       "      <td>0</td>\n",
       "      <td>0</td>\n",
       "      <td>0</td>\n",
       "      <td>0</td>\n",
       "      <td>0</td>\n",
       "      <td>0</td>\n",
       "      <td>0</td>\n",
       "      <td>0</td>\n",
       "      <td>0</td>\n",
       "      <td>0</td>\n",
       "      <td>0</td>\n",
       "      <td>0</td>\n",
       "      <td>0</td>\n",
       "      <td>0</td>\n",
       "    </tr>\n",
       "    <tr>\n",
       "      <td>1</td>\n",
       "      <td>0</td>\n",
       "      <td>0</td>\n",
       "      <td>0</td>\n",
       "      <td>0</td>\n",
       "      <td>0</td>\n",
       "      <td>0</td>\n",
       "      <td>0</td>\n",
       "      <td>0</td>\n",
       "      <td>0</td>\n",
       "      <td>0</td>\n",
       "      <td>0</td>\n",
       "      <td>0</td>\n",
       "      <td>0</td>\n",
       "      <td>0</td>\n",
       "      <td>0</td>\n",
       "      <td>0</td>\n",
       "      <td>0</td>\n",
       "      <td>0</td>\n",
       "      <td>0</td>\n",
       "      <td>0</td>\n",
       "    </tr>\n",
       "    <tr>\n",
       "      <td>2</td>\n",
       "      <td>0</td>\n",
       "      <td>0</td>\n",
       "      <td>0</td>\n",
       "      <td>0</td>\n",
       "      <td>0</td>\n",
       "      <td>0</td>\n",
       "      <td>0</td>\n",
       "      <td>0</td>\n",
       "      <td>0</td>\n",
       "      <td>0</td>\n",
       "      <td>0</td>\n",
       "      <td>0</td>\n",
       "      <td>0</td>\n",
       "      <td>0</td>\n",
       "      <td>0</td>\n",
       "      <td>0</td>\n",
       "      <td>0</td>\n",
       "      <td>0</td>\n",
       "      <td>0</td>\n",
       "      <td>0</td>\n",
       "    </tr>\n",
       "    <tr>\n",
       "      <td>3</td>\n",
       "      <td>1</td>\n",
       "      <td>0</td>\n",
       "      <td>0</td>\n",
       "      <td>0</td>\n",
       "      <td>0</td>\n",
       "      <td>0</td>\n",
       "      <td>0</td>\n",
       "      <td>0</td>\n",
       "      <td>0</td>\n",
       "      <td>0</td>\n",
       "      <td>0</td>\n",
       "      <td>0</td>\n",
       "      <td>0</td>\n",
       "      <td>0</td>\n",
       "      <td>0</td>\n",
       "      <td>0</td>\n",
       "      <td>0</td>\n",
       "      <td>0</td>\n",
       "      <td>0</td>\n",
       "      <td>0</td>\n",
       "    </tr>\n",
       "    <tr>\n",
       "      <td>4</td>\n",
       "      <td>1</td>\n",
       "      <td>0</td>\n",
       "      <td>0</td>\n",
       "      <td>0</td>\n",
       "      <td>0</td>\n",
       "      <td>0</td>\n",
       "      <td>0</td>\n",
       "      <td>0</td>\n",
       "      <td>0</td>\n",
       "      <td>0</td>\n",
       "      <td>0</td>\n",
       "      <td>0</td>\n",
       "      <td>0</td>\n",
       "      <td>0</td>\n",
       "      <td>0</td>\n",
       "      <td>0</td>\n",
       "      <td>0</td>\n",
       "      <td>0</td>\n",
       "      <td>0</td>\n",
       "      <td>0</td>\n",
       "    </tr>\n",
       "  </tbody>\n",
       "</table>\n",
       "</div>"
      ],
      "text/plain": [
       "   audi  bmw  chevrolet  dodge  honda  isuzu  jaguar  mazda  mercedes-benz  \\\n",
       "0     0    0          0      0      0      0       0      0              0   \n",
       "1     0    0          0      0      0      0       0      0              0   \n",
       "2     0    0          0      0      0      0       0      0              0   \n",
       "3     1    0          0      0      0      0       0      0              0   \n",
       "4     1    0          0      0      0      0       0      0              0   \n",
       "\n",
       "   mercury  mitsubishi  nissan  peugot  plymouth  porsche  saab  subaru  \\\n",
       "0        0           0       0       0         0        0     0       0   \n",
       "1        0           0       0       0         0        0     0       0   \n",
       "2        0           0       0       0         0        0     0       0   \n",
       "3        0           0       0       0         0        0     0       0   \n",
       "4        0           0       0       0         0        0     0       0   \n",
       "\n",
       "   toyota  volkswagen  volvo  \n",
       "0       0           0      0  \n",
       "1       0           0      0  \n",
       "2       0           0      0  \n",
       "3       0           0      0  \n",
       "4       0           0      0  "
      ]
     },
     "execution_count": 38,
     "metadata": {},
     "output_type": "execute_result"
    }
   ],
   "source": [
    "pd.get_dummies(data.make,drop_first=True).head()"
   ]
  },
  {
   "cell_type": "code",
   "execution_count": 39,
   "metadata": {
    "ExecuteTime": {
     "end_time": "2020-02-12T22:36:32.179197Z",
     "start_time": "2020-02-12T22:36:32.133319Z"
    },
    "colab": {
     "base_uri": "https://localhost:8080/",
     "height": 708
    },
    "colab_type": "code",
    "id": "wzYtfR6pHc1X",
    "outputId": "837f6931-d07e-4952-885a-e79228e2b669"
   },
   "outputs": [
    {
     "data": {
      "text/html": [
       "<div>\n",
       "<style scoped>\n",
       "    .dataframe tbody tr th:only-of-type {\n",
       "        vertical-align: middle;\n",
       "    }\n",
       "\n",
       "    .dataframe tbody tr th {\n",
       "        vertical-align: top;\n",
       "    }\n",
       "\n",
       "    .dataframe thead th {\n",
       "        text-align: right;\n",
       "    }\n",
       "</style>\n",
       "<table border=\"1\" class=\"dataframe\">\n",
       "  <thead>\n",
       "    <tr style=\"text-align: right;\">\n",
       "      <th></th>\n",
       "      <th>wheel_base</th>\n",
       "      <th>length</th>\n",
       "      <th>width</th>\n",
       "      <th>height</th>\n",
       "      <th>curb_weight</th>\n",
       "      <th>engine_size</th>\n",
       "      <th>bore</th>\n",
       "      <th>stroke</th>\n",
       "      <th>compression_ratio</th>\n",
       "      <th>horsepower</th>\n",
       "      <th>peak_rpm</th>\n",
       "      <th>city_mpg</th>\n",
       "      <th>highway_mpg</th>\n",
       "      <th>price_USD</th>\n",
       "      <th>price_AMD</th>\n",
       "    </tr>\n",
       "    <tr>\n",
       "      <th>make</th>\n",
       "      <th></th>\n",
       "      <th></th>\n",
       "      <th></th>\n",
       "      <th></th>\n",
       "      <th></th>\n",
       "      <th></th>\n",
       "      <th></th>\n",
       "      <th></th>\n",
       "      <th></th>\n",
       "      <th></th>\n",
       "      <th></th>\n",
       "      <th></th>\n",
       "      <th></th>\n",
       "      <th></th>\n",
       "      <th></th>\n",
       "    </tr>\n",
       "  </thead>\n",
       "  <tbody>\n",
       "    <tr>\n",
       "      <td>alfa-romero</td>\n",
       "      <td>90.566667</td>\n",
       "      <td>169.600000</td>\n",
       "      <td>64.566667</td>\n",
       "      <td>50.000000</td>\n",
       "      <td>2639.666667</td>\n",
       "      <td>137.333333</td>\n",
       "      <td>3.206667</td>\n",
       "      <td>2.943333</td>\n",
       "      <td>9.000000</td>\n",
       "      <td>125.333333</td>\n",
       "      <td>5000.000000</td>\n",
       "      <td>20.333333</td>\n",
       "      <td>26.666667</td>\n",
       "      <td>15498.333333</td>\n",
       "      <td>7.516692e+06</td>\n",
       "    </tr>\n",
       "    <tr>\n",
       "      <td>audi</td>\n",
       "      <td>102.733333</td>\n",
       "      <td>184.766667</td>\n",
       "      <td>68.850000</td>\n",
       "      <td>54.833333</td>\n",
       "      <td>2758.666667</td>\n",
       "      <td>130.666667</td>\n",
       "      <td>3.180000</td>\n",
       "      <td>3.400000</td>\n",
       "      <td>8.633333</td>\n",
       "      <td>114.500000</td>\n",
       "      <td>5500.000000</td>\n",
       "      <td>19.333333</td>\n",
       "      <td>24.500000</td>\n",
       "      <td>17859.166667</td>\n",
       "      <td>8.661696e+06</td>\n",
       "    </tr>\n",
       "    <tr>\n",
       "      <td>bmw</td>\n",
       "      <td>103.162500</td>\n",
       "      <td>184.500000</td>\n",
       "      <td>66.475000</td>\n",
       "      <td>54.825000</td>\n",
       "      <td>2929.375000</td>\n",
       "      <td>166.875000</td>\n",
       "      <td>3.473750</td>\n",
       "      <td>3.167500</td>\n",
       "      <td>8.575000</td>\n",
       "      <td>138.875000</td>\n",
       "      <td>5068.750000</td>\n",
       "      <td>19.375000</td>\n",
       "      <td>25.375000</td>\n",
       "      <td>26118.750000</td>\n",
       "      <td>1.266759e+07</td>\n",
       "    </tr>\n",
       "    <tr>\n",
       "      <td>chevrolet</td>\n",
       "      <td>92.466667</td>\n",
       "      <td>151.933333</td>\n",
       "      <td>62.500000</td>\n",
       "      <td>52.400000</td>\n",
       "      <td>1757.000000</td>\n",
       "      <td>80.333333</td>\n",
       "      <td>2.990000</td>\n",
       "      <td>3.083333</td>\n",
       "      <td>9.566667</td>\n",
       "      <td>62.666667</td>\n",
       "      <td>5300.000000</td>\n",
       "      <td>41.000000</td>\n",
       "      <td>46.333333</td>\n",
       "      <td>6007.000000</td>\n",
       "      <td>2.913395e+06</td>\n",
       "    </tr>\n",
       "    <tr>\n",
       "      <td>dodge</td>\n",
       "      <td>95.175000</td>\n",
       "      <td>161.450000</td>\n",
       "      <td>64.212500</td>\n",
       "      <td>51.775000</td>\n",
       "      <td>2146.375000</td>\n",
       "      <td>103.250000</td>\n",
       "      <td>3.102500</td>\n",
       "      <td>3.362500</td>\n",
       "      <td>8.763750</td>\n",
       "      <td>84.375000</td>\n",
       "      <td>5375.000000</td>\n",
       "      <td>28.500000</td>\n",
       "      <td>34.625000</td>\n",
       "      <td>7790.125000</td>\n",
       "      <td>3.778211e+06</td>\n",
       "    </tr>\n",
       "    <tr>\n",
       "      <td>honda</td>\n",
       "      <td>94.330769</td>\n",
       "      <td>160.769231</td>\n",
       "      <td>64.384615</td>\n",
       "      <td>53.238462</td>\n",
       "      <td>2096.769231</td>\n",
       "      <td>99.307692</td>\n",
       "      <td>3.021538</td>\n",
       "      <td>3.462308</td>\n",
       "      <td>9.215385</td>\n",
       "      <td>80.230769</td>\n",
       "      <td>5753.846154</td>\n",
       "      <td>30.384615</td>\n",
       "      <td>35.461538</td>\n",
       "      <td>8184.692308</td>\n",
       "      <td>3.969576e+06</td>\n",
       "    </tr>\n",
       "    <tr>\n",
       "      <td>isuzu</td>\n",
       "      <td>95.150000</td>\n",
       "      <td>171.650000</td>\n",
       "      <td>63.500000</td>\n",
       "      <td>52.450000</td>\n",
       "      <td>2535.500000</td>\n",
       "      <td>115.000000</td>\n",
       "      <td>3.370000</td>\n",
       "      <td>3.230000</td>\n",
       "      <td>8.850000</td>\n",
       "      <td>84.000000</td>\n",
       "      <td>4900.000000</td>\n",
       "      <td>24.000000</td>\n",
       "      <td>29.000000</td>\n",
       "      <td>8916.500000</td>\n",
       "      <td>4.324502e+06</td>\n",
       "    </tr>\n",
       "    <tr>\n",
       "      <td>jaguar</td>\n",
       "      <td>109.333333</td>\n",
       "      <td>196.966667</td>\n",
       "      <td>69.933333</td>\n",
       "      <td>51.133333</td>\n",
       "      <td>4027.333333</td>\n",
       "      <td>280.666667</td>\n",
       "      <td>3.600000</td>\n",
       "      <td>3.700000</td>\n",
       "      <td>9.233333</td>\n",
       "      <td>204.666667</td>\n",
       "      <td>4833.333333</td>\n",
       "      <td>14.333333</td>\n",
       "      <td>18.333333</td>\n",
       "      <td>34600.000000</td>\n",
       "      <td>1.678100e+07</td>\n",
       "    </tr>\n",
       "    <tr>\n",
       "      <td>mazda</td>\n",
       "      <td>97.441667</td>\n",
       "      <td>170.825000</td>\n",
       "      <td>65.475000</td>\n",
       "      <td>54.433333</td>\n",
       "      <td>2247.916667</td>\n",
       "      <td>111.583333</td>\n",
       "      <td>3.278333</td>\n",
       "      <td>3.291667</td>\n",
       "      <td>9.833333</td>\n",
       "      <td>79.333333</td>\n",
       "      <td>4850.000000</td>\n",
       "      <td>27.833333</td>\n",
       "      <td>34.083333</td>\n",
       "      <td>9852.000000</td>\n",
       "      <td>4.778220e+06</td>\n",
       "    </tr>\n",
       "    <tr>\n",
       "      <td>mercedes-benz</td>\n",
       "      <td>110.925000</td>\n",
       "      <td>195.262500</td>\n",
       "      <td>71.062500</td>\n",
       "      <td>55.725000</td>\n",
       "      <td>3696.250000</td>\n",
       "      <td>226.500000</td>\n",
       "      <td>3.605000</td>\n",
       "      <td>3.432500</td>\n",
       "      <td>14.825000</td>\n",
       "      <td>146.250000</td>\n",
       "      <td>4487.500000</td>\n",
       "      <td>18.500000</td>\n",
       "      <td>21.000000</td>\n",
       "      <td>33647.000000</td>\n",
       "      <td>1.631880e+07</td>\n",
       "    </tr>\n",
       "    <tr>\n",
       "      <td>mercury</td>\n",
       "      <td>102.700000</td>\n",
       "      <td>178.400000</td>\n",
       "      <td>68.000000</td>\n",
       "      <td>54.800000</td>\n",
       "      <td>2910.000000</td>\n",
       "      <td>140.000000</td>\n",
       "      <td>3.780000</td>\n",
       "      <td>3.120000</td>\n",
       "      <td>8.000000</td>\n",
       "      <td>175.000000</td>\n",
       "      <td>5000.000000</td>\n",
       "      <td>19.000000</td>\n",
       "      <td>24.000000</td>\n",
       "      <td>16503.000000</td>\n",
       "      <td>8.003955e+06</td>\n",
       "    </tr>\n",
       "    <tr>\n",
       "      <td>mitsubishi</td>\n",
       "      <td>95.353846</td>\n",
       "      <td>168.030769</td>\n",
       "      <td>65.253846</td>\n",
       "      <td>50.692308</td>\n",
       "      <td>2381.923077</td>\n",
       "      <td>118.307692</td>\n",
       "      <td>3.250769</td>\n",
       "      <td>3.493846</td>\n",
       "      <td>8.061538</td>\n",
       "      <td>104.076923</td>\n",
       "      <td>5269.230769</td>\n",
       "      <td>24.923077</td>\n",
       "      <td>31.153846</td>\n",
       "      <td>9239.769231</td>\n",
       "      <td>4.481288e+06</td>\n",
       "    </tr>\n",
       "    <tr>\n",
       "      <td>nissan</td>\n",
       "      <td>95.722222</td>\n",
       "      <td>170.988889</td>\n",
       "      <td>65.088889</td>\n",
       "      <td>53.633333</td>\n",
       "      <td>2400.388889</td>\n",
       "      <td>127.888889</td>\n",
       "      <td>3.254444</td>\n",
       "      <td>3.313333</td>\n",
       "      <td>9.794444</td>\n",
       "      <td>102.555556</td>\n",
       "      <td>5177.777778</td>\n",
       "      <td>27.000000</td>\n",
       "      <td>32.944444</td>\n",
       "      <td>10415.666667</td>\n",
       "      <td>5.051598e+06</td>\n",
       "    </tr>\n",
       "    <tr>\n",
       "      <td>peugot</td>\n",
       "      <td>110.200000</td>\n",
       "      <td>191.136364</td>\n",
       "      <td>68.390909</td>\n",
       "      <td>57.181818</td>\n",
       "      <td>3221.000000</td>\n",
       "      <td>135.818182</td>\n",
       "      <td>3.582727</td>\n",
       "      <td>3.160000</td>\n",
       "      <td>14.000000</td>\n",
       "      <td>99.818182</td>\n",
       "      <td>4668.181818</td>\n",
       "      <td>22.454545</td>\n",
       "      <td>26.636364</td>\n",
       "      <td>15489.090909</td>\n",
       "      <td>7.512209e+06</td>\n",
       "    </tr>\n",
       "    <tr>\n",
       "      <td>plymouth</td>\n",
       "      <td>95.385714</td>\n",
       "      <td>164.900000</td>\n",
       "      <td>64.271429</td>\n",
       "      <td>51.971429</td>\n",
       "      <td>2220.857143</td>\n",
       "      <td>106.285714</td>\n",
       "      <td>3.121429</td>\n",
       "      <td>3.375714</td>\n",
       "      <td>8.671429</td>\n",
       "      <td>86.714286</td>\n",
       "      <td>5357.142857</td>\n",
       "      <td>28.142857</td>\n",
       "      <td>34.142857</td>\n",
       "      <td>7963.428571</td>\n",
       "      <td>3.862263e+06</td>\n",
       "    </tr>\n",
       "    <tr>\n",
       "      <td>porsche</td>\n",
       "      <td>90.750000</td>\n",
       "      <td>168.900000</td>\n",
       "      <td>65.825000</td>\n",
       "      <td>51.250000</td>\n",
       "      <td>2772.500000</td>\n",
       "      <td>183.250000</td>\n",
       "      <td>3.790000</td>\n",
       "      <td>2.952500</td>\n",
       "      <td>9.500000</td>\n",
       "      <td>191.000000</td>\n",
       "      <td>5800.000000</td>\n",
       "      <td>17.500000</td>\n",
       "      <td>25.500000</td>\n",
       "      <td>31400.500000</td>\n",
       "      <td>1.522924e+07</td>\n",
       "    </tr>\n",
       "    <tr>\n",
       "      <td>saab</td>\n",
       "      <td>99.100000</td>\n",
       "      <td>186.600000</td>\n",
       "      <td>66.500000</td>\n",
       "      <td>56.100000</td>\n",
       "      <td>2745.500000</td>\n",
       "      <td>121.000000</td>\n",
       "      <td>3.373333</td>\n",
       "      <td>2.903333</td>\n",
       "      <td>9.201667</td>\n",
       "      <td>126.666667</td>\n",
       "      <td>5333.333333</td>\n",
       "      <td>20.333333</td>\n",
       "      <td>27.333333</td>\n",
       "      <td>15223.333333</td>\n",
       "      <td>7.383317e+06</td>\n",
       "    </tr>\n",
       "    <tr>\n",
       "      <td>subaru</td>\n",
       "      <td>96.175000</td>\n",
       "      <td>168.858333</td>\n",
       "      <td>64.950000</td>\n",
       "      <td>53.750000</td>\n",
       "      <td>2316.250000</td>\n",
       "      <td>107.083333</td>\n",
       "      <td>3.620000</td>\n",
       "      <td>2.616667</td>\n",
       "      <td>8.816667</td>\n",
       "      <td>86.250000</td>\n",
       "      <td>4775.000000</td>\n",
       "      <td>26.333333</td>\n",
       "      <td>30.750000</td>\n",
       "      <td>8541.250000</td>\n",
       "      <td>4.142506e+06</td>\n",
       "    </tr>\n",
       "    <tr>\n",
       "      <td>toyota</td>\n",
       "      <td>98.103125</td>\n",
       "      <td>171.934375</td>\n",
       "      <td>65.090625</td>\n",
       "      <td>53.721875</td>\n",
       "      <td>2441.093750</td>\n",
       "      <td>118.812500</td>\n",
       "      <td>3.280000</td>\n",
       "      <td>3.255000</td>\n",
       "      <td>10.340625</td>\n",
       "      <td>92.781250</td>\n",
       "      <td>4859.375000</td>\n",
       "      <td>27.500000</td>\n",
       "      <td>32.906250</td>\n",
       "      <td>9885.812500</td>\n",
       "      <td>4.794619e+06</td>\n",
       "    </tr>\n",
       "    <tr>\n",
       "      <td>volkswagen</td>\n",
       "      <td>97.608333</td>\n",
       "      <td>172.533333</td>\n",
       "      <td>65.616667</td>\n",
       "      <td>55.183333</td>\n",
       "      <td>2343.166667</td>\n",
       "      <td>107.250000</td>\n",
       "      <td>3.130000</td>\n",
       "      <td>3.400000</td>\n",
       "      <td>13.625000</td>\n",
       "      <td>81.083333</td>\n",
       "      <td>5154.166667</td>\n",
       "      <td>28.583333</td>\n",
       "      <td>34.916667</td>\n",
       "      <td>10077.500000</td>\n",
       "      <td>4.887588e+06</td>\n",
       "    </tr>\n",
       "    <tr>\n",
       "      <td>volvo</td>\n",
       "      <td>106.481818</td>\n",
       "      <td>188.800000</td>\n",
       "      <td>67.963636</td>\n",
       "      <td>56.236364</td>\n",
       "      <td>3037.909091</td>\n",
       "      <td>142.272727</td>\n",
       "      <td>3.662727</td>\n",
       "      <td>3.147273</td>\n",
       "      <td>10.227273</td>\n",
       "      <td>128.000000</td>\n",
       "      <td>5290.909091</td>\n",
       "      <td>21.181818</td>\n",
       "      <td>25.818182</td>\n",
       "      <td>18063.181818</td>\n",
       "      <td>8.760643e+06</td>\n",
       "    </tr>\n",
       "  </tbody>\n",
       "</table>\n",
       "</div>"
      ],
      "text/plain": [
       "               wheel_base      length      width     height  curb_weight  \\\n",
       "make                                                                       \n",
       "alfa-romero     90.566667  169.600000  64.566667  50.000000  2639.666667   \n",
       "audi           102.733333  184.766667  68.850000  54.833333  2758.666667   \n",
       "bmw            103.162500  184.500000  66.475000  54.825000  2929.375000   \n",
       "chevrolet       92.466667  151.933333  62.500000  52.400000  1757.000000   \n",
       "dodge           95.175000  161.450000  64.212500  51.775000  2146.375000   \n",
       "honda           94.330769  160.769231  64.384615  53.238462  2096.769231   \n",
       "isuzu           95.150000  171.650000  63.500000  52.450000  2535.500000   \n",
       "jaguar         109.333333  196.966667  69.933333  51.133333  4027.333333   \n",
       "mazda           97.441667  170.825000  65.475000  54.433333  2247.916667   \n",
       "mercedes-benz  110.925000  195.262500  71.062500  55.725000  3696.250000   \n",
       "mercury        102.700000  178.400000  68.000000  54.800000  2910.000000   \n",
       "mitsubishi      95.353846  168.030769  65.253846  50.692308  2381.923077   \n",
       "nissan          95.722222  170.988889  65.088889  53.633333  2400.388889   \n",
       "peugot         110.200000  191.136364  68.390909  57.181818  3221.000000   \n",
       "plymouth        95.385714  164.900000  64.271429  51.971429  2220.857143   \n",
       "porsche         90.750000  168.900000  65.825000  51.250000  2772.500000   \n",
       "saab            99.100000  186.600000  66.500000  56.100000  2745.500000   \n",
       "subaru          96.175000  168.858333  64.950000  53.750000  2316.250000   \n",
       "toyota          98.103125  171.934375  65.090625  53.721875  2441.093750   \n",
       "volkswagen      97.608333  172.533333  65.616667  55.183333  2343.166667   \n",
       "volvo          106.481818  188.800000  67.963636  56.236364  3037.909091   \n",
       "\n",
       "               engine_size      bore    stroke  compression_ratio  horsepower  \\\n",
       "make                                                                            \n",
       "alfa-romero     137.333333  3.206667  2.943333           9.000000  125.333333   \n",
       "audi            130.666667  3.180000  3.400000           8.633333  114.500000   \n",
       "bmw             166.875000  3.473750  3.167500           8.575000  138.875000   \n",
       "chevrolet        80.333333  2.990000  3.083333           9.566667   62.666667   \n",
       "dodge           103.250000  3.102500  3.362500           8.763750   84.375000   \n",
       "honda            99.307692  3.021538  3.462308           9.215385   80.230769   \n",
       "isuzu           115.000000  3.370000  3.230000           8.850000   84.000000   \n",
       "jaguar          280.666667  3.600000  3.700000           9.233333  204.666667   \n",
       "mazda           111.583333  3.278333  3.291667           9.833333   79.333333   \n",
       "mercedes-benz   226.500000  3.605000  3.432500          14.825000  146.250000   \n",
       "mercury         140.000000  3.780000  3.120000           8.000000  175.000000   \n",
       "mitsubishi      118.307692  3.250769  3.493846           8.061538  104.076923   \n",
       "nissan          127.888889  3.254444  3.313333           9.794444  102.555556   \n",
       "peugot          135.818182  3.582727  3.160000          14.000000   99.818182   \n",
       "plymouth        106.285714  3.121429  3.375714           8.671429   86.714286   \n",
       "porsche         183.250000  3.790000  2.952500           9.500000  191.000000   \n",
       "saab            121.000000  3.373333  2.903333           9.201667  126.666667   \n",
       "subaru          107.083333  3.620000  2.616667           8.816667   86.250000   \n",
       "toyota          118.812500  3.280000  3.255000          10.340625   92.781250   \n",
       "volkswagen      107.250000  3.130000  3.400000          13.625000   81.083333   \n",
       "volvo           142.272727  3.662727  3.147273          10.227273  128.000000   \n",
       "\n",
       "                  peak_rpm   city_mpg  highway_mpg     price_USD     price_AMD  \n",
       "make                                                                            \n",
       "alfa-romero    5000.000000  20.333333    26.666667  15498.333333  7.516692e+06  \n",
       "audi           5500.000000  19.333333    24.500000  17859.166667  8.661696e+06  \n",
       "bmw            5068.750000  19.375000    25.375000  26118.750000  1.266759e+07  \n",
       "chevrolet      5300.000000  41.000000    46.333333   6007.000000  2.913395e+06  \n",
       "dodge          5375.000000  28.500000    34.625000   7790.125000  3.778211e+06  \n",
       "honda          5753.846154  30.384615    35.461538   8184.692308  3.969576e+06  \n",
       "isuzu          4900.000000  24.000000    29.000000   8916.500000  4.324502e+06  \n",
       "jaguar         4833.333333  14.333333    18.333333  34600.000000  1.678100e+07  \n",
       "mazda          4850.000000  27.833333    34.083333   9852.000000  4.778220e+06  \n",
       "mercedes-benz  4487.500000  18.500000    21.000000  33647.000000  1.631880e+07  \n",
       "mercury        5000.000000  19.000000    24.000000  16503.000000  8.003955e+06  \n",
       "mitsubishi     5269.230769  24.923077    31.153846   9239.769231  4.481288e+06  \n",
       "nissan         5177.777778  27.000000    32.944444  10415.666667  5.051598e+06  \n",
       "peugot         4668.181818  22.454545    26.636364  15489.090909  7.512209e+06  \n",
       "plymouth       5357.142857  28.142857    34.142857   7963.428571  3.862263e+06  \n",
       "porsche        5800.000000  17.500000    25.500000  31400.500000  1.522924e+07  \n",
       "saab           5333.333333  20.333333    27.333333  15223.333333  7.383317e+06  \n",
       "subaru         4775.000000  26.333333    30.750000   8541.250000  4.142506e+06  \n",
       "toyota         4859.375000  27.500000    32.906250   9885.812500  4.794619e+06  \n",
       "volkswagen     5154.166667  28.583333    34.916667  10077.500000  4.887588e+06  \n",
       "volvo          5290.909091  21.181818    25.818182  18063.181818  8.760643e+06  "
      ]
     },
     "execution_count": 39,
     "metadata": {},
     "output_type": "execute_result"
    }
   ],
   "source": [
    "data.groupby([\"make\"]).mean()"
   ]
  },
  {
   "cell_type": "code",
   "execution_count": 40,
   "metadata": {
    "ExecuteTime": {
     "end_time": "2020-02-12T22:36:32.366973Z",
     "start_time": "2020-02-12T22:36:32.325086Z"
    },
    "colab": {
     "base_uri": "https://localhost:8080/",
     "height": 228
    },
    "colab_type": "code",
    "id": "nLqoUmOzHcsX",
    "outputId": "51210fad-223f-4de1-9b25-0c18bffc951e"
   },
   "outputs": [
    {
     "data": {
      "text/html": [
       "<div>\n",
       "<style scoped>\n",
       "    .dataframe tbody tr th:only-of-type {\n",
       "        vertical-align: middle;\n",
       "    }\n",
       "\n",
       "    .dataframe tbody tr th {\n",
       "        vertical-align: top;\n",
       "    }\n",
       "\n",
       "    .dataframe thead th {\n",
       "        text-align: right;\n",
       "    }\n",
       "</style>\n",
       "<table border=\"1\" class=\"dataframe\">\n",
       "  <thead>\n",
       "    <tr style=\"text-align: right;\">\n",
       "      <th>fuel_type</th>\n",
       "      <th>diesel</th>\n",
       "      <th>gas</th>\n",
       "    </tr>\n",
       "    <tr>\n",
       "      <th>make</th>\n",
       "      <th></th>\n",
       "      <th></th>\n",
       "    </tr>\n",
       "  </thead>\n",
       "  <tbody>\n",
       "    <tr>\n",
       "      <td>alfa-romero</td>\n",
       "      <td>0</td>\n",
       "      <td>3</td>\n",
       "    </tr>\n",
       "    <tr>\n",
       "      <td>audi</td>\n",
       "      <td>0</td>\n",
       "      <td>6</td>\n",
       "    </tr>\n",
       "    <tr>\n",
       "      <td>bmw</td>\n",
       "      <td>0</td>\n",
       "      <td>8</td>\n",
       "    </tr>\n",
       "    <tr>\n",
       "      <td>chevrolet</td>\n",
       "      <td>0</td>\n",
       "      <td>3</td>\n",
       "    </tr>\n",
       "    <tr>\n",
       "      <td>dodge</td>\n",
       "      <td>0</td>\n",
       "      <td>8</td>\n",
       "    </tr>\n",
       "  </tbody>\n",
       "</table>\n",
       "</div>"
      ],
      "text/plain": [
       "fuel_type    diesel  gas\n",
       "make                    \n",
       "alfa-romero       0    3\n",
       "audi              0    6\n",
       "bmw               0    8\n",
       "chevrolet         0    3\n",
       "dodge             0    8"
      ]
     },
     "execution_count": 40,
     "metadata": {},
     "output_type": "execute_result"
    }
   ],
   "source": [
    "pd.crosstab(index=data.make,columns=data.fuel_type).head()"
   ]
  },
  {
   "cell_type": "code",
   "execution_count": 41,
   "metadata": {
    "ExecuteTime": {
     "end_time": "2020-02-12T22:36:32.564446Z",
     "start_time": "2020-02-12T22:36:32.505602Z"
    },
    "colab": {
     "base_uri": "https://localhost:8080/",
     "height": 295
    },
    "colab_type": "code",
    "id": "3_oO5H-FIzWF",
    "outputId": "485df72b-6f35-4cb9-b224-24018a8b1ac5"
   },
   "outputs": [
    {
     "data": {
      "text/html": [
       "<div>\n",
       "<style scoped>\n",
       "    .dataframe tbody tr th:only-of-type {\n",
       "        vertical-align: middle;\n",
       "    }\n",
       "\n",
       "    .dataframe tbody tr th {\n",
       "        vertical-align: top;\n",
       "    }\n",
       "\n",
       "    .dataframe thead tr th {\n",
       "        text-align: left;\n",
       "    }\n",
       "\n",
       "    .dataframe thead tr:last-of-type th {\n",
       "        text-align: right;\n",
       "    }\n",
       "</style>\n",
       "<table border=\"1\" class=\"dataframe\">\n",
       "  <thead>\n",
       "    <tr>\n",
       "      <th></th>\n",
       "      <th colspan=\"2\" halign=\"left\">bore</th>\n",
       "      <th colspan=\"2\" halign=\"left\">city_mpg</th>\n",
       "      <th colspan=\"2\" halign=\"left\">compression_ratio</th>\n",
       "      <th colspan=\"2\" halign=\"left\">curb_weight</th>\n",
       "      <th colspan=\"2\" halign=\"left\">engine_size</th>\n",
       "      <th>...</th>\n",
       "      <th colspan=\"2\" halign=\"left\">price_AMD</th>\n",
       "      <th colspan=\"2\" halign=\"left\">price_USD</th>\n",
       "      <th colspan=\"2\" halign=\"left\">stroke</th>\n",
       "      <th colspan=\"2\" halign=\"left\">wheel_base</th>\n",
       "      <th colspan=\"2\" halign=\"left\">width</th>\n",
       "    </tr>\n",
       "    <tr>\n",
       "      <th>fuel_type</th>\n",
       "      <th>diesel</th>\n",
       "      <th>gas</th>\n",
       "      <th>diesel</th>\n",
       "      <th>gas</th>\n",
       "      <th>diesel</th>\n",
       "      <th>gas</th>\n",
       "      <th>diesel</th>\n",
       "      <th>gas</th>\n",
       "      <th>diesel</th>\n",
       "      <th>gas</th>\n",
       "      <th>...</th>\n",
       "      <th>diesel</th>\n",
       "      <th>gas</th>\n",
       "      <th>diesel</th>\n",
       "      <th>gas</th>\n",
       "      <th>diesel</th>\n",
       "      <th>gas</th>\n",
       "      <th>diesel</th>\n",
       "      <th>gas</th>\n",
       "      <th>diesel</th>\n",
       "      <th>gas</th>\n",
       "    </tr>\n",
       "    <tr>\n",
       "      <th>make</th>\n",
       "      <th></th>\n",
       "      <th></th>\n",
       "      <th></th>\n",
       "      <th></th>\n",
       "      <th></th>\n",
       "      <th></th>\n",
       "      <th></th>\n",
       "      <th></th>\n",
       "      <th></th>\n",
       "      <th></th>\n",
       "      <th></th>\n",
       "      <th></th>\n",
       "      <th></th>\n",
       "      <th></th>\n",
       "      <th></th>\n",
       "      <th></th>\n",
       "      <th></th>\n",
       "      <th></th>\n",
       "      <th></th>\n",
       "      <th></th>\n",
       "      <th></th>\n",
       "    </tr>\n",
       "  </thead>\n",
       "  <tbody>\n",
       "    <tr>\n",
       "      <td>alfa-romero</td>\n",
       "      <td>NaN</td>\n",
       "      <td>3.206667</td>\n",
       "      <td>NaN</td>\n",
       "      <td>20.333333</td>\n",
       "      <td>NaN</td>\n",
       "      <td>9.000000</td>\n",
       "      <td>NaN</td>\n",
       "      <td>2639.666667</td>\n",
       "      <td>NaN</td>\n",
       "      <td>137.333333</td>\n",
       "      <td>...</td>\n",
       "      <td>NaN</td>\n",
       "      <td>7.516692e+06</td>\n",
       "      <td>NaN</td>\n",
       "      <td>15498.333333</td>\n",
       "      <td>NaN</td>\n",
       "      <td>2.943333</td>\n",
       "      <td>NaN</td>\n",
       "      <td>90.566667</td>\n",
       "      <td>NaN</td>\n",
       "      <td>64.566667</td>\n",
       "    </tr>\n",
       "    <tr>\n",
       "      <td>audi</td>\n",
       "      <td>NaN</td>\n",
       "      <td>3.180000</td>\n",
       "      <td>NaN</td>\n",
       "      <td>19.333333</td>\n",
       "      <td>NaN</td>\n",
       "      <td>8.633333</td>\n",
       "      <td>NaN</td>\n",
       "      <td>2758.666667</td>\n",
       "      <td>NaN</td>\n",
       "      <td>130.666667</td>\n",
       "      <td>...</td>\n",
       "      <td>NaN</td>\n",
       "      <td>8.661696e+06</td>\n",
       "      <td>NaN</td>\n",
       "      <td>17859.166667</td>\n",
       "      <td>NaN</td>\n",
       "      <td>3.400000</td>\n",
       "      <td>NaN</td>\n",
       "      <td>102.733333</td>\n",
       "      <td>NaN</td>\n",
       "      <td>68.850000</td>\n",
       "    </tr>\n",
       "    <tr>\n",
       "      <td>bmw</td>\n",
       "      <td>NaN</td>\n",
       "      <td>3.473750</td>\n",
       "      <td>NaN</td>\n",
       "      <td>19.375000</td>\n",
       "      <td>NaN</td>\n",
       "      <td>8.575000</td>\n",
       "      <td>NaN</td>\n",
       "      <td>2929.375000</td>\n",
       "      <td>NaN</td>\n",
       "      <td>166.875000</td>\n",
       "      <td>...</td>\n",
       "      <td>NaN</td>\n",
       "      <td>1.266759e+07</td>\n",
       "      <td>NaN</td>\n",
       "      <td>26118.750000</td>\n",
       "      <td>NaN</td>\n",
       "      <td>3.167500</td>\n",
       "      <td>NaN</td>\n",
       "      <td>103.162500</td>\n",
       "      <td>NaN</td>\n",
       "      <td>66.475000</td>\n",
       "    </tr>\n",
       "    <tr>\n",
       "      <td>chevrolet</td>\n",
       "      <td>NaN</td>\n",
       "      <td>2.990000</td>\n",
       "      <td>NaN</td>\n",
       "      <td>41.000000</td>\n",
       "      <td>NaN</td>\n",
       "      <td>9.566667</td>\n",
       "      <td>NaN</td>\n",
       "      <td>1757.000000</td>\n",
       "      <td>NaN</td>\n",
       "      <td>80.333333</td>\n",
       "      <td>...</td>\n",
       "      <td>NaN</td>\n",
       "      <td>2.913395e+06</td>\n",
       "      <td>NaN</td>\n",
       "      <td>6007.000000</td>\n",
       "      <td>NaN</td>\n",
       "      <td>3.083333</td>\n",
       "      <td>NaN</td>\n",
       "      <td>92.466667</td>\n",
       "      <td>NaN</td>\n",
       "      <td>62.500000</td>\n",
       "    </tr>\n",
       "    <tr>\n",
       "      <td>dodge</td>\n",
       "      <td>NaN</td>\n",
       "      <td>3.102500</td>\n",
       "      <td>NaN</td>\n",
       "      <td>28.500000</td>\n",
       "      <td>NaN</td>\n",
       "      <td>8.763750</td>\n",
       "      <td>NaN</td>\n",
       "      <td>2146.375000</td>\n",
       "      <td>NaN</td>\n",
       "      <td>103.250000</td>\n",
       "      <td>...</td>\n",
       "      <td>NaN</td>\n",
       "      <td>3.778211e+06</td>\n",
       "      <td>NaN</td>\n",
       "      <td>7790.125000</td>\n",
       "      <td>NaN</td>\n",
       "      <td>3.362500</td>\n",
       "      <td>NaN</td>\n",
       "      <td>95.175000</td>\n",
       "      <td>NaN</td>\n",
       "      <td>64.212500</td>\n",
       "    </tr>\n",
       "  </tbody>\n",
       "</table>\n",
       "<p>5 rows × 30 columns</p>\n",
       "</div>"
      ],
      "text/plain": [
       "              bore           city_mpg            compression_ratio            \\\n",
       "fuel_type   diesel       gas   diesel        gas            diesel       gas   \n",
       "make                                                                           \n",
       "alfa-romero    NaN  3.206667      NaN  20.333333               NaN  9.000000   \n",
       "audi           NaN  3.180000      NaN  19.333333               NaN  8.633333   \n",
       "bmw            NaN  3.473750      NaN  19.375000               NaN  8.575000   \n",
       "chevrolet      NaN  2.990000      NaN  41.000000               NaN  9.566667   \n",
       "dodge          NaN  3.102500      NaN  28.500000               NaN  8.763750   \n",
       "\n",
       "            curb_weight              engine_size              ... price_AMD  \\\n",
       "fuel_type        diesel          gas      diesel         gas  ...    diesel   \n",
       "make                                                          ...             \n",
       "alfa-romero         NaN  2639.666667         NaN  137.333333  ...       NaN   \n",
       "audi                NaN  2758.666667         NaN  130.666667  ...       NaN   \n",
       "bmw                 NaN  2929.375000         NaN  166.875000  ...       NaN   \n",
       "chevrolet           NaN  1757.000000         NaN   80.333333  ...       NaN   \n",
       "dodge               NaN  2146.375000         NaN  103.250000  ...       NaN   \n",
       "\n",
       "                          price_USD               stroke           wheel_base  \\\n",
       "fuel_type             gas    diesel           gas diesel       gas     diesel   \n",
       "make                                                                            \n",
       "alfa-romero  7.516692e+06       NaN  15498.333333    NaN  2.943333        NaN   \n",
       "audi         8.661696e+06       NaN  17859.166667    NaN  3.400000        NaN   \n",
       "bmw          1.266759e+07       NaN  26118.750000    NaN  3.167500        NaN   \n",
       "chevrolet    2.913395e+06       NaN   6007.000000    NaN  3.083333        NaN   \n",
       "dodge        3.778211e+06       NaN   7790.125000    NaN  3.362500        NaN   \n",
       "\n",
       "                         width             \n",
       "fuel_type           gas diesel        gas  \n",
       "make                                       \n",
       "alfa-romero   90.566667    NaN  64.566667  \n",
       "audi         102.733333    NaN  68.850000  \n",
       "bmw          103.162500    NaN  66.475000  \n",
       "chevrolet     92.466667    NaN  62.500000  \n",
       "dodge         95.175000    NaN  64.212500  \n",
       "\n",
       "[5 rows x 30 columns]"
      ]
     },
     "execution_count": 41,
     "metadata": {},
     "output_type": "execute_result"
    }
   ],
   "source": [
    "pd.pivot_table(data=data,index=\"make\",columns=\"fuel_type\").head()"
   ]
  },
  {
   "cell_type": "code",
   "execution_count": 42,
   "metadata": {
    "ExecuteTime": {
     "end_time": "2020-02-12T22:36:32.727015Z",
     "start_time": "2020-02-12T22:36:32.701079Z"
    },
    "colab": {
     "base_uri": "https://localhost:8080/",
     "height": 228
    },
    "colab_type": "code",
    "id": "90vFfY2ZIk6Y",
    "outputId": "91082a9a-3cd5-42b7-8b28-087ea482cacf"
   },
   "outputs": [
    {
     "data": {
      "text/html": [
       "<div>\n",
       "<style scoped>\n",
       "    .dataframe tbody tr th:only-of-type {\n",
       "        vertical-align: middle;\n",
       "    }\n",
       "\n",
       "    .dataframe tbody tr th {\n",
       "        vertical-align: top;\n",
       "    }\n",
       "\n",
       "    .dataframe thead th {\n",
       "        text-align: right;\n",
       "    }\n",
       "</style>\n",
       "<table border=\"1\" class=\"dataframe\">\n",
       "  <thead>\n",
       "    <tr style=\"text-align: right;\">\n",
       "      <th>fuel_type</th>\n",
       "      <th>diesel</th>\n",
       "      <th>gas</th>\n",
       "    </tr>\n",
       "    <tr>\n",
       "      <th>make</th>\n",
       "      <th></th>\n",
       "      <th></th>\n",
       "    </tr>\n",
       "  </thead>\n",
       "  <tbody>\n",
       "    <tr>\n",
       "      <td>alfa-romero</td>\n",
       "      <td>NaN</td>\n",
       "      <td>15498.333333</td>\n",
       "    </tr>\n",
       "    <tr>\n",
       "      <td>audi</td>\n",
       "      <td>NaN</td>\n",
       "      <td>17859.166667</td>\n",
       "    </tr>\n",
       "    <tr>\n",
       "      <td>bmw</td>\n",
       "      <td>NaN</td>\n",
       "      <td>26118.750000</td>\n",
       "    </tr>\n",
       "    <tr>\n",
       "      <td>chevrolet</td>\n",
       "      <td>NaN</td>\n",
       "      <td>6007.000000</td>\n",
       "    </tr>\n",
       "    <tr>\n",
       "      <td>dodge</td>\n",
       "      <td>NaN</td>\n",
       "      <td>7790.125000</td>\n",
       "    </tr>\n",
       "  </tbody>\n",
       "</table>\n",
       "</div>"
      ],
      "text/plain": [
       "fuel_type    diesel           gas\n",
       "make                             \n",
       "alfa-romero     NaN  15498.333333\n",
       "audi            NaN  17859.166667\n",
       "bmw             NaN  26118.750000\n",
       "chevrolet       NaN   6007.000000\n",
       "dodge           NaN   7790.125000"
      ]
     },
     "execution_count": 42,
     "metadata": {},
     "output_type": "execute_result"
    }
   ],
   "source": [
    "pd.pivot_table(data=data,index=\"make\",columns=\"fuel_type\",values=\"price_USD\",aggfunc=\"mean\").head()"
   ]
  },
  {
   "cell_type": "markdown",
   "metadata": {
    "colab_type": "text",
    "id": "vKcXKHtgvykh"
   },
   "source": [
    "# Data Visualization with Matplotlib\n",
    "\n",
    "- [plt.figure(figsize=(8,6))]() - creates the figure istance allowing for customization of size (figsize in inches), figure color etc.\n",
    "- [plt.title()]() - provides a title for the figure\n",
    "- [plt.ylabel()]() - provides the label of Y axis\n",
    "- [plt.xlabel()]() - provides the label of X axis\n",
    "- [plt.show()]() - shows the figure\n",
    "- [plt.savefig()]() - saves the figure in a specified format and filename\n",
    "- [plt.hist()]() - draw a histogram\n",
    "- [plt.scatter()]() - draws a scatterplot\n",
    "- [plt.subplot()]() - create subplots (plt.subplot(nrows=1,ncolumns=2,index=1) and plt.subplot(nrows=1,ncolumns=2,index=2) will create 1 row and2 graphs)"
   ]
  },
  {
   "cell_type": "code",
   "execution_count": 43,
   "metadata": {
    "ExecuteTime": {
     "end_time": "2020-02-12T22:36:33.353437Z",
     "start_time": "2020-02-12T22:36:33.068098Z"
    },
    "colab": {
     "base_uri": "https://localhost:8080/",
     "height": 405
    },
    "colab_type": "code",
    "id": "t-QuEsARvytS",
    "outputId": "1aa4f661-6e3c-4367-83e5-54c1bfedc6aa"
   },
   "outputs": [
    {
     "data": {
      "image/png": "[encoded data removed]",
      "text/plain": [
       "<Figure size 576x432 with 1 Axes>"
      ]
     },
     "metadata": {
      "needs_background": "light"
     },
     "output_type": "display_data"
    }
   ],
   "source": [
    "plt.figure(figsize=(8,6))\n",
    "plt.hist(data.price_USD)\n",
    "plt.title(\"Car Price Distribution\")\n",
    "plt.ylabel(\"Frequencies\")\n",
    "plt.xlabel(\"Price\")\n",
    "plt.show()"
   ]
  },
  {
   "cell_type": "code",
   "execution_count": 44,
   "metadata": {
    "ExecuteTime": {
     "end_time": "2020-02-12T22:36:33.586772Z",
     "start_time": "2020-02-12T22:36:33.355392Z"
    },
    "colab": {
     "base_uri": "https://localhost:8080/",
     "height": 295
    },
    "colab_type": "code",
    "id": "h--xiS4dHCRy",
    "outputId": "04d4b573-8799-483d-a0eb-f250e72bb6d9"
   },
   "outputs": [
    {
     "data": {
      "image/png": "[encoded data removed]",
      "text/plain": [
       "<Figure size 432x288 with 1 Axes>"
      ]
     },
     "metadata": {
      "needs_background": "light"
     },
     "output_type": "display_data"
    }
   ],
   "source": [
    "plt.scatter(data.horsepower,data.price_USD)\n",
    "plt.title(\"Relationship between horsepower and price\")\n",
    "plt.xlabel(\"Horsepower\")\n",
    "plt.ylabel(\"Price\")\n",
    "plt.show()"
   ]
  },
  {
   "cell_type": "code",
   "execution_count": 45,
   "metadata": {
    "ExecuteTime": {
     "end_time": "2020-02-12T22:36:34.020610Z",
     "start_time": "2020-02-12T22:36:33.588766Z"
    },
    "colab": {
     "base_uri": "https://localhost:8080/",
     "height": 405
    },
    "colab_type": "code",
    "id": "PTHt0TvNDp4k",
    "outputId": "db9baa10-1497-45ce-a435-e289bc8721e0"
   },
   "outputs": [
    {
     "data": {
      "image/png": "[encoded data removed]",
      "text/plain": [
       "<Figure size 1008x432 with 2 Axes>"
      ]
     },
     "metadata": {
      "needs_background": "light"
     },
     "output_type": "display_data"
    }
   ],
   "source": [
    "plt.figure(figsize=(14,6))\n",
    "\n",
    "plt.subplot(1,2,1)\n",
    "plt.hist(data.price_USD)\n",
    "plt.title(\"Car Price Distribution\")\n",
    "plt.ylabel(\"Frequencies\")\n",
    "plt.xlabel(\"Price\")\n",
    "\n",
    "plt.subplot(1,2,2)\n",
    "plt.scatter(data.horsepower,data.price_USD)\n",
    "plt.title(\"Relationship between horsepower and price\")\n",
    "plt.xlabel(\"Horsepower\")\n",
    "plt.ylabel(\"Price\")\n",
    "plt.show()"
   ]
  },
  {
   "cell_type": "markdown",
   "metadata": {
    "colab_type": "text",
    "id": "yCr7L0zpvy2s"
   },
   "source": [
    "# Data Visualization with Seabron\n",
    "\n",
    "- [sns.distplot()](https://seaborn.pydata.org/generated/seaborn.distplot.html) -provides the univariate distribution plot (histogram and and a line plot) for a given variable\n",
    "- [sns.heatmap()](https://seaborn.pydata.org/generated/seaborn.heatmap.html) - creates a heatmap out of the input matrix"
   ]
  },
  {
   "cell_type": "code",
   "execution_count": 46,
   "metadata": {
    "ExecuteTime": {
     "end_time": "2020-02-12T22:36:34.235038Z",
     "start_time": "2020-02-12T22:36:34.022605Z"
    },
    "colab": {
     "base_uri": "https://localhost:8080/",
     "height": 285
    },
    "colab_type": "code",
    "id": "kjD5iUu_vzBu",
    "outputId": "2cefa29b-d3fe-4c6f-ecd7-2efc288fb6ce"
   },
   "outputs": [
    {
     "data": {
      "image/png": "[encoded data removed]",
      "text/plain": [
       "<Figure size 432x288 with 1 Axes>"
      ]
     },
     "metadata": {
      "needs_background": "light"
     },
     "output_type": "display_data"
    }
   ],
   "source": [
    "sns.distplot(data.price_USD)\n",
    "plt.show()"
   ]
  },
  {
   "cell_type": "code",
   "execution_count": 47,
   "metadata": {
    "ExecuteTime": {
     "end_time": "2020-02-12T22:36:34.682839Z",
     "start_time": "2020-02-12T22:36:34.238029Z"
    },
    "colab": {
     "base_uri": "https://localhost:8080/",
     "height": 350
    },
    "colab_type": "code",
    "id": "NYpw-i88Qweo",
    "outputId": "f1b24dc0-c2c8-4889-c391-c27dd368e9af"
   },
   "outputs": [
    {
     "data": {
      "image/png": "[encoded data removed]",
      "text/plain": [
       "<Figure size 432x288 with 2 Axes>"
      ]
     },
     "metadata": {
      "needs_background": "light"
     },
     "output_type": "display_data"
    }
   ],
   "source": [
    "sns.heatmap(data.corr())\n",
    "plt.show()"
   ]
  },
  {
   "cell_type": "markdown",
   "metadata": {
    "colab_type": "text",
    "id": "mY3w49gSQwsy"
   },
   "source": [
    "# NumPy\n",
    "- [sqrt()]() - calculate square toor of an integer\n",
    "- [np.array()]() - create a numpy array (one dimensional or multidimensional)\n",
    "- [np.zeros()]() - create a numpy array/matrix with all values = 0\n",
    "- [np.ones()]() - create a numpy array/matrix with all values = 1\n",
    "- [np.full()]() - create a numpy array/matrix with all values = some prespecified value\n",
    "- [np.eye()]() - create an identity matrix (all 0, diagonal 1)\n",
    "- [np.dot()]() - calculate dot product (matrix prodict)\n",
    "- [np.reshape()]() - reshape the matrix\n",
    "- [T]() - transpose the matrix"
   ]
  },
  {
   "cell_type": "code",
   "execution_count": 48,
   "metadata": {
    "ExecuteTime": {
     "end_time": "2020-02-12T22:36:34.691814Z",
     "start_time": "2020-02-12T22:36:34.684833Z"
    },
    "colab": {
     "base_uri": "https://localhost:8080/",
     "height": 35
    },
    "colab_type": "code",
    "id": "jc1PtcZUQxRe",
    "outputId": "6a6a8b70-ca83-4f95-e680-d22c4ae5a445"
   },
   "outputs": [
    {
     "data": {
      "text/plain": [
       "5.0"
      ]
     },
     "execution_count": 48,
     "metadata": {},
     "output_type": "execute_result"
    }
   ],
   "source": [
    "np.sqrt(25)"
   ]
  },
  {
   "cell_type": "code",
   "execution_count": 49,
   "metadata": {
    "ExecuteTime": {
     "end_time": "2020-02-12T22:36:34.700792Z",
     "start_time": "2020-02-12T22:36:34.694811Z"
    },
    "colab": {},
    "colab_type": "code",
    "id": "kWig_QbtZ-XO"
   },
   "outputs": [],
   "source": [
    "numpy_array = np.array([1,2,3,4])"
   ]
  },
  {
   "cell_type": "code",
   "execution_count": 50,
   "metadata": {
    "ExecuteTime": {
     "end_time": "2020-02-12T22:36:34.785570Z",
     "start_time": "2020-02-12T22:36:34.780579Z"
    },
    "colab": {
     "base_uri": "https://localhost:8080/",
     "height": 35
    },
    "colab_type": "code",
    "id": "I1G5pdXRZ-aX",
    "outputId": "419275bf-33c9-49f5-dd7f-fcf65e0435cb"
   },
   "outputs": [
    {
     "name": "stdout",
     "output_type": "stream",
     "text": [
      "(4,)\n"
     ]
    }
   ],
   "source": [
    "print(numpy_array.shape)"
   ]
  },
  {
   "cell_type": "code",
   "execution_count": 51,
   "metadata": {
    "ExecuteTime": {
     "end_time": "2020-02-12T22:36:34.968075Z",
     "start_time": "2020-02-12T22:36:34.963090Z"
    },
    "colab": {
     "base_uri": "https://localhost:8080/",
     "height": 35
    },
    "colab_type": "code",
    "id": "ngXydLzSbEyY",
    "outputId": "56b147e1-61a7-4fe7-f2d8-ffd347fe1621"
   },
   "outputs": [
    {
     "name": "stdout",
     "output_type": "stream",
     "text": [
      "[[1 2 3 4]]\n"
     ]
    }
   ],
   "source": [
    "print(np.reshape(numpy_array,(1,4)))"
   ]
  },
  {
   "cell_type": "code",
   "execution_count": 52,
   "metadata": {
    "ExecuteTime": {
     "end_time": "2020-02-12T22:36:35.198834Z",
     "start_time": "2020-02-12T22:36:35.188861Z"
    },
    "colab": {
     "base_uri": "https://localhost:8080/",
     "height": 54
    },
    "colab_type": "code",
    "id": "oVuCS-nDZHEI",
    "outputId": "64d0d01b-c6b7-47fc-f3f1-4a1ebf2f151b"
   },
   "outputs": [
    {
     "data": {
      "text/plain": [
       "array([[0., 0.],\n",
       "       [0., 0.]])"
      ]
     },
     "execution_count": 52,
     "metadata": {},
     "output_type": "execute_result"
    }
   ],
   "source": [
    "np.zeros((2,2))"
   ]
  },
  {
   "cell_type": "code",
   "execution_count": 53,
   "metadata": {
    "ExecuteTime": {
     "end_time": "2020-02-12T22:36:35.395051Z",
     "start_time": "2020-02-12T22:36:35.387074Z"
    },
    "colab": {
     "base_uri": "https://localhost:8080/",
     "height": 72
    },
    "colab_type": "code",
    "id": "fbjbtKFDZJcH",
    "outputId": "2cb10872-7093-4a5d-e33e-59d60fc1fca2"
   },
   "outputs": [
    {
     "data": {
      "text/plain": [
       "array([[1., 1., 1., 1., 1.],\n",
       "       [1., 1., 1., 1., 1.],\n",
       "       [1., 1., 1., 1., 1.]])"
      ]
     },
     "execution_count": 53,
     "metadata": {},
     "output_type": "execute_result"
    }
   ],
   "source": [
    "np.ones((3,5))"
   ]
  },
  {
   "cell_type": "code",
   "execution_count": 54,
   "metadata": {
    "ExecuteTime": {
     "end_time": "2020-02-12T22:36:35.561598Z",
     "start_time": "2020-02-12T22:36:35.554617Z"
    },
    "colab": {
     "base_uri": "https://localhost:8080/",
     "height": 72
    },
    "colab_type": "code",
    "id": "mCZSxwSpZSIW",
    "outputId": "c0f8a310-c336-478b-a624-f5837ac9ba8f"
   },
   "outputs": [
    {
     "data": {
      "text/plain": [
       "array([[0, 0, 0, 0, 0],\n",
       "       [0, 0, 0, 0, 0],\n",
       "       [0, 0, 0, 0, 0]])"
      ]
     },
     "execution_count": 54,
     "metadata": {},
     "output_type": "execute_result"
    }
   ],
   "source": [
    "np.full((3,5),0)"
   ]
  },
  {
   "cell_type": "code",
   "execution_count": 55,
   "metadata": {
    "ExecuteTime": {
     "end_time": "2020-02-12T22:36:35.757992Z",
     "start_time": "2020-02-12T22:36:35.752044Z"
    },
    "colab": {
     "base_uri": "https://localhost:8080/",
     "height": 54
    },
    "colab_type": "code",
    "id": "E6G_hDkpZYeX",
    "outputId": "38abf1cc-090e-4440-cf18-235a5d3c2598"
   },
   "outputs": [
    {
     "data": {
      "text/plain": [
       "array([[1., 0.],\n",
       "       [0., 1.]])"
      ]
     },
     "execution_count": 55,
     "metadata": {},
     "output_type": "execute_result"
    }
   ],
   "source": [
    "np.eye(2)"
   ]
  },
  {
   "cell_type": "code",
   "execution_count": 56,
   "metadata": {
    "ExecuteTime": {
     "end_time": "2020-02-12T22:36:35.950604Z",
     "start_time": "2020-02-12T22:36:35.945618Z"
    },
    "colab": {
     "base_uri": "https://localhost:8080/",
     "height": 54
    },
    "colab_type": "code",
    "id": "lA6NsgArZo-p",
    "outputId": "84c3d6d5-d3c7-4ff9-8aed-c7b931ff683a"
   },
   "outputs": [
    {
     "name": "stdout",
     "output_type": "stream",
     "text": [
      "[[1 2]\n",
      " [3 4]]\n"
     ]
    }
   ],
   "source": [
    "md_array = np.array([[1,2],[3,4]])\n",
    "print(md_array)"
   ]
  },
  {
   "cell_type": "code",
   "execution_count": 57,
   "metadata": {
    "ExecuteTime": {
     "end_time": "2020-02-12T22:36:36.145060Z",
     "start_time": "2020-02-12T22:36:36.137083Z"
    },
    "colab": {
     "base_uri": "https://localhost:8080/",
     "height": 35
    },
    "colab_type": "code",
    "id": "NSbw90HXZuN2",
    "outputId": "3e05dae6-b190-4602-d534-623f0d0e262c"
   },
   "outputs": [
    {
     "data": {
      "text/plain": [
       "2"
      ]
     },
     "execution_count": 57,
     "metadata": {},
     "output_type": "execute_result"
    }
   ],
   "source": [
    "md_array[0][1]"
   ]
  },
  {
   "cell_type": "code",
   "execution_count": 58,
   "metadata": {
    "ExecuteTime": {
     "end_time": "2020-02-12T22:36:36.328932Z",
     "start_time": "2020-02-12T22:36:36.320956Z"
    },
    "colab": {
     "base_uri": "https://localhost:8080/",
     "height": 54
    },
    "colab_type": "code",
    "id": "AIPX7ppmaQxW",
    "outputId": "32339e86-5200-4402-9bae-9c3270519fb0"
   },
   "outputs": [
    {
     "data": {
      "text/plain": [
       "array([[1, 3],\n",
       "       [2, 4]])"
      ]
     },
     "execution_count": 58,
     "metadata": {},
     "output_type": "execute_result"
    }
   ],
   "source": [
    "md_array.T"
   ]
  },
  {
   "cell_type": "code",
   "execution_count": 59,
   "metadata": {
    "ExecuteTime": {
     "end_time": "2020-02-12T22:36:36.524436Z",
     "start_time": "2020-02-12T22:36:36.517456Z"
    },
    "colab": {
     "base_uri": "https://localhost:8080/",
     "height": 54
    },
    "colab_type": "code",
    "id": "NvYXsgf-aSny",
    "outputId": "20b43bae-a791-47ba-fcec-b89f3b62c92a"
   },
   "outputs": [
    {
     "data": {
      "text/plain": [
       "array([[1., 0.],\n",
       "       [0., 4.]])"
      ]
     },
     "execution_count": 59,
     "metadata": {},
     "output_type": "execute_result"
    }
   ],
   "source": [
    "md_array*np.eye(2)\n",
    "#md_array/np.eye(2)\n",
    "#md_array+np.eye(2)\n",
    "#md_array-np.eye(2)\n"
   ]
  },
  {
   "cell_type": "code",
   "execution_count": 60,
   "metadata": {
    "ExecuteTime": {
     "end_time": "2020-02-12T22:36:36.730032Z",
     "start_time": "2020-02-12T22:36:36.722055Z"
    },
    "colab": {
     "base_uri": "https://localhost:8080/",
     "height": 54
    },
    "colab_type": "code",
    "id": "lC94c6cRabLA",
    "outputId": "5fa4b2ee-995c-46f8-d86e-1ac145c8ab1c"
   },
   "outputs": [
    {
     "data": {
      "text/plain": [
       "array([[1., 2.],\n",
       "       [3., 4.]])"
      ]
     },
     "execution_count": 60,
     "metadata": {},
     "output_type": "execute_result"
    }
   ],
   "source": [
    "np.dot(md_array,np.eye(2))"
   ]
  },
  {
   "cell_type": "code",
   "execution_count": 61,
   "metadata": {
    "ExecuteTime": {
     "end_time": "2020-02-12T22:36:36.900556Z",
     "start_time": "2020-02-12T22:36:36.895565Z"
    },
    "colab": {
     "base_uri": "https://localhost:8080/",
     "height": 35
    },
    "colab_type": "code",
    "id": "qNHYQR02apQD",
    "outputId": "bab1a81d-8bbb-48b1-fbaa-c0851faeb88c"
   },
   "outputs": [
    {
     "data": {
      "text/plain": [
       "array([4, 6])"
      ]
     },
     "execution_count": 61,
     "metadata": {},
     "output_type": "execute_result"
    }
   ],
   "source": [
    "np.sum(md_array,axis=0)"
   ]
  },
  {
   "cell_type": "code",
   "execution_count": 62,
   "metadata": {
    "ExecuteTime": {
     "end_time": "2020-02-12T22:36:37.083985Z",
     "start_time": "2020-02-12T22:36:37.077962Z"
    },
    "colab": {
     "base_uri": "https://localhost:8080/",
     "height": 90
    },
    "colab_type": "code",
    "id": "XE9-ymZLa3Bq",
    "outputId": "eccb7a31-c2a4-47f9-8dbf-907c65109a0e"
   },
   "outputs": [
    {
     "data": {
      "text/plain": [
       "array([[1],\n",
       "       [2],\n",
       "       [3],\n",
       "       [4]])"
      ]
     },
     "execution_count": 62,
     "metadata": {},
     "output_type": "execute_result"
    }
   ],
   "source": [
    "np.reshape(md_array,(4,1))"
   ]
  }
 ],
 "metadata": {
  "colab": {
   "collapsed_sections": [],
   "name": "DSS.ipynb",
   "provenance": [],
   "version": "0.3.2"
  },
  "kernelspec": {
   "display_name": "Python 3",
   "language": "python",
   "name": "python3"
  },
  "language_info": {
   "codemirror_mode": {
    "name": "ipython",
    "version": 3
   },
   "file_extension": ".py",
   "mimetype": "text/x-python",
   "name": "python",
   "nbconvert_exporter": "python",
   "pygments_lexer": "ipython3",
   "version": "3.7.4"
  },
  "toc": {
   "base_numbering": 1,
   "nav_menu": {},
   "number_sections": true,
   "sideBar": true,
   "skip_h1_title": false,
   "title_cell": "Table of Contents",
   "title_sidebar": "Contents",
   "toc_cell": false,
   "toc_position": {},
   "toc_section_display": true,
   "toc_window_display": false
  }
 },
 "nbformat": 4,
 "nbformat_minor": 1
}
