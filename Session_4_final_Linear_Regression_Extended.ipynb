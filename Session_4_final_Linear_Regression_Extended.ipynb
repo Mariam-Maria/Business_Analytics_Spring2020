{
 "cells": [
  {
   "cell_type": "markdown",
   "metadata": {},
   "source": [
    "<h1> <i>Linear Regression Extended.</i> </h1>"
   ]
  },
  {
   "cell_type": "markdown",
   "metadata": {},
   "source": [
    "<p>The following notebook provides an example code of analyzing <b>house prices</b> using linear regression.The dependent variable which we will be used in OLS model is Price. The aim of the session is reveal best model using different selection methods and data transformations.\n",
    "    \n",
    "<br>The general sequence of steps for the analysis the following:\n",
    "1. [Descriptive analysis](#pandas)\n",
    "2. [Data transformation for visual insights](#transf)\n",
    "3.  [Model selection](#select)\n",
    "4. [Running and building the OLS model /statsmodels/ (backward selection, model transformation, test performance)](#stats)\n",
    "5. [Checking LR assumptions using residual analysis and statistical tests](#resid)   "
   ]
  },
  {
   "cell_type": "markdown",
   "metadata": {},
   "source": [
    "Let's first explore the data on our features."
   ]
  },
  {
   "cell_type": "markdown",
   "metadata": {},
   "source": [
    "Suburb: Suburb\n",
    "\n",
    "Address: Address\n",
    "\n",
    "Rooms: Number of rooms\n",
    "\n",
    "Type: Type of house(h - house; u - unit, duplex; t - townhouse)\n",
    "\n",
    "Price: Price in dollars\n",
    "\n",
    "Method: \n",
    "\n",
    "Status of property sale(S-property sold;SP-property sold prior;PI-property passed in;VB-vendor bid) \n",
    "\n",
    "SellerG: Real Estate Agent\n",
    "\n",
    "Date: Date sold\n",
    "\n",
    "Distance: Distance from CBD\n",
    "\n",
    "Postcode:Postal code\n",
    "\n",
    "Bedroom2: Number of Bedrooms\n",
    "\n",
    "Bathroom: Number of Bathrooms\n",
    "\n",
    "Car: Number of carspots\n",
    "\n",
    "Landsize: Land Size\n",
    "\n",
    "BuildingArea: Area of Building\n",
    "\n",
    "YearBuilt: Year the house was built\n",
    "\n",
    "CouncilArea: City Council Area Name\n",
    "\n",
    "Lattitude, Longitude: Building's geographical ooordinates\n",
    "\n",
    "Regionname: General Region (West, North West, North, North east …etc)\n",
    "\n",
    "Propertycount: Number of properties that exist in the suburb."
   ]
  },
  {
   "cell_type": "markdown",
   "metadata": {},
   "source": [
    "<i> <u>Before starting any analysis, first import all the needed libraries.</u></i>"
   ]
  },
  {
   "cell_type": "code",
   "execution_count": 1,
   "metadata": {
    "ExecuteTime": {
     "end_time": "2020-03-27T20:18:04.462752Z",
     "start_time": "2020-03-27T20:17:58.030257Z"
    }
   },
   "outputs": [],
   "source": [
    "#pandas for data manipulation, transformation\n",
    "import pandas as pd \n",
    "\n",
    "#visualization\n",
    "import matplotlib.pyplot as plt \n",
    "import seaborn as sns #visualization\n",
    "\n",
    "#for scientific computations\n",
    "import numpy as np \n",
    "\n",
    "#for train and test split\n",
    "from sklearn.model_selection import train_test_split \n",
    "#model building\n",
    "import statsmodels.api as sm\n",
    "\n",
    "#internal validity stastistical tests and plots\n",
    "from statsmodels.api import qqplot #for qq plot\n",
    "from statsmodels.stats.diagnostic import het_breuschpagan,linear_rainbow  #variance equality and linearity tests\n",
    "from scipy.stats import shapiro #for checking normality\n",
    "from statsmodels.stats.outliers_influence import variance_inflation_factor #for checking Multicolinearity\n",
    "from sklearn.metrics import r2_score #R-squared"
   ]
  },
  {
   "cell_type": "markdown",
   "metadata": {},
   "source": [
    " <h2>1.Descriptive analysis</h2> <a name=\"pandas\"></a>"
   ]
  },
  {
   "cell_type": "code",
   "execution_count": 2,
   "metadata": {
    "ExecuteTime": {
     "end_time": "2020-03-27T20:18:04.469744Z",
     "start_time": "2020-03-27T20:18:04.464716Z"
    }
   },
   "outputs": [],
   "source": [
    "url=\"https://raw.githubusercontent.com/srbuhimirzoyan/Business_Analytics_Spring2020/master/Session_4_housing_data.xlsx\""
   ]
  },
  {
   "cell_type": "code",
   "execution_count": 3,
   "metadata": {
    "ExecuteTime": {
     "end_time": "2020-03-27T20:18:05.421824Z",
     "start_time": "2020-03-27T20:18:04.473552Z"
    }
   },
   "outputs": [],
   "source": [
    "#importing the data and making a dataframe\n",
    "data=pd.read_excel(url)"
   ]
  },
  {
   "cell_type": "code",
   "execution_count": 4,
   "metadata": {
    "ExecuteTime": {
     "end_time": "2020-03-27T20:18:05.441463Z",
     "start_time": "2020-03-27T20:18:05.423817Z"
    }
   },
   "outputs": [
    {
     "name": "stdout",
     "output_type": "stream",
     "text": [
      "<class 'pandas.core.frame.DataFrame'>\n",
      "RangeIndex: 110 entries, 0 to 109\n",
      "Data columns (total 21 columns):\n",
      "Suburb           110 non-null object\n",
      "Address          110 non-null object\n",
      "Rooms            110 non-null int64\n",
      "Type             110 non-null object\n",
      "Price            110 non-null int64\n",
      "Method           110 non-null object\n",
      "SellerG          110 non-null object\n",
      "Date             110 non-null object\n",
      "Distance         110 non-null float64\n",
      "Postcode         110 non-null int64\n",
      "Bedroom          110 non-null int64\n",
      "Bathroom         110 non-null int64\n",
      "Car              110 non-null int64\n",
      "Landsize         110 non-null int64\n",
      "BuildingArea     110 non-null float64\n",
      "YearBuilt        110 non-null int64\n",
      "CouncilArea      110 non-null object\n",
      "Lattitude        110 non-null float64\n",
      "Longtitude       110 non-null float64\n",
      "Regionname       110 non-null object\n",
      "Propertycount    110 non-null int64\n",
      "dtypes: float64(4), int64(9), object(8)\n",
      "memory usage: 18.2+ KB\n"
     ]
    }
   ],
   "source": [
    "#data overview\n",
    "data.info()"
   ]
  },
  {
   "cell_type": "markdown",
   "metadata": {},
   "source": [
    "We have 21 variables of 110 observations."
   ]
  },
  {
   "cell_type": "code",
   "execution_count": 5,
   "metadata": {
    "ExecuteTime": {
     "end_time": "2020-03-27T20:18:05.478756Z",
     "start_time": "2020-03-27T20:18:05.443763Z"
    }
   },
   "outputs": [
    {
     "data": {
      "text/html": [
       "<div>\n",
       "<style scoped>\n",
       "    .dataframe tbody tr th:only-of-type {\n",
       "        vertical-align: middle;\n",
       "    }\n",
       "\n",
       "    .dataframe tbody tr th {\n",
       "        vertical-align: top;\n",
       "    }\n",
       "\n",
       "    .dataframe thead th {\n",
       "        text-align: right;\n",
       "    }\n",
       "</style>\n",
       "<table border=\"1\" class=\"dataframe\">\n",
       "  <thead>\n",
       "    <tr style=\"text-align: right;\">\n",
       "      <th></th>\n",
       "      <th>Suburb</th>\n",
       "      <th>Address</th>\n",
       "      <th>Rooms</th>\n",
       "      <th>Type</th>\n",
       "      <th>Price</th>\n",
       "      <th>Method</th>\n",
       "      <th>SellerG</th>\n",
       "      <th>Date</th>\n",
       "      <th>Distance</th>\n",
       "      <th>Postcode</th>\n",
       "      <th>...</th>\n",
       "      <th>Bathroom</th>\n",
       "      <th>Car</th>\n",
       "      <th>Landsize</th>\n",
       "      <th>BuildingArea</th>\n",
       "      <th>YearBuilt</th>\n",
       "      <th>CouncilArea</th>\n",
       "      <th>Lattitude</th>\n",
       "      <th>Longtitude</th>\n",
       "      <th>Regionname</th>\n",
       "      <th>Propertycount</th>\n",
       "    </tr>\n",
       "  </thead>\n",
       "  <tbody>\n",
       "    <tr>\n",
       "      <td>0</td>\n",
       "      <td>Ascot Vale</td>\n",
       "      <td>3/8 Walter St</td>\n",
       "      <td>2</td>\n",
       "      <td>t</td>\n",
       "      <td>865000</td>\n",
       "      <td>SP</td>\n",
       "      <td>Nelson</td>\n",
       "      <td>18/03/2017</td>\n",
       "      <td>5.9</td>\n",
       "      <td>3032</td>\n",
       "      <td>...</td>\n",
       "      <td>2</td>\n",
       "      <td>1</td>\n",
       "      <td>146</td>\n",
       "      <td>132.0</td>\n",
       "      <td>2015</td>\n",
       "      <td>Moonee Valley City Council</td>\n",
       "      <td>-37.7713</td>\n",
       "      <td>144.9038</td>\n",
       "      <td>Western Metropolitan</td>\n",
       "      <td>6567</td>\n",
       "    </tr>\n",
       "    <tr>\n",
       "      <td>1</td>\n",
       "      <td>Ascot Vale</td>\n",
       "      <td>12/9 Milton St</td>\n",
       "      <td>2</td>\n",
       "      <td>u</td>\n",
       "      <td>442000</td>\n",
       "      <td>S</td>\n",
       "      <td>Alexkarbon</td>\n",
       "      <td>18/06/2016</td>\n",
       "      <td>5.9</td>\n",
       "      <td>3032</td>\n",
       "      <td>...</td>\n",
       "      <td>1</td>\n",
       "      <td>1</td>\n",
       "      <td>0</td>\n",
       "      <td>62.0</td>\n",
       "      <td>1975</td>\n",
       "      <td>Moonee Valley City Council</td>\n",
       "      <td>-37.7733</td>\n",
       "      <td>144.9219</td>\n",
       "      <td>Western Metropolitan</td>\n",
       "      <td>6567</td>\n",
       "    </tr>\n",
       "    <tr>\n",
       "      <td>2</td>\n",
       "      <td>Ascot Vale</td>\n",
       "      <td>21A Geddes St</td>\n",
       "      <td>3</td>\n",
       "      <td>h</td>\n",
       "      <td>1037500</td>\n",
       "      <td>S</td>\n",
       "      <td>Alexkarbon</td>\n",
       "      <td>19/11/2016</td>\n",
       "      <td>5.9</td>\n",
       "      <td>3032</td>\n",
       "      <td>...</td>\n",
       "      <td>1</td>\n",
       "      <td>2</td>\n",
       "      <td>506</td>\n",
       "      <td>110.0</td>\n",
       "      <td>1920</td>\n",
       "      <td>Moonee Valley City Council</td>\n",
       "      <td>-37.7779</td>\n",
       "      <td>144.9133</td>\n",
       "      <td>Western Metropolitan</td>\n",
       "      <td>6567</td>\n",
       "    </tr>\n",
       "    <tr>\n",
       "      <td>3</td>\n",
       "      <td>Ascot Vale</td>\n",
       "      <td>1/20 Newsom St</td>\n",
       "      <td>3</td>\n",
       "      <td>t</td>\n",
       "      <td>1050000</td>\n",
       "      <td>S</td>\n",
       "      <td>Jellis</td>\n",
       "      <td>19/11/2016</td>\n",
       "      <td>5.9</td>\n",
       "      <td>3032</td>\n",
       "      <td>...</td>\n",
       "      <td>2</td>\n",
       "      <td>2</td>\n",
       "      <td>318</td>\n",
       "      <td>160.0</td>\n",
       "      <td>2013</td>\n",
       "      <td>Moonee Valley City Council</td>\n",
       "      <td>-37.7744</td>\n",
       "      <td>144.9035</td>\n",
       "      <td>Western Metropolitan</td>\n",
       "      <td>6567</td>\n",
       "    </tr>\n",
       "    <tr>\n",
       "      <td>4</td>\n",
       "      <td>Ascot Vale</td>\n",
       "      <td>4/27 Roseberry St</td>\n",
       "      <td>2</td>\n",
       "      <td>u</td>\n",
       "      <td>440000</td>\n",
       "      <td>S</td>\n",
       "      <td>McDonald</td>\n",
       "      <td>19/11/2016</td>\n",
       "      <td>5.9</td>\n",
       "      <td>3032</td>\n",
       "      <td>...</td>\n",
       "      <td>1</td>\n",
       "      <td>1</td>\n",
       "      <td>0</td>\n",
       "      <td>65.0</td>\n",
       "      <td>1970</td>\n",
       "      <td>Moonee Valley City Council</td>\n",
       "      <td>-37.7749</td>\n",
       "      <td>144.9137</td>\n",
       "      <td>Western Metropolitan</td>\n",
       "      <td>6567</td>\n",
       "    </tr>\n",
       "  </tbody>\n",
       "</table>\n",
       "<p>5 rows × 21 columns</p>\n",
       "</div>"
      ],
      "text/plain": [
       "       Suburb            Address  Rooms Type    Price Method     SellerG  \\\n",
       "0  Ascot Vale      3/8 Walter St      2    t   865000     SP      Nelson   \n",
       "1  Ascot Vale     12/9 Milton St      2    u   442000      S  Alexkarbon   \n",
       "2  Ascot Vale      21A Geddes St      3    h  1037500      S  Alexkarbon   \n",
       "3  Ascot Vale     1/20 Newsom St      3    t  1050000      S      Jellis   \n",
       "4  Ascot Vale  4/27 Roseberry St      2    u   440000      S    McDonald   \n",
       "\n",
       "         Date  Distance  Postcode  ...  Bathroom  Car  Landsize  BuildingArea  \\\n",
       "0  18/03/2017       5.9      3032  ...         2    1       146         132.0   \n",
       "1  18/06/2016       5.9      3032  ...         1    1         0          62.0   \n",
       "2  19/11/2016       5.9      3032  ...         1    2       506         110.0   \n",
       "3  19/11/2016       5.9      3032  ...         2    2       318         160.0   \n",
       "4  19/11/2016       5.9      3032  ...         1    1         0          65.0   \n",
       "\n",
       "   YearBuilt                 CouncilArea Lattitude  Longtitude  \\\n",
       "0       2015  Moonee Valley City Council  -37.7713    144.9038   \n",
       "1       1975  Moonee Valley City Council  -37.7733    144.9219   \n",
       "2       1920  Moonee Valley City Council  -37.7779    144.9133   \n",
       "3       2013  Moonee Valley City Council  -37.7744    144.9035   \n",
       "4       1970  Moonee Valley City Council  -37.7749    144.9137   \n",
       "\n",
       "             Regionname Propertycount  \n",
       "0  Western Metropolitan          6567  \n",
       "1  Western Metropolitan          6567  \n",
       "2  Western Metropolitan          6567  \n",
       "3  Western Metropolitan          6567  \n",
       "4  Western Metropolitan          6567  \n",
       "\n",
       "[5 rows x 21 columns]"
      ]
     },
     "execution_count": 5,
     "metadata": {},
     "output_type": "execute_result"
    }
   ],
   "source": [
    "#have a look at first rows of the dataframe\n",
    "data.head()"
   ]
  },
  {
   "cell_type": "code",
   "execution_count": 6,
   "metadata": {
    "ExecuteTime": {
     "end_time": "2020-03-27T20:18:05.543495Z",
     "start_time": "2020-03-27T20:18:05.480664Z"
    },
    "scrolled": true
   },
   "outputs": [
    {
     "data": {
      "text/html": [
       "<div>\n",
       "<style scoped>\n",
       "    .dataframe tbody tr th:only-of-type {\n",
       "        vertical-align: middle;\n",
       "    }\n",
       "\n",
       "    .dataframe tbody tr th {\n",
       "        vertical-align: top;\n",
       "    }\n",
       "\n",
       "    .dataframe thead th {\n",
       "        text-align: right;\n",
       "    }\n",
       "</style>\n",
       "<table border=\"1\" class=\"dataframe\">\n",
       "  <thead>\n",
       "    <tr style=\"text-align: right;\">\n",
       "      <th></th>\n",
       "      <th>Rooms</th>\n",
       "      <th>Price</th>\n",
       "      <th>Distance</th>\n",
       "      <th>Postcode</th>\n",
       "      <th>Bedroom</th>\n",
       "      <th>Bathroom</th>\n",
       "      <th>Car</th>\n",
       "      <th>Landsize</th>\n",
       "      <th>BuildingArea</th>\n",
       "      <th>YearBuilt</th>\n",
       "      <th>Lattitude</th>\n",
       "      <th>Longtitude</th>\n",
       "      <th>Propertycount</th>\n",
       "    </tr>\n",
       "  </thead>\n",
       "  <tbody>\n",
       "    <tr>\n",
       "      <td>count</td>\n",
       "      <td>110.000000</td>\n",
       "      <td>1.100000e+02</td>\n",
       "      <td>110.000000</td>\n",
       "      <td>110.000000</td>\n",
       "      <td>110.000000</td>\n",
       "      <td>110.000000</td>\n",
       "      <td>110.000000</td>\n",
       "      <td>110.000000</td>\n",
       "      <td>110.000000</td>\n",
       "      <td>110.000000</td>\n",
       "      <td>110.000000</td>\n",
       "      <td>110.000000</td>\n",
       "      <td>110.000000</td>\n",
       "    </tr>\n",
       "    <tr>\n",
       "      <td>mean</td>\n",
       "      <td>3.081818</td>\n",
       "      <td>1.011146e+06</td>\n",
       "      <td>10.210000</td>\n",
       "      <td>3083.490909</td>\n",
       "      <td>3.081818</td>\n",
       "      <td>1.672727</td>\n",
       "      <td>1.609091</td>\n",
       "      <td>488.327273</td>\n",
       "      <td>149.456818</td>\n",
       "      <td>1964.009091</td>\n",
       "      <td>-37.805117</td>\n",
       "      <td>144.963558</td>\n",
       "      <td>7644.827273</td>\n",
       "    </tr>\n",
       "    <tr>\n",
       "      <td>std</td>\n",
       "      <td>0.968606</td>\n",
       "      <td>5.049120e+05</td>\n",
       "      <td>6.508653</td>\n",
       "      <td>90.533561</td>\n",
       "      <td>1.023860</td>\n",
       "      <td>0.791110</td>\n",
       "      <td>0.919667</td>\n",
       "      <td>434.624738</td>\n",
       "      <td>79.724047</td>\n",
       "      <td>39.751636</td>\n",
       "      <td>0.076131</td>\n",
       "      <td>0.127405</td>\n",
       "      <td>4100.849961</td>\n",
       "    </tr>\n",
       "    <tr>\n",
       "      <td>min</td>\n",
       "      <td>1.000000</td>\n",
       "      <td>2.750000e+05</td>\n",
       "      <td>2.400000</td>\n",
       "      <td>3011.000000</td>\n",
       "      <td>1.000000</td>\n",
       "      <td>1.000000</td>\n",
       "      <td>0.000000</td>\n",
       "      <td>0.000000</td>\n",
       "      <td>35.000000</td>\n",
       "      <td>1890.000000</td>\n",
       "      <td>-38.099950</td>\n",
       "      <td>144.609770</td>\n",
       "      <td>962.000000</td>\n",
       "    </tr>\n",
       "    <tr>\n",
       "      <td>25%</td>\n",
       "      <td>3.000000</td>\n",
       "      <td>6.888750e+05</td>\n",
       "      <td>5.200000</td>\n",
       "      <td>3032.000000</td>\n",
       "      <td>2.250000</td>\n",
       "      <td>1.000000</td>\n",
       "      <td>1.000000</td>\n",
       "      <td>208.500000</td>\n",
       "      <td>101.750000</td>\n",
       "      <td>1930.000000</td>\n",
       "      <td>-37.861365</td>\n",
       "      <td>144.908150</td>\n",
       "      <td>5164.500000</td>\n",
       "    </tr>\n",
       "    <tr>\n",
       "      <td>50%</td>\n",
       "      <td>3.000000</td>\n",
       "      <td>9.435000e+05</td>\n",
       "      <td>6.400000</td>\n",
       "      <td>3056.000000</td>\n",
       "      <td>3.000000</td>\n",
       "      <td>2.000000</td>\n",
       "      <td>2.000000</td>\n",
       "      <td>450.500000</td>\n",
       "      <td>139.000000</td>\n",
       "      <td>1970.000000</td>\n",
       "      <td>-37.778100</td>\n",
       "      <td>144.958350</td>\n",
       "      <td>6567.000000</td>\n",
       "    </tr>\n",
       "    <tr>\n",
       "      <td>75%</td>\n",
       "      <td>4.000000</td>\n",
       "      <td>1.272000e+06</td>\n",
       "      <td>14.000000</td>\n",
       "      <td>3132.500000</td>\n",
       "      <td>4.000000</td>\n",
       "      <td>2.000000</td>\n",
       "      <td>2.000000</td>\n",
       "      <td>639.500000</td>\n",
       "      <td>175.750000</td>\n",
       "      <td>2004.000000</td>\n",
       "      <td>-37.772800</td>\n",
       "      <td>145.023403</td>\n",
       "      <td>10579.000000</td>\n",
       "    </tr>\n",
       "    <tr>\n",
       "      <td>max</td>\n",
       "      <td>8.000000</td>\n",
       "      <td>2.950000e+06</td>\n",
       "      <td>35.400000</td>\n",
       "      <td>3752.000000</td>\n",
       "      <td>9.000000</td>\n",
       "      <td>7.000000</td>\n",
       "      <td>4.000000</td>\n",
       "      <td>2905.000000</td>\n",
       "      <td>618.000000</td>\n",
       "      <td>2017.000000</td>\n",
       "      <td>-37.576810</td>\n",
       "      <td>145.299590</td>\n",
       "      <td>21650.000000</td>\n",
       "    </tr>\n",
       "  </tbody>\n",
       "</table>\n",
       "</div>"
      ],
      "text/plain": [
       "            Rooms         Price    Distance     Postcode     Bedroom  \\\n",
       "count  110.000000  1.100000e+02  110.000000   110.000000  110.000000   \n",
       "mean     3.081818  1.011146e+06   10.210000  3083.490909    3.081818   \n",
       "std      0.968606  5.049120e+05    6.508653    90.533561    1.023860   \n",
       "min      1.000000  2.750000e+05    2.400000  3011.000000    1.000000   \n",
       "25%      3.000000  6.888750e+05    5.200000  3032.000000    2.250000   \n",
       "50%      3.000000  9.435000e+05    6.400000  3056.000000    3.000000   \n",
       "75%      4.000000  1.272000e+06   14.000000  3132.500000    4.000000   \n",
       "max      8.000000  2.950000e+06   35.400000  3752.000000    9.000000   \n",
       "\n",
       "         Bathroom         Car     Landsize  BuildingArea    YearBuilt  \\\n",
       "count  110.000000  110.000000   110.000000    110.000000   110.000000   \n",
       "mean     1.672727    1.609091   488.327273    149.456818  1964.009091   \n",
       "std      0.791110    0.919667   434.624738     79.724047    39.751636   \n",
       "min      1.000000    0.000000     0.000000     35.000000  1890.000000   \n",
       "25%      1.000000    1.000000   208.500000    101.750000  1930.000000   \n",
       "50%      2.000000    2.000000   450.500000    139.000000  1970.000000   \n",
       "75%      2.000000    2.000000   639.500000    175.750000  2004.000000   \n",
       "max      7.000000    4.000000  2905.000000    618.000000  2017.000000   \n",
       "\n",
       "        Lattitude  Longtitude  Propertycount  \n",
       "count  110.000000  110.000000     110.000000  \n",
       "mean   -37.805117  144.963558    7644.827273  \n",
       "std      0.076131    0.127405    4100.849961  \n",
       "min    -38.099950  144.609770     962.000000  \n",
       "25%    -37.861365  144.908150    5164.500000  \n",
       "50%    -37.778100  144.958350    6567.000000  \n",
       "75%    -37.772800  145.023403   10579.000000  \n",
       "max    -37.576810  145.299590   21650.000000  "
      ]
     },
     "execution_count": 6,
     "metadata": {},
     "output_type": "execute_result"
    }
   ],
   "source": [
    "data.describe()"
   ]
  },
  {
   "cell_type": "markdown",
   "metadata": {},
   "source": [
    "We can notice that YearBuilt is represented as numeric variable, but it is just the year when the building was built so let's convert it to respective datetime object."
   ]
  },
  {
   "cell_type": "code",
   "execution_count": 7,
   "metadata": {
    "ExecuteTime": {
     "end_time": "2020-03-27T20:18:05.554466Z",
     "start_time": "2020-03-27T20:18:05.545490Z"
    }
   },
   "outputs": [
    {
     "data": {
      "text/plain": [
       "Suburb           0\n",
       "Address          0\n",
       "Rooms            0\n",
       "Type             0\n",
       "Price            0\n",
       "Method           0\n",
       "SellerG          0\n",
       "Date             0\n",
       "Distance         0\n",
       "Postcode         0\n",
       "Bedroom          0\n",
       "Bathroom         0\n",
       "Car              0\n",
       "Landsize         0\n",
       "BuildingArea     0\n",
       "YearBuilt        0\n",
       "CouncilArea      0\n",
       "Lattitude        0\n",
       "Longtitude       0\n",
       "Regionname       0\n",
       "Propertycount    0\n",
       "dtype: int64"
      ]
     },
     "execution_count": 7,
     "metadata": {},
     "output_type": "execute_result"
    }
   ],
   "source": [
    "#checking for NAs\n",
    "data.isnull().sum()"
   ]
  },
  {
   "cell_type": "code",
   "execution_count": 8,
   "metadata": {
    "ExecuteTime": {
     "end_time": "2020-03-27T20:18:05.577455Z",
     "start_time": "2020-03-27T20:18:05.557462Z"
    }
   },
   "outputs": [
    {
     "data": {
      "text/plain": [
       "Index([], dtype='object')"
      ]
     },
     "execution_count": 8,
     "metadata": {},
     "output_type": "execute_result"
    }
   ],
   "source": [
    "#checking whether there are columns having same value for all observations\n",
    "data.columns[data.nunique()==1]"
   ]
  },
  {
   "cell_type": "code",
   "execution_count": 9,
   "metadata": {
    "ExecuteTime": {
     "end_time": "2020-03-27T20:18:05.610318Z",
     "start_time": "2020-03-27T20:18:05.581395Z"
    }
   },
   "outputs": [
    {
     "name": "stdout",
     "output_type": "stream",
     "text": [
      "Empty DataFrame\n",
      "Columns: [Suburb, Address, Rooms, Type, Price, Method, SellerG, Date, Distance, Postcode, Bedroom, Bathroom, Car, Landsize, BuildingArea, YearBuilt, CouncilArea, Lattitude, Longtitude, Regionname, Propertycount]\n",
      "Index: []\n",
      "\n",
      "[0 rows x 21 columns]\n",
      "False\n"
     ]
    }
   ],
   "source": [
    "#checking for duplicates, 2 easy ways are:\n",
    "print(data[data.duplicated()])\n",
    "print(data.duplicated().any())"
   ]
  },
  {
   "cell_type": "markdown",
   "metadata": {},
   "source": [
    "Note that in case of having duplicated values we will drop them using <code>drop_duplicates()</code> method as linear regression assumes independence of observations"
   ]
  },
  {
   "cell_type": "code",
   "execution_count": 10,
   "metadata": {
    "ExecuteTime": {
     "end_time": "2020-03-27T20:18:05.856697Z",
     "start_time": "2020-03-27T20:18:05.612313Z"
    },
    "scrolled": true
   },
   "outputs": [
    {
     "data": {
      "image/png": "[encoded data removed]",
      "text/plain": [
       "<Figure size 432x288 with 1 Axes>"
      ]
     },
     "metadata": {
      "needs_background": "light"
     },
     "output_type": "display_data"
    }
   ],
   "source": [
    "#let's visualise the distribution of price\n",
    "sns.distplot(data.Price,color=\"green\")\n",
    "plt.title(\"Distribution of Price\")\n",
    "plt.show()"
   ]
  },
  {
   "cell_type": "markdown",
   "metadata": {},
   "source": [
    "As it can be seen, we have a right-skewed data  of a large scale."
   ]
  },
  {
   "cell_type": "code",
   "execution_count": 11,
   "metadata": {
    "ExecuteTime": {
     "end_time": "2020-03-27T20:18:06.084371Z",
     "start_time": "2020-03-27T20:18:05.859651Z"
    }
   },
   "outputs": [
    {
     "data": {
      "image/png": "[encoded data removed]",
      "text/plain": [
       "<Figure size 432x288 with 1 Axes>"
      ]
     },
     "metadata": {
      "needs_background": "light"
     },
     "output_type": "display_data"
    }
   ],
   "source": [
    "#Lets see what the log(price) distribution will look like\n",
    "sns.distplot(np.log(data.Price),color=\"green\")\n",
    "plt.title(\"Distribution of log(Price)\")\n",
    "plt.show()"
   ]
  },
  {
   "cell_type": "markdown",
   "metadata": {},
   "source": [
    "As it can be seen from the plot, the log(Price) distribution is more like a bell-shaped than the previous one."
   ]
  },
  {
   "cell_type": "code",
   "execution_count": 12,
   "metadata": {
    "ExecuteTime": {
     "end_time": "2020-03-27T20:18:06.309170Z",
     "start_time": "2020-03-27T20:18:06.090037Z"
    }
   },
   "outputs": [
    {
     "data": {
      "image/png": "[encoded data removed]",
      "text/plain": [
       "<Figure size 432x288 with 1 Axes>"
      ]
     },
     "metadata": {
      "needs_background": "light"
     },
     "output_type": "display_data"
    }
   ],
   "source": [
    "#let's visualise one of explanatory variables\n",
    "plt.hist(data.Distance, color=\"green\")\n",
    "plt.title(\"Distribution of Distance\")\n",
    "plt.show()"
   ]
  },
  {
   "cell_type": "markdown",
   "metadata": {
    "ExecuteTime": {
     "end_time": "2020-03-27T10:03:37.863410Z",
     "start_time": "2020-03-27T10:03:37.859424Z"
    }
   },
   "source": [
    "#### In order to avoid a large number of columns after getting dummy variables, let's explore how many values there are under each categorical feature"
   ]
  },
  {
   "cell_type": "code",
   "execution_count": 13,
   "metadata": {
    "ExecuteTime": {
     "end_time": "2020-03-27T20:18:07.847937Z",
     "start_time": "2020-03-27T20:18:07.813108Z"
    }
   },
   "outputs": [
    {
     "name": "stdout",
     "output_type": "stream",
     "text": [
      "Suburb \n",
      " Ascot Vale          25\n",
      "Brunswick           16\n",
      "Ashburton            8\n",
      "Brunswick East       5\n",
      "Point Cook           3\n",
      "Toorak               2\n",
      "Brighton             2\n",
      "Werribee             2\n",
      "Broadmeadows         2\n",
      "Richmond             2\n",
      "Altona               2\n",
      "Sunshine West        2\n",
      "Yarraville           2\n",
      "Wheelers Hill        2\n",
      "Boronia              2\n",
      "Roxburgh Park        2\n",
      "Oakleigh South       2\n",
      "Reservoir            2\n",
      "Taylors Hill         2\n",
      "Ringwood North       1\n",
      "Blackburn North      1\n",
      "Preston              1\n",
      "South Morang         1\n",
      "Seaford              1\n",
      "Sunbury              1\n",
      "Brooklyn             1\n",
      "Aspendale            1\n",
      "Surrey Hills         1\n",
      "West Footscray       1\n",
      "Seddon               1\n",
      "Nunawading           1\n",
      "Brunswick West       1\n",
      "Balwyn               1\n",
      "Blackburn            1\n",
      "Altona North         1\n",
      "Brighton East        1\n",
      "Bayswater North      1\n",
      "Avondale Heights     1\n",
      "Parkdale             1\n",
      "Wyndham Vale         1\n",
      "Seabrook             1\n",
      "Thomastown           1\n",
      "Vermont              1\n",
      "Ashwood              1\n",
      "Name: Suburb, dtype: int64 \n",
      " \n",
      "\n",
      "--------------------\n",
      "Address \n",
      " 1 Coonara Av       1\n",
      "37 Stanhope St     1\n",
      "37 Gosford Cr      1\n",
      "217 Victoria St    1\n",
      "51 Bay St          1\n",
      "                  ..\n",
      "16a Nicholas St    1\n",
      "1 East St          1\n",
      "11 Shelley St      1\n",
      "2/139 Union St     1\n",
      "24 Swallow St      1\n",
      "Name: Address, Length: 110, dtype: int64 \n",
      " \n",
      "\n",
      "--------------------\n",
      "Type \n",
      " h    81\n",
      "u    20\n",
      "t     9\n",
      "Name: Type, dtype: int64 \n",
      " \n",
      "\n",
      "--------------------\n",
      "Method \n",
      " S     75\n",
      "SP    15\n",
      "PI    14\n",
      "VB     6\n",
      "Name: Method, dtype: int64 \n",
      " \n",
      "\n",
      "--------------------\n",
      "SellerG \n",
      " Jellis           22\n",
      "Nelson           17\n",
      "Barry             6\n",
      "hockingstuart     6\n",
      "YPA               6\n",
      "Brad              5\n",
      "Buxton            4\n",
      "LJ                3\n",
      "Fletchers         3\n",
      "Marshall          3\n",
      "Woodards          3\n",
      "Ray               3\n",
      "HAR               2\n",
      "McDonald          2\n",
      "iTRAK             2\n",
      "Alexkarbon        2\n",
      "Barlow            2\n",
      "Thomson           1\n",
      "O'Brien           1\n",
      "Jas               1\n",
      "Castran           1\n",
      "Caine             1\n",
      "Jason             1\n",
      "Moonee            1\n",
      "RT                1\n",
      "Sweeney           1\n",
      "Greg              1\n",
      "S&L               1\n",
      "Stockdale         1\n",
      "Hoskins           1\n",
      "Walshe            1\n",
      "Gary              1\n",
      "Purplebricks      1\n",
      "Pagan             1\n",
      "Scott             1\n",
      "Harcourts         1\n",
      "Name: SellerG, dtype: int64 \n",
      " \n",
      "\n",
      "--------------------\n",
      "Date \n",
      " 2017-07-10 00:00:00    25\n",
      "15/07/2017             23\n",
      "2017-12-08 00:00:00    12\n",
      "13/05/2017              6\n",
      "2017-08-04 00:00:00     6\n",
      "2017-06-05 00:00:00     3\n",
      "25/02/2017              3\n",
      "19/11/2016              3\n",
      "26/07/2016              3\n",
      "20/05/2017              2\n",
      "24/09/2016              2\n",
      "2016-03-12 00:00:00     2\n",
      "2016-08-10 00:00:00     2\n",
      "28/08/2016              2\n",
      "27/06/2016              2\n",
      "2016-10-09 00:00:00     2\n",
      "22/04/2017              2\n",
      "27/11/2016              1\n",
      "29/04/2017              1\n",
      "2016-04-06 00:00:00     1\n",
      "28/05/2016              1\n",
      "2016-03-09 00:00:00     1\n",
      "18/03/2017              1\n",
      "30/07/2016              1\n",
      "18/06/2016              1\n",
      "22/05/2016              1\n",
      "23/04/2016              1\n",
      "Name: Date, dtype: int64 \n",
      " \n",
      "\n",
      "--------------------\n",
      "CouncilArea \n",
      " Moonee Valley City Council    26\n",
      "Moreland City Council         22\n",
      "Boroondara City Council       10\n",
      "Wyndham City Council           6\n",
      "Hume City Council              5\n",
      "Hobsons Bay City Council       4\n",
      "Kingston City Council          4\n",
      "Maribyrnong City Council       4\n",
      "Darebin City Council           3\n",
      "Bayside City Council           3\n",
      "Brimbank City Council          3\n",
      "Monash City Council            3\n",
      "Whittlesea City Council        2\n",
      "Melton City Council            2\n",
      "Yarra City Council             2\n",
      "Manningham City Council        2\n",
      "Whitehorse City Council        2\n",
      "Knox City Council              2\n",
      "Stonnington City Council       2\n",
      "Maroondah City Council         2\n",
      "Frankston City Council         1\n",
      "Name: CouncilArea, dtype: int64 \n",
      " \n",
      "\n",
      "--------------------\n",
      "Regionname \n",
      " Western Metropolitan          46\n",
      "Northern Metropolitan         33\n",
      "Southern Metropolitan         16\n",
      "Eastern Metropolitan           8\n",
      "South-Eastern Metropolitan     7\n",
      "Name: Regionname, dtype: int64 \n",
      " \n",
      "\n",
      "--------------------\n"
     ]
    }
   ],
   "source": [
    "#let's see categories and number of observations in each category for object variables\n",
    "categorical_colnames=data.select_dtypes(include=\"object\").columns\n",
    "for colname in categorical_colnames:\n",
    "    val_count=data[colname].value_counts()\n",
    "    print(colname,\"\\n\",val_count,\"\\n\",\"\\n\")\n",
    "    print(\"--------------------\")"
   ]
  },
  {
   "cell_type": "code",
   "execution_count": 14,
   "metadata": {
    "ExecuteTime": {
     "end_time": "2020-03-27T20:18:08.616783Z",
     "start_time": "2020-03-27T20:18:08.610934Z"
    }
   },
   "outputs": [],
   "source": [
    "#let's drop the  following variables:\"Suburb\",\"Address\",\"SellerG\",\"CouncilArea\",'Postcode',\"Lattitude\", \"Longitude\" \n",
    "#as some of them don't provide any meaningful information, and some have too many categories\n",
    "data=data.drop([\"Suburb\",\"Address\",\"SellerG\",\"CouncilArea\",\"Postcode\", \"Lattitude\", \"Longtitude\"],axis=1)"
   ]
  },
  {
   "cell_type": "code",
   "execution_count": 15,
   "metadata": {
    "ExecuteTime": {
     "end_time": "2020-03-27T20:18:09.072099Z",
     "start_time": "2020-03-27T20:18:09.063126Z"
    }
   },
   "outputs": [
    {
     "name": "stdout",
     "output_type": "stream",
     "text": [
      "<class 'pandas.core.frame.DataFrame'>\n",
      "RangeIndex: 110 entries, 0 to 109\n",
      "Data columns (total 14 columns):\n",
      "Rooms            110 non-null int64\n",
      "Type             110 non-null object\n",
      "Price            110 non-null int64\n",
      "Method           110 non-null object\n",
      "Date             110 non-null object\n",
      "Distance         110 non-null float64\n",
      "Bedroom          110 non-null int64\n",
      "Bathroom         110 non-null int64\n",
      "Car              110 non-null int64\n",
      "Landsize         110 non-null int64\n",
      "BuildingArea     110 non-null float64\n",
      "YearBuilt        110 non-null int64\n",
      "Regionname       110 non-null object\n",
      "Propertycount    110 non-null int64\n",
      "dtypes: float64(2), int64(8), object(4)\n",
      "memory usage: 12.2+ KB\n"
     ]
    }
   ],
   "source": [
    "data.info()"
   ]
  },
  {
   "cell_type": "markdown",
   "metadata": {},
   "source": [
    "<h1>2.Data transformation for visual insights </h1> <a name=\"transf\"> </a>"
   ]
  },
  {
   "cell_type": "markdown",
   "metadata": {},
   "source": [
    "We can see that Suburbs, Address,SellerG, Date, CouncilArea have unique values for almost every observation. As most of them cannot be grouped into category with less levels, we will not use them in further analysis and prediction.\n",
    "However, we can try to get some insights with date variable, categorize it by season and use it for descriptive analysis."
   ]
  },
  {
   "cell_type": "markdown",
   "metadata": {},
   "source": [
    " <h3>2.1.Descriptive analysis using visualization</h3>"
   ]
  },
  {
   "cell_type": "markdown",
   "metadata": {},
   "source": [
    "<i><b>Let's outline some questions that might be insightful from price analytics point.</i></b>\n",
    "\n",
    "      -Is there a seasonality trend for Price? \n",
    "      -Does the Price change drastically based on year/century built?\n",
    "      -Does the Price differ based on Region?(please try to explore and find patterns yourself)"
   ]
  },
  {
   "cell_type": "code",
   "execution_count": 16,
   "metadata": {
    "ExecuteTime": {
     "end_time": "2020-03-27T20:18:22.338827Z",
     "start_time": "2020-03-27T20:18:22.335182Z"
    }
   },
   "outputs": [],
   "source": [
    "#First let's transform the \"Date\" column into datetime format"
   ]
  },
  {
   "cell_type": "code",
   "execution_count": 17,
   "metadata": {
    "ExecuteTime": {
     "end_time": "2020-03-27T20:18:23.128424Z",
     "start_time": "2020-03-27T20:18:23.116745Z"
    }
   },
   "outputs": [],
   "source": [
    "data[\"Date\"] = pd.to_datetime(data[\"Date\"],dayfirst=True)"
   ]
  },
  {
   "cell_type": "code",
   "execution_count": 18,
   "metadata": {
    "ExecuteTime": {
     "end_time": "2020-03-27T20:18:23.359634Z",
     "start_time": "2020-03-27T20:18:23.352657Z"
    }
   },
   "outputs": [],
   "source": [
    "#separating the month\n",
    "data[\"Month\"]=data[\"Date\"].apply(lambda x:x.month)"
   ]
  },
  {
   "cell_type": "code",
   "execution_count": 19,
   "metadata": {
    "ExecuteTime": {
     "end_time": "2020-03-27T20:18:23.782483Z",
     "start_time": "2020-03-27T20:18:23.776500Z"
    }
   },
   "outputs": [],
   "source": [
    "#transforming the date into season\n",
    "data[\"Season\"]=data.Month.apply(lambda x: (x%12 + 3)//3)"
   ]
  },
  {
   "cell_type": "code",
   "execution_count": 20,
   "metadata": {
    "ExecuteTime": {
     "end_time": "2020-03-27T20:18:24.126170Z",
     "start_time": "2020-03-27T20:18:24.119228Z"
    }
   },
   "outputs": [],
   "source": [
    "#Creating new variable from the existing one\n",
    "data['YearSold']=data[\"Date\"].apply(lambda x:x.year)"
   ]
  },
  {
   "cell_type": "code",
   "execution_count": 21,
   "metadata": {
    "ExecuteTime": {
     "end_time": "2020-03-27T20:18:24.627619Z",
     "start_time": "2020-03-27T20:18:24.619984Z"
    }
   },
   "outputs": [],
   "source": [
    "#renaming the values 1-4 into Seasons and adding a column\n",
    "data[\"Season\"]=data.Season.map({1:'Winter',2:'Spring',3:'Summer',4:'Autumn'})"
   ]
  },
  {
   "cell_type": "code",
   "execution_count": 22,
   "metadata": {
    "ExecuteTime": {
     "end_time": "2020-03-27T20:18:25.343222Z",
     "start_time": "2020-03-27T20:18:25.334502Z"
    }
   },
   "outputs": [
    {
     "data": {
      "text/plain": [
       "Summer    68\n",
       "Spring    19\n",
       "Winter    15\n",
       "Autumn     8\n",
       "Name: Season, dtype: int64"
      ]
     },
     "execution_count": 22,
     "metadata": {},
     "output_type": "execute_result"
    }
   ],
   "source": [
    "data[\"Season\"].value_counts()"
   ]
  },
  {
   "cell_type": "code",
   "execution_count": 23,
   "metadata": {
    "ExecuteTime": {
     "end_time": "2020-03-27T20:18:26.031520Z",
     "start_time": "2020-03-27T20:18:25.838045Z"
    }
   },
   "outputs": [
    {
     "data": {
      "image/png": "[encoded data removed]",
      "text/plain": [
       "<Figure size 432x360 with 1 Axes>"
      ]
     },
     "metadata": {
      "needs_background": "light"
     },
     "output_type": "display_data"
    }
   ],
   "source": [
    "#let's see the Number of houses sold by season\n",
    "plt.figure(figsize=(6,5))\n",
    "cp=sns.countplot(x=\"Season\",data=data, palette='magma',orient=\"h\")\n",
    "cp.set_xticklabels(cp.get_xticklabels(),rotation=-65)\n",
    "plt.xlabel(\"Season\")\n",
    "plt.title(\"Number of houses sold by Season\",fontdict={\"fontsize\":16})\n",
    "plt.show()"
   ]
  },
  {
   "cell_type": "code",
   "execution_count": 24,
   "metadata": {
    "ExecuteTime": {
     "end_time": "2020-03-27T20:18:26.396782Z",
     "start_time": "2020-03-27T20:18:26.382919Z"
    }
   },
   "outputs": [],
   "source": [
    "#Let's also see mean price by season using groupby method\n",
    "season_df=data.groupby(by='Season').mean()"
   ]
  },
  {
   "cell_type": "code",
   "execution_count": 25,
   "metadata": {
    "ExecuteTime": {
     "end_time": "2020-03-27T20:18:26.815893Z",
     "start_time": "2020-03-27T20:18:26.799933Z"
    }
   },
   "outputs": [
    {
     "data": {
      "text/html": [
       "<div>\n",
       "<style scoped>\n",
       "    .dataframe tbody tr th:only-of-type {\n",
       "        vertical-align: middle;\n",
       "    }\n",
       "\n",
       "    .dataframe tbody tr th {\n",
       "        vertical-align: top;\n",
       "    }\n",
       "\n",
       "    .dataframe thead th {\n",
       "        text-align: right;\n",
       "    }\n",
       "</style>\n",
       "<table border=\"1\" class=\"dataframe\">\n",
       "  <thead>\n",
       "    <tr style=\"text-align: right;\">\n",
       "      <th></th>\n",
       "      <th>Rooms</th>\n",
       "      <th>Price</th>\n",
       "      <th>Distance</th>\n",
       "      <th>Bedroom</th>\n",
       "      <th>Bathroom</th>\n",
       "      <th>Car</th>\n",
       "      <th>Landsize</th>\n",
       "      <th>BuildingArea</th>\n",
       "      <th>YearBuilt</th>\n",
       "      <th>Propertycount</th>\n",
       "      <th>Month</th>\n",
       "      <th>YearSold</th>\n",
       "    </tr>\n",
       "    <tr>\n",
       "      <th>Season</th>\n",
       "      <th></th>\n",
       "      <th></th>\n",
       "      <th></th>\n",
       "      <th></th>\n",
       "      <th></th>\n",
       "      <th></th>\n",
       "      <th></th>\n",
       "      <th></th>\n",
       "      <th></th>\n",
       "      <th></th>\n",
       "      <th></th>\n",
       "      <th></th>\n",
       "    </tr>\n",
       "  </thead>\n",
       "  <tbody>\n",
       "    <tr>\n",
       "      <td>Autumn</td>\n",
       "      <td>3.625000</td>\n",
       "      <td>1.260062e+06</td>\n",
       "      <td>7.175000</td>\n",
       "      <td>3.750000</td>\n",
       "      <td>2.250000</td>\n",
       "      <td>1.875000</td>\n",
       "      <td>450.750000</td>\n",
       "      <td>186.625000</td>\n",
       "      <td>1958.125000</td>\n",
       "      <td>5688.250000</td>\n",
       "      <td>10.250000</td>\n",
       "      <td>2016.000000</td>\n",
       "    </tr>\n",
       "    <tr>\n",
       "      <td>Spring</td>\n",
       "      <td>2.736842</td>\n",
       "      <td>1.210158e+06</td>\n",
       "      <td>6.747368</td>\n",
       "      <td>2.684211</td>\n",
       "      <td>1.736842</td>\n",
       "      <td>1.368421</td>\n",
       "      <td>312.263158</td>\n",
       "      <td>161.497368</td>\n",
       "      <td>1958.947368</td>\n",
       "      <td>7654.684211</td>\n",
       "      <td>4.315789</td>\n",
       "      <td>2016.631579</td>\n",
       "    </tr>\n",
       "    <tr>\n",
       "      <td>Summer</td>\n",
       "      <td>3.029412</td>\n",
       "      <td>9.310456e+05</td>\n",
       "      <td>11.325000</td>\n",
       "      <td>3.029412</td>\n",
       "      <td>1.573529</td>\n",
       "      <td>1.661765</td>\n",
       "      <td>531.911765</td>\n",
       "      <td>142.217647</td>\n",
       "      <td>1964.955882</td>\n",
       "      <td>7841.073529</td>\n",
       "      <td>7.058824</td>\n",
       "      <td>2016.838235</td>\n",
       "    </tr>\n",
       "    <tr>\n",
       "      <td>Winter</td>\n",
       "      <td>3.466667</td>\n",
       "      <td>9.894333e+05</td>\n",
       "      <td>11.160000</td>\n",
       "      <td>3.466667</td>\n",
       "      <td>1.733333</td>\n",
       "      <td>1.533333</td>\n",
       "      <td>533.800000</td>\n",
       "      <td>147.200000</td>\n",
       "      <td>1969.266667</td>\n",
       "      <td>7786.200000</td>\n",
       "      <td>10.000000</td>\n",
       "      <td>2017.000000</td>\n",
       "    </tr>\n",
       "  </tbody>\n",
       "</table>\n",
       "</div>"
      ],
      "text/plain": [
       "           Rooms         Price   Distance   Bedroom  Bathroom       Car  \\\n",
       "Season                                                                    \n",
       "Autumn  3.625000  1.260062e+06   7.175000  3.750000  2.250000  1.875000   \n",
       "Spring  2.736842  1.210158e+06   6.747368  2.684211  1.736842  1.368421   \n",
       "Summer  3.029412  9.310456e+05  11.325000  3.029412  1.573529  1.661765   \n",
       "Winter  3.466667  9.894333e+05  11.160000  3.466667  1.733333  1.533333   \n",
       "\n",
       "          Landsize  BuildingArea    YearBuilt  Propertycount      Month  \\\n",
       "Season                                                                    \n",
       "Autumn  450.750000    186.625000  1958.125000    5688.250000  10.250000   \n",
       "Spring  312.263158    161.497368  1958.947368    7654.684211   4.315789   \n",
       "Summer  531.911765    142.217647  1964.955882    7841.073529   7.058824   \n",
       "Winter  533.800000    147.200000  1969.266667    7786.200000  10.000000   \n",
       "\n",
       "           YearSold  \n",
       "Season               \n",
       "Autumn  2016.000000  \n",
       "Spring  2016.631579  \n",
       "Summer  2016.838235  \n",
       "Winter  2017.000000  "
      ]
     },
     "execution_count": 25,
     "metadata": {},
     "output_type": "execute_result"
    }
   ],
   "source": [
    "season_df"
   ]
  },
  {
   "cell_type": "code",
   "execution_count": 26,
   "metadata": {
    "ExecuteTime": {
     "end_time": "2020-03-27T20:18:27.327564Z",
     "start_time": "2020-03-27T20:18:27.182953Z"
    }
   },
   "outputs": [
    {
     "data": {
      "image/png": "[encoded data removed]",
      "text/plain": [
       "<Figure size 432x360 with 1 Axes>"
      ]
     },
     "metadata": {
      "needs_background": "light"
     },
     "output_type": "display_data"
    }
   ],
   "source": [
    "#let's see the mean price by season\n",
    "plt.figure(figsize=(6,5))\n",
    "plt.plot(season_df.Price)\n",
    "plt.xlabel(\"Season\")\n",
    "plt.title(\"Mean Price by Season\",fontdict={\"fontsize\":16})\n",
    "plt.show()"
   ]
  },
  {
   "cell_type": "markdown",
   "metadata": {},
   "source": [
    "We can see that mean price is lower during summer season, which hints why most of the houses are sold in summer."
   ]
  },
  {
   "cell_type": "code",
   "execution_count": 27,
   "metadata": {
    "ExecuteTime": {
     "end_time": "2020-03-27T20:18:28.241929Z",
     "start_time": "2020-03-27T20:18:28.231957Z"
    }
   },
   "outputs": [],
   "source": [
    "#transforming only Built Year into datetime \n",
    "data['YearBuilt']=pd.to_datetime(data['YearBuilt'],format='%Y').apply(lambda x:x.year)"
   ]
  },
  {
   "cell_type": "code",
   "execution_count": 28,
   "metadata": {
    "ExecuteTime": {
     "end_time": "2020-03-27T20:18:28.798048Z",
     "start_time": "2020-03-27T20:18:28.661411Z"
    }
   },
   "outputs": [
    {
     "data": {
      "image/png": "[encoded data removed]",
      "text/plain": [
       "<Figure size 432x360 with 1 Axes>"
      ]
     },
     "metadata": {
      "needs_background": "light"
     },
     "output_type": "display_data"
    }
   ],
   "source": [
    "#When were most of the houses sold?\n",
    "plt.figure(num=None, figsize=(6,5))\n",
    "sns.countplot(x=\"YearSold\",data=data, palette='magma')\n",
    "plt.xlabel(\"Year of Being Sold\")\n",
    "plt.title(\"Number of houses by Year Sold\",fontdict={\"fontsize\":16})\n",
    "plt.show()"
   ]
  },
  {
   "cell_type": "code",
   "execution_count": 29,
   "metadata": {
    "ExecuteTime": {
     "end_time": "2020-03-27T20:18:29.322025Z",
     "start_time": "2020-03-27T20:18:29.255166Z"
    }
   },
   "outputs": [
    {
     "name": "stdout",
     "output_type": "stream",
     "text": [
      "count    110.000000\n",
      "mean      52.754545\n",
      "std       39.700065\n",
      "min        0.000000\n",
      "25%       12.250000\n",
      "50%       47.000000\n",
      "75%       87.000000\n",
      "max      127.000000\n",
      "Name: year_diff, dtype: float64\n"
     ]
    }
   ],
   "source": [
    "#An example of a derived varibale\n",
    "#How many years \"old\" are the houses sold?\n",
    "data[\"year_diff\"]=data[\"YearSold\"]-data[\"YearBuilt\"]\n",
    "print(data[\"year_diff\"].describe())"
   ]
  },
  {
   "cell_type": "markdown",
   "metadata": {},
   "source": [
    "Note that 50% of the houses sold are 47 years old and the maximum age is 127."
   ]
  },
  {
   "cell_type": "code",
   "execution_count": 30,
   "metadata": {
    "ExecuteTime": {
     "end_time": "2020-03-27T20:18:30.245732Z",
     "start_time": "2020-03-27T20:18:30.235760Z"
    }
   },
   "outputs": [],
   "source": [
    "#Let's see mean price of the houses by year built\n",
    "yearly_df=data.groupby(by='YearBuilt').mean()"
   ]
  },
  {
   "cell_type": "code",
   "execution_count": 31,
   "metadata": {
    "ExecuteTime": {
     "end_time": "2020-03-27T20:18:30.946303Z",
     "start_time": "2020-03-27T20:18:30.716475Z"
    }
   },
   "outputs": [
    {
     "data": {
      "text/plain": [
       "Text(0.5, 1.0, 'Mean price by Year Built')"
      ]
     },
     "execution_count": 31,
     "metadata": {},
     "output_type": "execute_result"
    },
    {
     "data": {
      "image/png": "[encoded data removed]",
      "text/plain": [
       "<Figure size 504x432 with 1 Axes>"
      ]
     },
     "metadata": {
      "needs_background": "light"
     },
     "output_type": "display_data"
    }
   ],
   "source": [
    "plt.figure(num=None, figsize=(7,6))\n",
    "plt.plot(yearly_df.Price)\n",
    "plt.xlabel(\"Date\")\n",
    "plt.ylabel(\"Mean price\")\n",
    "plt.title('Mean price by Year Built', fontsize=15)"
   ]
  },
  {
   "cell_type": "markdown",
   "metadata": {},
   "source": [
    "Apparently mean price has its highest peak at 2017. Fluctuations in price for other years might be dependent on Region and other factors as well."
   ]
  },
  {
   "cell_type": "markdown",
   "metadata": {},
   "source": [
    "As we have too many years, it would be more convenient and representative for visualization to transform years into centuries. We will do it using the following function and apply() method"
   ]
  },
  {
   "cell_type": "code",
   "execution_count": 32,
   "metadata": {
    "ExecuteTime": {
     "end_time": "2020-03-27T20:18:32.148963Z",
     "start_time": "2020-03-27T20:18:32.143977Z"
    }
   },
   "outputs": [],
   "source": [
    "def century(row):\n",
    "    if row>2000:\n",
    "        val = \"20th\"\n",
    "    else:\n",
    "        val=\"19th\"\n",
    "    return val"
   ]
  },
  {
   "cell_type": "code",
   "execution_count": 33,
   "metadata": {
    "ExecuteTime": {
     "end_time": "2020-03-27T20:18:32.710092Z",
     "start_time": "2020-03-27T20:18:32.700120Z"
    }
   },
   "outputs": [
    {
     "data": {
      "text/plain": [
       "19th    78\n",
       "20th    32\n",
       "Name: YearBuilt, dtype: int64"
      ]
     },
     "execution_count": 33,
     "metadata": {},
     "output_type": "execute_result"
    }
   ],
   "source": [
    "data.YearBuilt.apply(century).value_counts()"
   ]
  },
  {
   "cell_type": "code",
   "execution_count": 34,
   "metadata": {
    "ExecuteTime": {
     "end_time": "2020-03-27T20:18:33.800658Z",
     "start_time": "2020-03-27T20:18:33.288029Z"
    }
   },
   "outputs": [
    {
     "data": {
      "image/png": "[encoded data removed]",
      "text/plain": [
       "<Figure size 432x360 with 1 Axes>"
      ]
     },
     "metadata": {
      "needs_background": "light"
     },
     "output_type": "display_data"
    }
   ],
   "source": [
    "\n",
    "plt.figure(num=None, figsize=(6,5))\n",
    "bx=sns.boxplot(x=\"Regionname\",y=\"Price\", data=data, palette='magma',hue=data.YearBuilt.apply(century),  showmeans=True)\n",
    "bx.set_xticklabels(bx.get_xticklabels(),rotation=65)\n",
    "plt.legend(title='Century Built', loc='upper right')\n",
    "plt.xlabel(\"Region Name\")\n",
    "plt.title(\"Price by Region and Century Built\",fontdict={\"fontsize\":16})\n",
    "plt.show()"
   ]
  },
  {
   "cell_type": "markdown",
   "metadata": {},
   "source": [
    "We can see that the highest mean price is at Souther Metropolitan region for houses built at 20th century."
   ]
  },
  {
   "cell_type": "markdown",
   "metadata": {},
   "source": [
    "To have the final data without the transformed variables, we will drop them."
   ]
  },
  {
   "cell_type": "code",
   "execution_count": 35,
   "metadata": {
    "ExecuteTime": {
     "end_time": "2020-03-27T20:18:34.774620Z",
     "start_time": "2020-03-27T20:18:34.768639Z"
    }
   },
   "outputs": [],
   "source": [
    "data=data.drop([\"Date\",\"YearBuilt\",\"Month\", \"Season\",\"YearSold\",\"year_diff\" ],axis=1)"
   ]
  },
  {
   "cell_type": "markdown",
   "metadata": {},
   "source": [
    "<h1> 3. Model selection </h1> <a name=\"select\"> </a>"
   ]
  },
  {
   "cell_type": "code",
   "execution_count": 36,
   "metadata": {
    "ExecuteTime": {
     "end_time": "2020-03-27T20:19:17.290720Z",
     "start_time": "2020-03-27T20:18:39.100478Z"
    }
   },
   "outputs": [
    {
     "data": {
      "text/plain": [
       "<seaborn.axisgrid.PairGrid at 0x271230cf108>"
      ]
     },
     "execution_count": 36,
     "metadata": {},
     "output_type": "execute_result"
    },
    {
     "data": {
      "image/png": "[encoded data removed]",
      "text/plain": [
       "<Figure size 1620x1620 with 90 Axes>"
      ]
     },
     "metadata": {
      "needs_background": "light"
     },
     "output_type": "display_data"
    }
   ],
   "source": [
    "#To see the visual representation of pairwise relationships in a dataset, a pairplot is used. Note that it only plots numeric\n",
    "#columns.\n",
    "sns.pairplot(data)"
   ]
  },
  {
   "cell_type": "markdown",
   "metadata": {},
   "source": [
    "To see the patterns interesting us in details, we can plot the pairs using appropriate types of plots. For this particular case there are not too many variables, so the plot is quite representative and no need for additional ones."
   ]
  },
  {
   "cell_type": "markdown",
   "metadata": {},
   "source": [
    " <h3><u>Checking for correlations (multicollinearity)</u></h3>"
   ]
  },
  {
   "cell_type": "code",
   "execution_count": 37,
   "metadata": {
    "ExecuteTime": {
     "end_time": "2020-03-27T20:19:25.163044Z",
     "start_time": "2020-03-27T20:19:25.144420Z"
    }
   },
   "outputs": [
    {
     "data": {
      "text/html": [
       "<div>\n",
       "<style scoped>\n",
       "    .dataframe tbody tr th:only-of-type {\n",
       "        vertical-align: middle;\n",
       "    }\n",
       "\n",
       "    .dataframe tbody tr th {\n",
       "        vertical-align: top;\n",
       "    }\n",
       "\n",
       "    .dataframe thead th {\n",
       "        text-align: right;\n",
       "    }\n",
       "</style>\n",
       "<table border=\"1\" class=\"dataframe\">\n",
       "  <thead>\n",
       "    <tr style=\"text-align: right;\">\n",
       "      <th></th>\n",
       "      <th>Rooms</th>\n",
       "      <th>Price</th>\n",
       "      <th>Distance</th>\n",
       "      <th>Bedroom</th>\n",
       "      <th>Bathroom</th>\n",
       "      <th>Car</th>\n",
       "      <th>Landsize</th>\n",
       "      <th>BuildingArea</th>\n",
       "      <th>Propertycount</th>\n",
       "    </tr>\n",
       "  </thead>\n",
       "  <tbody>\n",
       "    <tr>\n",
       "      <td>Rooms</td>\n",
       "      <td>1.000000</td>\n",
       "      <td>0.496441</td>\n",
       "      <td>0.322496</td>\n",
       "      <td>0.992288</td>\n",
       "      <td>0.693759</td>\n",
       "      <td>0.427596</td>\n",
       "      <td>0.289627</td>\n",
       "      <td>0.743288</td>\n",
       "      <td>-0.094804</td>\n",
       "    </tr>\n",
       "    <tr>\n",
       "      <td>Price</td>\n",
       "      <td>0.496441</td>\n",
       "      <td>1.000000</td>\n",
       "      <td>-0.141503</td>\n",
       "      <td>0.498843</td>\n",
       "      <td>0.570595</td>\n",
       "      <td>0.329081</td>\n",
       "      <td>0.041088</td>\n",
       "      <td>0.628836</td>\n",
       "      <td>-0.134389</td>\n",
       "    </tr>\n",
       "    <tr>\n",
       "      <td>Distance</td>\n",
       "      <td>0.322496</td>\n",
       "      <td>-0.141503</td>\n",
       "      <td>1.000000</td>\n",
       "      <td>0.312113</td>\n",
       "      <td>0.133916</td>\n",
       "      <td>0.334017</td>\n",
       "      <td>0.244377</td>\n",
       "      <td>0.220520</td>\n",
       "      <td>-0.085765</td>\n",
       "    </tr>\n",
       "    <tr>\n",
       "      <td>Bedroom</td>\n",
       "      <td>0.992288</td>\n",
       "      <td>0.498843</td>\n",
       "      <td>0.312113</td>\n",
       "      <td>1.000000</td>\n",
       "      <td>0.724278</td>\n",
       "      <td>0.433750</td>\n",
       "      <td>0.298613</td>\n",
       "      <td>0.753977</td>\n",
       "      <td>-0.097368</td>\n",
       "    </tr>\n",
       "    <tr>\n",
       "      <td>Bathroom</td>\n",
       "      <td>0.693759</td>\n",
       "      <td>0.570595</td>\n",
       "      <td>0.133916</td>\n",
       "      <td>0.724278</td>\n",
       "      <td>1.000000</td>\n",
       "      <td>0.427814</td>\n",
       "      <td>0.187223</td>\n",
       "      <td>0.765947</td>\n",
       "      <td>-0.175644</td>\n",
       "    </tr>\n",
       "    <tr>\n",
       "      <td>Car</td>\n",
       "      <td>0.427596</td>\n",
       "      <td>0.329081</td>\n",
       "      <td>0.334017</td>\n",
       "      <td>0.433750</td>\n",
       "      <td>0.427814</td>\n",
       "      <td>1.000000</td>\n",
       "      <td>0.311213</td>\n",
       "      <td>0.487816</td>\n",
       "      <td>-0.102099</td>\n",
       "    </tr>\n",
       "    <tr>\n",
       "      <td>Landsize</td>\n",
       "      <td>0.289627</td>\n",
       "      <td>0.041088</td>\n",
       "      <td>0.244377</td>\n",
       "      <td>0.298613</td>\n",
       "      <td>0.187223</td>\n",
       "      <td>0.311213</td>\n",
       "      <td>1.000000</td>\n",
       "      <td>0.284929</td>\n",
       "      <td>-0.044187</td>\n",
       "    </tr>\n",
       "    <tr>\n",
       "      <td>BuildingArea</td>\n",
       "      <td>0.743288</td>\n",
       "      <td>0.628836</td>\n",
       "      <td>0.220520</td>\n",
       "      <td>0.753977</td>\n",
       "      <td>0.765947</td>\n",
       "      <td>0.487816</td>\n",
       "      <td>0.284929</td>\n",
       "      <td>1.000000</td>\n",
       "      <td>-0.150502</td>\n",
       "    </tr>\n",
       "    <tr>\n",
       "      <td>Propertycount</td>\n",
       "      <td>-0.094804</td>\n",
       "      <td>-0.134389</td>\n",
       "      <td>-0.085765</td>\n",
       "      <td>-0.097368</td>\n",
       "      <td>-0.175644</td>\n",
       "      <td>-0.102099</td>\n",
       "      <td>-0.044187</td>\n",
       "      <td>-0.150502</td>\n",
       "      <td>1.000000</td>\n",
       "    </tr>\n",
       "  </tbody>\n",
       "</table>\n",
       "</div>"
      ],
      "text/plain": [
       "                  Rooms     Price  Distance   Bedroom  Bathroom       Car  \\\n",
       "Rooms          1.000000  0.496441  0.322496  0.992288  0.693759  0.427596   \n",
       "Price          0.496441  1.000000 -0.141503  0.498843  0.570595  0.329081   \n",
       "Distance       0.322496 -0.141503  1.000000  0.312113  0.133916  0.334017   \n",
       "Bedroom        0.992288  0.498843  0.312113  1.000000  0.724278  0.433750   \n",
       "Bathroom       0.693759  0.570595  0.133916  0.724278  1.000000  0.427814   \n",
       "Car            0.427596  0.329081  0.334017  0.433750  0.427814  1.000000   \n",
       "Landsize       0.289627  0.041088  0.244377  0.298613  0.187223  0.311213   \n",
       "BuildingArea   0.743288  0.628836  0.220520  0.753977  0.765947  0.487816   \n",
       "Propertycount -0.094804 -0.134389 -0.085765 -0.097368 -0.175644 -0.102099   \n",
       "\n",
       "               Landsize  BuildingArea  Propertycount  \n",
       "Rooms          0.289627      0.743288      -0.094804  \n",
       "Price          0.041088      0.628836      -0.134389  \n",
       "Distance       0.244377      0.220520      -0.085765  \n",
       "Bedroom        0.298613      0.753977      -0.097368  \n",
       "Bathroom       0.187223      0.765947      -0.175644  \n",
       "Car            0.311213      0.487816      -0.102099  \n",
       "Landsize       1.000000      0.284929      -0.044187  \n",
       "BuildingArea   0.284929      1.000000      -0.150502  \n",
       "Propertycount -0.044187     -0.150502       1.000000  "
      ]
     },
     "execution_count": 37,
     "metadata": {},
     "output_type": "execute_result"
    }
   ],
   "source": [
    "#lets see the corrplot\n",
    "data.corr()"
   ]
  },
  {
   "cell_type": "markdown",
   "metadata": {},
   "source": [
    "There are a lot of pairs having high correlation, but the representation is not convenient to see the overall picture, thus we will use some visualizations."
   ]
  },
  {
   "cell_type": "code",
   "execution_count": 40,
   "metadata": {
    "ExecuteTime": {
     "end_time": "2020-03-27T20:19:42.858187Z",
     "start_time": "2020-03-27T20:19:42.009406Z"
    }
   },
   "outputs": [
    {
     "data": {
      "image/png": "[encoded data removed]",
      "text/plain": [
       "<Figure size 720x360 with 2 Axes>"
      ]
     },
     "metadata": {
      "needs_background": "light"
     },
     "output_type": "display_data"
    }
   ],
   "source": [
    "#Let's visualize correlations\n",
    "plt.figure(figsize=(10,5))\n",
    "sns.heatmap(data.corr().abs().round(2),annot=True, cmap = \"BuGn\")\n",
    "plt.show()"
   ]
  },
  {
   "cell_type": "code",
   "execution_count": 41,
   "metadata": {
    "ExecuteTime": {
     "end_time": "2020-03-27T20:19:43.195270Z",
     "start_time": "2020-03-27T20:19:42.863128Z"
    }
   },
   "outputs": [
    {
     "data": {
      "image/png": "[encoded data removed]",
      "text/plain": [
       "<Figure size 432x288 with 2 Axes>"
      ]
     },
     "metadata": {
      "needs_background": "light"
     },
     "output_type": "display_data"
    }
   ],
   "source": [
    "#plot correlation heatmap to see any correlations above or equal to 75% in absolute values\n",
    "#we will see that number of variables are highly correlated, which will affect the results.\n",
    "#Thus we will include only several of them in the analysis\n",
    "sns.heatmap(data.corr().abs()>=0.75, cmap = \"BuGn\")\n",
    "plt.show()"
   ]
  },
  {
   "cell_type": "code",
   "execution_count": 42,
   "metadata": {
    "ExecuteTime": {
     "end_time": "2020-03-27T20:19:50.281806Z",
     "start_time": "2020-03-27T20:19:50.275712Z"
    }
   },
   "outputs": [],
   "source": [
    "#let's drop Bedroom and bathroom variables, as they have high correlation coefficient and \n",
    "#the information is repeated in number of rooms.\n",
    "data=data.drop([\"Bedroom\", \"Bathroom\"],axis=1)"
   ]
  },
  {
   "cell_type": "code",
   "execution_count": 44,
   "metadata": {
    "ExecuteTime": {
     "end_time": "2020-03-27T20:19:56.824024Z",
     "start_time": "2020-03-27T20:19:56.217507Z"
    }
   },
   "outputs": [
    {
     "data": {
      "image/png": "[encoded data removed]",
      "text/plain": [
       "<Figure size 720x360 with 2 Axes>"
      ]
     },
     "metadata": {
      "needs_background": "light"
     },
     "output_type": "display_data"
    }
   ],
   "source": [
    "#Let's visualize correlations\n",
    "plt.figure(figsize=(10,5))\n",
    "sns.heatmap(data.corr().abs().round(2),annot=True, cmap = \"BuGn\")\n",
    "plt.show()"
   ]
  },
  {
   "cell_type": "markdown",
   "metadata": {},
   "source": [
    "After dropping the noted variables we see that there is no correlation coefficient higher than 0.75 so won't exclude any other variable."
   ]
  },
  {
   "cell_type": "code",
   "execution_count": 45,
   "metadata": {
    "ExecuteTime": {
     "end_time": "2020-03-27T20:19:57.858661Z",
     "start_time": "2020-03-27T20:19:57.823795Z"
    }
   },
   "outputs": [
    {
     "data": {
      "text/html": [
       "<div>\n",
       "<style scoped>\n",
       "    .dataframe tbody tr th:only-of-type {\n",
       "        vertical-align: middle;\n",
       "    }\n",
       "\n",
       "    .dataframe tbody tr th {\n",
       "        vertical-align: top;\n",
       "    }\n",
       "\n",
       "    .dataframe thead th {\n",
       "        text-align: right;\n",
       "    }\n",
       "</style>\n",
       "<table border=\"1\" class=\"dataframe\">\n",
       "  <thead>\n",
       "    <tr style=\"text-align: right;\">\n",
       "      <th></th>\n",
       "      <th>Rooms</th>\n",
       "      <th>Price</th>\n",
       "      <th>Distance</th>\n",
       "      <th>Car</th>\n",
       "      <th>Landsize</th>\n",
       "      <th>BuildingArea</th>\n",
       "      <th>Propertycount</th>\n",
       "      <th>Type_t</th>\n",
       "      <th>Type_u</th>\n",
       "      <th>Method_S</th>\n",
       "      <th>Method_SP</th>\n",
       "      <th>Method_VB</th>\n",
       "      <th>Regionname_Northern Metropolitan</th>\n",
       "      <th>Regionname_South-Eastern Metropolitan</th>\n",
       "      <th>Regionname_Southern Metropolitan</th>\n",
       "      <th>Regionname_Western Metropolitan</th>\n",
       "    </tr>\n",
       "  </thead>\n",
       "  <tbody>\n",
       "    <tr>\n",
       "      <td>0</td>\n",
       "      <td>2</td>\n",
       "      <td>865000</td>\n",
       "      <td>5.9</td>\n",
       "      <td>1</td>\n",
       "      <td>146</td>\n",
       "      <td>132.0</td>\n",
       "      <td>6567</td>\n",
       "      <td>1</td>\n",
       "      <td>0</td>\n",
       "      <td>0</td>\n",
       "      <td>1</td>\n",
       "      <td>0</td>\n",
       "      <td>0</td>\n",
       "      <td>0</td>\n",
       "      <td>0</td>\n",
       "      <td>1</td>\n",
       "    </tr>\n",
       "    <tr>\n",
       "      <td>1</td>\n",
       "      <td>2</td>\n",
       "      <td>442000</td>\n",
       "      <td>5.9</td>\n",
       "      <td>1</td>\n",
       "      <td>0</td>\n",
       "      <td>62.0</td>\n",
       "      <td>6567</td>\n",
       "      <td>0</td>\n",
       "      <td>1</td>\n",
       "      <td>1</td>\n",
       "      <td>0</td>\n",
       "      <td>0</td>\n",
       "      <td>0</td>\n",
       "      <td>0</td>\n",
       "      <td>0</td>\n",
       "      <td>1</td>\n",
       "    </tr>\n",
       "    <tr>\n",
       "      <td>2</td>\n",
       "      <td>3</td>\n",
       "      <td>1037500</td>\n",
       "      <td>5.9</td>\n",
       "      <td>2</td>\n",
       "      <td>506</td>\n",
       "      <td>110.0</td>\n",
       "      <td>6567</td>\n",
       "      <td>0</td>\n",
       "      <td>0</td>\n",
       "      <td>1</td>\n",
       "      <td>0</td>\n",
       "      <td>0</td>\n",
       "      <td>0</td>\n",
       "      <td>0</td>\n",
       "      <td>0</td>\n",
       "      <td>1</td>\n",
       "    </tr>\n",
       "    <tr>\n",
       "      <td>3</td>\n",
       "      <td>3</td>\n",
       "      <td>1050000</td>\n",
       "      <td>5.9</td>\n",
       "      <td>2</td>\n",
       "      <td>318</td>\n",
       "      <td>160.0</td>\n",
       "      <td>6567</td>\n",
       "      <td>1</td>\n",
       "      <td>0</td>\n",
       "      <td>1</td>\n",
       "      <td>0</td>\n",
       "      <td>0</td>\n",
       "      <td>0</td>\n",
       "      <td>0</td>\n",
       "      <td>0</td>\n",
       "      <td>1</td>\n",
       "    </tr>\n",
       "    <tr>\n",
       "      <td>4</td>\n",
       "      <td>2</td>\n",
       "      <td>440000</td>\n",
       "      <td>5.9</td>\n",
       "      <td>1</td>\n",
       "      <td>0</td>\n",
       "      <td>65.0</td>\n",
       "      <td>6567</td>\n",
       "      <td>0</td>\n",
       "      <td>1</td>\n",
       "      <td>1</td>\n",
       "      <td>0</td>\n",
       "      <td>0</td>\n",
       "      <td>0</td>\n",
       "      <td>0</td>\n",
       "      <td>0</td>\n",
       "      <td>1</td>\n",
       "    </tr>\n",
       "  </tbody>\n",
       "</table>\n",
       "</div>"
      ],
      "text/plain": [
       "   Rooms    Price  Distance  Car  Landsize  BuildingArea  Propertycount  \\\n",
       "0      2   865000       5.9    1       146         132.0           6567   \n",
       "1      2   442000       5.9    1         0          62.0           6567   \n",
       "2      3  1037500       5.9    2       506         110.0           6567   \n",
       "3      3  1050000       5.9    2       318         160.0           6567   \n",
       "4      2   440000       5.9    1         0          65.0           6567   \n",
       "\n",
       "   Type_t  Type_u  Method_S  Method_SP  Method_VB  \\\n",
       "0       1       0         0          1          0   \n",
       "1       0       1         1          0          0   \n",
       "2       0       0         1          0          0   \n",
       "3       1       0         1          0          0   \n",
       "4       0       1         1          0          0   \n",
       "\n",
       "   Regionname_Northern Metropolitan  Regionname_South-Eastern Metropolitan  \\\n",
       "0                                 0                                      0   \n",
       "1                                 0                                      0   \n",
       "2                                 0                                      0   \n",
       "3                                 0                                      0   \n",
       "4                                 0                                      0   \n",
       "\n",
       "   Regionname_Southern Metropolitan  Regionname_Western Metropolitan  \n",
       "0                                 0                                1  \n",
       "1                                 0                                1  \n",
       "2                                 0                                1  \n",
       "3                                 0                                1  \n",
       "4                                 0                                1  "
      ]
     },
     "execution_count": 45,
     "metadata": {},
     "output_type": "execute_result"
    }
   ],
   "source": [
    "#let's convert categorical variables in the dataset into dummy variables\n",
    "data=pd.get_dummies(data,drop_first=True)\n",
    "data.head()"
   ]
  },
  {
   "cell_type": "code",
   "execution_count": 46,
   "metadata": {
    "ExecuteTime": {
     "end_time": "2020-03-27T20:20:05.157495Z",
     "start_time": "2020-03-27T20:20:05.145526Z"
    }
   },
   "outputs": [
    {
     "name": "stdout",
     "output_type": "stream",
     "text": [
      "<class 'pandas.core.frame.DataFrame'>\n",
      "RangeIndex: 110 entries, 0 to 109\n",
      "Data columns (total 16 columns):\n",
      "Rooms                                    110 non-null int64\n",
      "Price                                    110 non-null int64\n",
      "Distance                                 110 non-null float64\n",
      "Car                                      110 non-null int64\n",
      "Landsize                                 110 non-null int64\n",
      "BuildingArea                             110 non-null float64\n",
      "Propertycount                            110 non-null int64\n",
      "Type_t                                   110 non-null uint8\n",
      "Type_u                                   110 non-null uint8\n",
      "Method_S                                 110 non-null uint8\n",
      "Method_SP                                110 non-null uint8\n",
      "Method_VB                                110 non-null uint8\n",
      "Regionname_Northern Metropolitan         110 non-null uint8\n",
      "Regionname_South-Eastern Metropolitan    110 non-null uint8\n",
      "Regionname_Southern Metropolitan         110 non-null uint8\n",
      "Regionname_Western Metropolitan          110 non-null uint8\n",
      "dtypes: float64(2), int64(5), uint8(9)\n",
      "memory usage: 7.1 KB\n"
     ]
    }
   ],
   "source": [
    "data.info()"
   ]
  },
  {
   "cell_type": "code",
   "execution_count": 47,
   "metadata": {
    "ExecuteTime": {
     "end_time": "2020-03-27T20:20:06.765223Z",
     "start_time": "2020-03-27T20:20:06.759239Z"
    }
   },
   "outputs": [],
   "source": [
    "#as the names of newly creayed dummy variables contain space and \"-\", let's replace with underscore (\"_\")\n",
    "data.columns=data.columns.str.replace(\" \",\"_\")\n",
    "data.columns=data.columns.str.replace(\"-\",\"_\")"
   ]
  },
  {
   "cell_type": "code",
   "execution_count": 48,
   "metadata": {
    "ExecuteTime": {
     "end_time": "2020-03-27T20:20:09.965539Z",
     "start_time": "2020-03-27T20:20:09.954570Z"
    }
   },
   "outputs": [
    {
     "name": "stdout",
     "output_type": "stream",
     "text": [
      "<class 'pandas.core.frame.DataFrame'>\n",
      "RangeIndex: 110 entries, 0 to 109\n",
      "Data columns (total 16 columns):\n",
      "Rooms                                    110 non-null int64\n",
      "Price                                    110 non-null int64\n",
      "Distance                                 110 non-null float64\n",
      "Car                                      110 non-null int64\n",
      "Landsize                                 110 non-null int64\n",
      "BuildingArea                             110 non-null float64\n",
      "Propertycount                            110 non-null int64\n",
      "Type_t                                   110 non-null uint8\n",
      "Type_u                                   110 non-null uint8\n",
      "Method_S                                 110 non-null uint8\n",
      "Method_SP                                110 non-null uint8\n",
      "Method_VB                                110 non-null uint8\n",
      "Regionname_Northern_Metropolitan         110 non-null uint8\n",
      "Regionname_South_Eastern_Metropolitan    110 non-null uint8\n",
      "Regionname_Southern_Metropolitan         110 non-null uint8\n",
      "Regionname_Western_Metropolitan          110 non-null uint8\n",
      "dtypes: float64(2), int64(5), uint8(9)\n",
      "memory usage: 7.1 KB\n"
     ]
    }
   ],
   "source": [
    "data.info()"
   ]
  },
  {
   "cell_type": "markdown",
   "metadata": {},
   "source": [
    "<h1> 4. Running and building the OLS model /statsmodels/(backward selection, model transformation, test performance)) </h1> <a name=\"stats\">"
   ]
  },
  {
   "cell_type": "markdown",
   "metadata": {},
   "source": [
    "We will perform 2-step backward stepwise regression and one transformed model. The steps will be as following:\n",
    "    1. split the data into train and test sets,\n",
    "    2. build(fit) the model on the train set and see the summary (look at R-squared),\n",
    "    3. make predictions for the test set and calculate the R-squared,\n",
    "    4. compare train-test score gap, analyse train model coefficients p-values and make the transformations,\n",
    "    5. repeat until a desired score is got,\n",
    "    6. in case of having several competing models (from test score similarity point), check assumptions for all models and    select the one holding all of them. If LINE is not held, transform the data further.\n",
    "    7. NOTE: Coefficients are interpreted for the models fitted on training set."
   ]
  },
  {
   "cell_type": "code",
   "execution_count": 49,
   "metadata": {
    "ExecuteTime": {
     "end_time": "2020-03-27T20:20:12.105993Z",
     "start_time": "2020-03-27T20:20:12.099015Z"
    }
   },
   "outputs": [],
   "source": [
    "#setting the independent and dependent varables\n",
    "Y=data[\"Price\"]\n",
    "X=data.drop(\"Price\", axis=1)"
   ]
  },
  {
   "cell_type": "code",
   "execution_count": 50,
   "metadata": {
    "ExecuteTime": {
     "end_time": "2020-03-27T20:20:12.652785Z",
     "start_time": "2020-03-27T20:20:12.646800Z"
    }
   },
   "outputs": [
    {
     "data": {
      "text/plain": [
       "(110, 15)"
      ]
     },
     "execution_count": 50,
     "metadata": {},
     "output_type": "execute_result"
    }
   ],
   "source": [
    "X.shape"
   ]
  },
  {
   "cell_type": "code",
   "execution_count": 51,
   "metadata": {
    "ExecuteTime": {
     "end_time": "2020-03-27T20:20:13.175088Z",
     "start_time": "2020-03-27T20:20:13.165356Z"
    }
   },
   "outputs": [],
   "source": [
    "#Splitting the data into train and test sets 0s are for train and 1s for test sets\n",
    "X0, X1, Y0, Y1 = train_test_split(X, Y, test_size=0.25, random_state=42)"
   ]
  },
  {
   "cell_type": "code",
   "execution_count": 52,
   "metadata": {
    "ExecuteTime": {
     "end_time": "2020-03-27T20:20:14.532909Z",
     "start_time": "2020-03-27T20:20:14.516958Z"
    }
   },
   "outputs": [
    {
     "name": "stderr",
     "output_type": "stream",
     "text": [
      "C:\\Users\\Srbuhi\\Anaconda3\\lib\\site-packages\\numpy\\core\\fromnumeric.py:2542: FutureWarning: Method .ptp is deprecated and will be removed in a future version. Use numpy.ptp instead.\n",
      "  return ptp(axis=axis, out=out, **kwargs)\n"
     ]
    }
   ],
   "source": [
    "# Adding a constant term to the predictor, the intercept is not included in the model and should be added by the user\n",
    "X0=sm.add_constant(X0)"
   ]
  },
  {
   "cell_type": "code",
   "execution_count": 53,
   "metadata": {
    "ExecuteTime": {
     "end_time": "2020-03-27T20:20:15.169410Z",
     "start_time": "2020-03-27T20:20:15.161432Z"
    }
   },
   "outputs": [],
   "source": [
    "model_linear= sm.OLS(Y0,X0)"
   ]
  },
  {
   "cell_type": "markdown",
   "metadata": {},
   "source": [
    "<b>Next, build the model.</b>"
   ]
  },
  {
   "cell_type": "code",
   "execution_count": 54,
   "metadata": {
    "ExecuteTime": {
     "end_time": "2020-03-27T20:20:17.137249Z",
     "start_time": "2020-03-27T20:20:17.120297Z"
    }
   },
   "outputs": [],
   "source": [
    "results=model_linear.fit()"
   ]
  },
  {
   "cell_type": "markdown",
   "metadata": {},
   "source": [
    "<b>Last, see the summary.</b>"
   ]
  },
  {
   "cell_type": "code",
   "execution_count": 55,
   "metadata": {
    "ExecuteTime": {
     "end_time": "2020-03-27T20:20:18.930693Z",
     "start_time": "2020-03-27T20:20:18.895820Z"
    }
   },
   "outputs": [
    {
     "data": {
      "text/html": [
       "<table class=\"simpletable\">\n",
       "<caption>OLS Regression Results</caption>\n",
       "<tr>\n",
       "  <th>Dep. Variable:</th>          <td>Price</td>      <th>  R-squared:         </th> <td>   0.863</td>\n",
       "</tr>\n",
       "<tr>\n",
       "  <th>Model:</th>                   <td>OLS</td>       <th>  Adj. R-squared:    </th> <td>   0.831</td>\n",
       "</tr>\n",
       "<tr>\n",
       "  <th>Method:</th>             <td>Least Squares</td>  <th>  F-statistic:       </th> <td>   27.62</td>\n",
       "</tr>\n",
       "<tr>\n",
       "  <th>Date:</th>             <td>Sat, 28 Mar 2020</td> <th>  Prob (F-statistic):</th> <td>1.12e-22</td>\n",
       "</tr>\n",
       "<tr>\n",
       "  <th>Time:</th>                 <td>00:20:18</td>     <th>  Log-Likelihood:    </th> <td> -1110.2</td>\n",
       "</tr>\n",
       "<tr>\n",
       "  <th>No. Observations:</th>      <td>    82</td>      <th>  AIC:               </th> <td>   2252.</td>\n",
       "</tr>\n",
       "<tr>\n",
       "  <th>Df Residuals:</th>          <td>    66</td>      <th>  BIC:               </th> <td>   2291.</td>\n",
       "</tr>\n",
       "<tr>\n",
       "  <th>Df Model:</th>              <td>    15</td>      <th>                     </th>     <td> </td>   \n",
       "</tr>\n",
       "<tr>\n",
       "  <th>Covariance Type:</th>      <td>nonrobust</td>    <th>                     </th>     <td> </td>   \n",
       "</tr>\n",
       "</table>\n",
       "<table class=\"simpletable\">\n",
       "<tr>\n",
       "                    <td></td>                       <th>coef</th>     <th>std err</th>      <th>t</th>      <th>P>|t|</th>  <th>[0.025</th>    <th>0.975]</th>  \n",
       "</tr>\n",
       "<tr>\n",
       "  <th>const</th>                                 <td> 1.024e+06</td> <td> 1.64e+05</td> <td>    6.228</td> <td> 0.000</td> <td> 6.96e+05</td> <td> 1.35e+06</td>\n",
       "</tr>\n",
       "<tr>\n",
       "  <th>Rooms</th>                                 <td> 2.803e+04</td> <td> 4.73e+04</td> <td>    0.593</td> <td> 0.555</td> <td>-6.64e+04</td> <td> 1.22e+05</td>\n",
       "</tr>\n",
       "<tr>\n",
       "  <th>Distance</th>                              <td>-3.321e+04</td> <td> 5132.614</td> <td>   -6.471</td> <td> 0.000</td> <td>-4.35e+04</td> <td> -2.3e+04</td>\n",
       "</tr>\n",
       "<tr>\n",
       "  <th>Car</th>                                   <td> 3.956e+04</td> <td> 2.92e+04</td> <td>    1.357</td> <td> 0.179</td> <td>-1.87e+04</td> <td> 9.78e+04</td>\n",
       "</tr>\n",
       "<tr>\n",
       "  <th>Landsize</th>                              <td>  -43.4948</td> <td>   81.371</td> <td>   -0.535</td> <td> 0.595</td> <td> -205.957</td> <td>  118.968</td>\n",
       "</tr>\n",
       "<tr>\n",
       "  <th>BuildingArea</th>                          <td> 1819.2376</td> <td>  542.327</td> <td>    3.355</td> <td> 0.001</td> <td>  736.446</td> <td> 2902.029</td>\n",
       "</tr>\n",
       "<tr>\n",
       "  <th>Propertycount</th>                         <td>    6.8799</td> <td>    6.543</td> <td>    1.052</td> <td> 0.297</td> <td>   -6.183</td> <td>   19.943</td>\n",
       "</tr>\n",
       "<tr>\n",
       "  <th>Type_t</th>                                <td> -1.08e+05</td> <td> 9.07e+04</td> <td>   -1.191</td> <td> 0.238</td> <td>-2.89e+05</td> <td> 7.31e+04</td>\n",
       "</tr>\n",
       "<tr>\n",
       "  <th>Type_u</th>                                <td> -4.24e+05</td> <td> 8.48e+04</td> <td>   -4.998</td> <td> 0.000</td> <td>-5.93e+05</td> <td>-2.55e+05</td>\n",
       "</tr>\n",
       "<tr>\n",
       "  <th>Method_S</th>                              <td>  9.02e+04</td> <td> 7.57e+04</td> <td>    1.192</td> <td> 0.238</td> <td>-6.09e+04</td> <td> 2.41e+05</td>\n",
       "</tr>\n",
       "<tr>\n",
       "  <th>Method_SP</th>                             <td> 1.393e+05</td> <td> 1.04e+05</td> <td>    1.344</td> <td> 0.183</td> <td>-6.76e+04</td> <td> 3.46e+05</td>\n",
       "</tr>\n",
       "<tr>\n",
       "  <th>Method_VB</th>                             <td> 5.957e+05</td> <td> 1.47e+05</td> <td>    4.043</td> <td> 0.000</td> <td> 3.02e+05</td> <td>  8.9e+05</td>\n",
       "</tr>\n",
       "<tr>\n",
       "  <th>Regionname_Northern_Metropolitan</th>      <td>-2.764e+05</td> <td> 1.18e+05</td> <td>   -2.335</td> <td> 0.023</td> <td>-5.13e+05</td> <td>   -4e+04</td>\n",
       "</tr>\n",
       "<tr>\n",
       "  <th>Regionname_South_Eastern_Metropolitan</th> <td> 9.365e+04</td> <td>  1.2e+05</td> <td>    0.779</td> <td> 0.439</td> <td>-1.46e+05</td> <td> 3.34e+05</td>\n",
       "</tr>\n",
       "<tr>\n",
       "  <th>Regionname_Southern_Metropolitan</th>      <td> 5.724e+05</td> <td> 1.17e+05</td> <td>    4.907</td> <td> 0.000</td> <td> 3.39e+05</td> <td> 8.05e+05</td>\n",
       "</tr>\n",
       "<tr>\n",
       "  <th>Regionname_Western_Metropolitan</th>       <td>-3.268e+05</td> <td> 1.04e+05</td> <td>   -3.129</td> <td> 0.003</td> <td>-5.35e+05</td> <td>-1.18e+05</td>\n",
       "</tr>\n",
       "</table>\n",
       "<table class=\"simpletable\">\n",
       "<tr>\n",
       "  <th>Omnibus:</th>       <td> 0.196</td> <th>  Durbin-Watson:     </th> <td>   1.727</td>\n",
       "</tr>\n",
       "<tr>\n",
       "  <th>Prob(Omnibus):</th> <td> 0.907</td> <th>  Jarque-Bera (JB):  </th> <td>   0.134</td>\n",
       "</tr>\n",
       "<tr>\n",
       "  <th>Skew:</th>          <td> 0.095</td> <th>  Prob(JB):          </th> <td>   0.935</td>\n",
       "</tr>\n",
       "<tr>\n",
       "  <th>Kurtosis:</th>      <td> 2.944</td> <th>  Cond. No.          </th> <td>9.13e+04</td>\n",
       "</tr>\n",
       "</table><br/><br/>Warnings:<br/>[1] Standard Errors assume that the covariance matrix of the errors is correctly specified.<br/>[2] The condition number is large, 9.13e+04. This might indicate that there are<br/>strong multicollinearity or other numerical problems."
      ],
      "text/plain": [
       "<class 'statsmodels.iolib.summary.Summary'>\n",
       "\"\"\"\n",
       "                            OLS Regression Results                            \n",
       "==============================================================================\n",
       "Dep. Variable:                  Price   R-squared:                       0.863\n",
       "Model:                            OLS   Adj. R-squared:                  0.831\n",
       "Method:                 Least Squares   F-statistic:                     27.62\n",
       "Date:                Sat, 28 Mar 2020   Prob (F-statistic):           1.12e-22\n",
       "Time:                        00:20:18   Log-Likelihood:                -1110.2\n",
       "No. Observations:                  82   AIC:                             2252.\n",
       "Df Residuals:                      66   BIC:                             2291.\n",
       "Df Model:                          15                                         \n",
       "Covariance Type:            nonrobust                                         \n",
       "=========================================================================================================\n",
       "                                            coef    std err          t      P>|t|      [0.025      0.975]\n",
       "---------------------------------------------------------------------------------------------------------\n",
       "const                                  1.024e+06   1.64e+05      6.228      0.000    6.96e+05    1.35e+06\n",
       "Rooms                                  2.803e+04   4.73e+04      0.593      0.555   -6.64e+04    1.22e+05\n",
       "Distance                              -3.321e+04   5132.614     -6.471      0.000   -4.35e+04    -2.3e+04\n",
       "Car                                    3.956e+04   2.92e+04      1.357      0.179   -1.87e+04    9.78e+04\n",
       "Landsize                                -43.4948     81.371     -0.535      0.595    -205.957     118.968\n",
       "BuildingArea                           1819.2376    542.327      3.355      0.001     736.446    2902.029\n",
       "Propertycount                             6.8799      6.543      1.052      0.297      -6.183      19.943\n",
       "Type_t                                 -1.08e+05   9.07e+04     -1.191      0.238   -2.89e+05    7.31e+04\n",
       "Type_u                                 -4.24e+05   8.48e+04     -4.998      0.000   -5.93e+05   -2.55e+05\n",
       "Method_S                                9.02e+04   7.57e+04      1.192      0.238   -6.09e+04    2.41e+05\n",
       "Method_SP                              1.393e+05   1.04e+05      1.344      0.183   -6.76e+04    3.46e+05\n",
       "Method_VB                              5.957e+05   1.47e+05      4.043      0.000    3.02e+05     8.9e+05\n",
       "Regionname_Northern_Metropolitan      -2.764e+05   1.18e+05     -2.335      0.023   -5.13e+05      -4e+04\n",
       "Regionname_South_Eastern_Metropolitan  9.365e+04    1.2e+05      0.779      0.439   -1.46e+05    3.34e+05\n",
       "Regionname_Southern_Metropolitan       5.724e+05   1.17e+05      4.907      0.000    3.39e+05    8.05e+05\n",
       "Regionname_Western_Metropolitan       -3.268e+05   1.04e+05     -3.129      0.003   -5.35e+05   -1.18e+05\n",
       "==============================================================================\n",
       "Omnibus:                        0.196   Durbin-Watson:                   1.727\n",
       "Prob(Omnibus):                  0.907   Jarque-Bera (JB):                0.134\n",
       "Skew:                           0.095   Prob(JB):                        0.935\n",
       "Kurtosis:                       2.944   Cond. No.                     9.13e+04\n",
       "==============================================================================\n",
       "\n",
       "Warnings:\n",
       "[1] Standard Errors assume that the covariance matrix of the errors is correctly specified.\n",
       "[2] The condition number is large, 9.13e+04. This might indicate that there are\n",
       "strong multicollinearity or other numerical problems.\n",
       "\"\"\""
      ]
     },
     "execution_count": 55,
     "metadata": {},
     "output_type": "execute_result"
    }
   ],
   "source": [
    "results.summary()"
   ]
  },
  {
   "cell_type": "code",
   "execution_count": 56,
   "metadata": {
    "ExecuteTime": {
     "end_time": "2020-03-27T20:20:20.012121Z",
     "start_time": "2020-03-27T20:20:20.005243Z"
    }
   },
   "outputs": [
    {
     "data": {
      "text/plain": [
       "const                               3.725794e-08\n",
       "Distance                            1.399009e-08\n",
       "BuildingArea                        1.321115e-03\n",
       "Type_u                              4.517875e-06\n",
       "Method_VB                           1.402679e-04\n",
       "Regionname_Northern_Metropolitan    2.261061e-02\n",
       "Regionname_Southern_Metropolitan    6.365828e-06\n",
       "Regionname_Western_Metropolitan     2.614497e-03\n",
       "dtype: float64"
      ]
     },
     "execution_count": 56,
     "metadata": {},
     "output_type": "execute_result"
    }
   ],
   "source": [
    "#Let's see the significant and not significant variables\n",
    "results.pvalues[results.pvalues<0.05]"
   ]
  },
  {
   "cell_type": "code",
   "execution_count": 57,
   "metadata": {
    "ExecuteTime": {
     "end_time": "2020-03-27T20:20:20.599630Z",
     "start_time": "2020-03-27T20:20:20.591629Z"
    }
   },
   "outputs": [
    {
     "data": {
      "text/plain": [
       "Rooms                                    0.555367\n",
       "Car                                      0.179472\n",
       "Landsize                                 0.594775\n",
       "Propertycount                            0.296860\n",
       "Type_t                                   0.238029\n",
       "Method_S                                 0.237568\n",
       "Method_SP                                0.183465\n",
       "Regionname_South_Eastern_Metropolitan    0.438514\n",
       "dtype: float64"
      ]
     },
     "execution_count": 57,
     "metadata": {},
     "output_type": "execute_result"
    }
   ],
   "source": [
    "#not significant ones\n",
    "results.pvalues[results.pvalues>0.05]"
   ]
  },
  {
   "cell_type": "code",
   "execution_count": 58,
   "metadata": {
    "ExecuteTime": {
     "end_time": "2020-03-27T20:20:21.214982Z",
     "start_time": "2020-03-27T20:20:21.211041Z"
    }
   },
   "outputs": [],
   "source": [
    "#The R-squared and R-squared adjusted of the first model including all the variables, are the following, in respective order:\n",
    "#0.863 and 0.831\n",
    "#Let's see how the model performs on the test set (external validity) and then check its internal validity."
   ]
  },
  {
   "cell_type": "code",
   "execution_count": 59,
   "metadata": {
    "ExecuteTime": {
     "end_time": "2020-03-27T20:20:21.684723Z",
     "start_time": "2020-03-27T20:20:21.670078Z"
    }
   },
   "outputs": [],
   "source": [
    "#predicting for train and test data\n",
    "Y1_linear=results.predict(sm.add_constant(X1))\n",
    "Y0_linear=results.predict(X0)"
   ]
  },
  {
   "cell_type": "code",
   "execution_count": 60,
   "metadata": {
    "ExecuteTime": {
     "end_time": "2020-03-27T20:20:22.258899Z",
     "start_time": "2020-03-27T20:20:22.250885Z"
    }
   },
   "outputs": [
    {
     "name": "stdout",
     "output_type": "stream",
     "text": [
      "R-squared Train: 0.8626070936982513\n",
      "R-squared Test: 0.4982891114219048\n"
     ]
    }
   ],
   "source": [
    "#let's see r-squared for train and test sets for the initial model\n",
    "print(\"R-squared Train:\",r2_score(Y0,Y0_linear))\n",
    "print(\"R-squared Test:\",r2_score(Y1,Y1_linear))"
   ]
  },
  {
   "cell_type": "raw",
   "metadata": {},
   "source": [
    "We can see a huge overfitting problem here: 86.3 on train set vs 49 on test set.\n",
    "As Landsize has the highest p-value, we will remove it and see the results again"
   ]
  },
  {
   "cell_type": "code",
   "execution_count": 61,
   "metadata": {
    "ExecuteTime": {
     "end_time": "2020-03-27T20:20:23.526420Z",
     "start_time": "2020-03-27T20:20:23.520439Z"
    }
   },
   "outputs": [],
   "source": [
    "#the constant (\"const\") is already in the model, so we don't add it manually\n",
    "Y0_second=Y0\n",
    "X0_second=X0.drop(\"Landsize\", axis=1)"
   ]
  },
  {
   "cell_type": "code",
   "execution_count": 62,
   "metadata": {
    "ExecuteTime": {
     "end_time": "2020-03-27T20:20:23.980077Z",
     "start_time": "2020-03-27T20:20:23.973099Z"
    }
   },
   "outputs": [],
   "source": [
    "#running and building using one line of code\n",
    "results_1= sm.OLS(Y0_second,X0_second).fit()"
   ]
  },
  {
   "cell_type": "code",
   "execution_count": 63,
   "metadata": {
    "ExecuteTime": {
     "end_time": "2020-03-27T20:20:24.865023Z",
     "start_time": "2020-03-27T20:20:24.836646Z"
    }
   },
   "outputs": [
    {
     "data": {
      "text/html": [
       "<table class=\"simpletable\">\n",
       "<caption>OLS Regression Results</caption>\n",
       "<tr>\n",
       "  <th>Dep. Variable:</th>          <td>Price</td>      <th>  R-squared:         </th> <td>   0.862</td>\n",
       "</tr>\n",
       "<tr>\n",
       "  <th>Model:</th>                   <td>OLS</td>       <th>  Adj. R-squared:    </th> <td>   0.833</td>\n",
       "</tr>\n",
       "<tr>\n",
       "  <th>Method:</th>             <td>Least Squares</td>  <th>  F-statistic:       </th> <td>   29.90</td>\n",
       "</tr>\n",
       "<tr>\n",
       "  <th>Date:</th>             <td>Sat, 28 Mar 2020</td> <th>  Prob (F-statistic):</th> <td>2.29e-23</td>\n",
       "</tr>\n",
       "<tr>\n",
       "  <th>Time:</th>                 <td>00:20:24</td>     <th>  Log-Likelihood:    </th> <td> -1110.4</td>\n",
       "</tr>\n",
       "<tr>\n",
       "  <th>No. Observations:</th>      <td>    82</td>      <th>  AIC:               </th> <td>   2251.</td>\n",
       "</tr>\n",
       "<tr>\n",
       "  <th>Df Residuals:</th>          <td>    67</td>      <th>  BIC:               </th> <td>   2287.</td>\n",
       "</tr>\n",
       "<tr>\n",
       "  <th>Df Model:</th>              <td>    14</td>      <th>                     </th>     <td> </td>   \n",
       "</tr>\n",
       "<tr>\n",
       "  <th>Covariance Type:</th>      <td>nonrobust</td>    <th>                     </th>     <td> </td>   \n",
       "</tr>\n",
       "</table>\n",
       "<table class=\"simpletable\">\n",
       "<tr>\n",
       "                    <td></td>                       <th>coef</th>     <th>std err</th>      <th>t</th>      <th>P>|t|</th>  <th>[0.025</th>    <th>0.975]</th>  \n",
       "</tr>\n",
       "<tr>\n",
       "  <th>const</th>                                 <td> 1.027e+06</td> <td> 1.64e+05</td> <td>    6.278</td> <td> 0.000</td> <td>    7e+05</td> <td> 1.35e+06</td>\n",
       "</tr>\n",
       "<tr>\n",
       "  <th>Rooms</th>                                 <td> 2.316e+04</td> <td> 4.62e+04</td> <td>    0.502</td> <td> 0.617</td> <td> -6.9e+04</td> <td> 1.15e+05</td>\n",
       "</tr>\n",
       "<tr>\n",
       "  <th>Distance</th>                              <td>-3.385e+04</td> <td> 4965.118</td> <td>   -6.817</td> <td> 0.000</td> <td>-4.38e+04</td> <td>-2.39e+04</td>\n",
       "</tr>\n",
       "<tr>\n",
       "  <th>Car</th>                                   <td> 3.855e+04</td> <td> 2.89e+04</td> <td>    1.332</td> <td> 0.187</td> <td>-1.92e+04</td> <td> 9.63e+04</td>\n",
       "</tr>\n",
       "<tr>\n",
       "  <th>BuildingArea</th>                          <td> 1808.5484</td> <td>  539.062</td> <td>    3.355</td> <td> 0.001</td> <td>  732.576</td> <td> 2884.520</td>\n",
       "</tr>\n",
       "<tr>\n",
       "  <th>Propertycount</th>                         <td>    6.7309</td> <td>    6.502</td> <td>    1.035</td> <td> 0.304</td> <td>   -6.247</td> <td>   19.709</td>\n",
       "</tr>\n",
       "<tr>\n",
       "  <th>Type_t</th>                                <td>-9.729e+04</td> <td>  8.8e+04</td> <td>   -1.106</td> <td> 0.273</td> <td>-2.73e+05</td> <td> 7.83e+04</td>\n",
       "</tr>\n",
       "<tr>\n",
       "  <th>Type_u</th>                                <td>-4.312e+05</td> <td> 8.33e+04</td> <td>   -5.175</td> <td> 0.000</td> <td>-5.97e+05</td> <td>-2.65e+05</td>\n",
       "</tr>\n",
       "<tr>\n",
       "  <th>Method_S</th>                              <td> 9.511e+04</td> <td> 7.47e+04</td> <td>    1.273</td> <td> 0.207</td> <td> -5.4e+04</td> <td> 2.44e+05</td>\n",
       "</tr>\n",
       "<tr>\n",
       "  <th>Method_SP</th>                             <td> 1.478e+05</td> <td> 1.02e+05</td> <td>    1.450</td> <td> 0.152</td> <td>-5.56e+04</td> <td> 3.51e+05</td>\n",
       "</tr>\n",
       "<tr>\n",
       "  <th>Method_VB</th>                             <td>   6.1e+05</td> <td> 1.44e+05</td> <td>    4.234</td> <td> 0.000</td> <td> 3.22e+05</td> <td> 8.98e+05</td>\n",
       "</tr>\n",
       "<tr>\n",
       "  <th>Regionname_Northern_Metropolitan</th>      <td>-2.746e+05</td> <td> 1.18e+05</td> <td>   -2.333</td> <td> 0.023</td> <td> -5.1e+05</td> <td>-3.96e+04</td>\n",
       "</tr>\n",
       "<tr>\n",
       "  <th>Regionname_South_Eastern_Metropolitan</th> <td> 9.917e+04</td> <td> 1.19e+05</td> <td>    0.833</td> <td> 0.408</td> <td>-1.38e+05</td> <td> 3.37e+05</td>\n",
       "</tr>\n",
       "<tr>\n",
       "  <th>Regionname_Southern_Metropolitan</th>      <td> 5.694e+05</td> <td> 1.16e+05</td> <td>    4.913</td> <td> 0.000</td> <td> 3.38e+05</td> <td> 8.01e+05</td>\n",
       "</tr>\n",
       "<tr>\n",
       "  <th>Regionname_Western_Metropolitan</th>       <td>-3.303e+05</td> <td> 1.04e+05</td> <td>   -3.185</td> <td> 0.002</td> <td>-5.37e+05</td> <td>-1.23e+05</td>\n",
       "</tr>\n",
       "</table>\n",
       "<table class=\"simpletable\">\n",
       "<tr>\n",
       "  <th>Omnibus:</th>       <td> 0.250</td> <th>  Durbin-Watson:     </th> <td>   1.721</td>\n",
       "</tr>\n",
       "<tr>\n",
       "  <th>Prob(Omnibus):</th> <td> 0.883</td> <th>  Jarque-Bera (JB):  </th> <td>   0.161</td>\n",
       "</tr>\n",
       "<tr>\n",
       "  <th>Skew:</th>          <td> 0.107</td> <th>  Prob(JB):          </th> <td>   0.923</td>\n",
       "</tr>\n",
       "<tr>\n",
       "  <th>Kurtosis:</th>      <td> 2.960</td> <th>  Cond. No.          </th> <td>9.12e+04</td>\n",
       "</tr>\n",
       "</table><br/><br/>Warnings:<br/>[1] Standard Errors assume that the covariance matrix of the errors is correctly specified.<br/>[2] The condition number is large, 9.12e+04. This might indicate that there are<br/>strong multicollinearity or other numerical problems."
      ],
      "text/plain": [
       "<class 'statsmodels.iolib.summary.Summary'>\n",
       "\"\"\"\n",
       "                            OLS Regression Results                            \n",
       "==============================================================================\n",
       "Dep. Variable:                  Price   R-squared:                       0.862\n",
       "Model:                            OLS   Adj. R-squared:                  0.833\n",
       "Method:                 Least Squares   F-statistic:                     29.90\n",
       "Date:                Sat, 28 Mar 2020   Prob (F-statistic):           2.29e-23\n",
       "Time:                        00:20:24   Log-Likelihood:                -1110.4\n",
       "No. Observations:                  82   AIC:                             2251.\n",
       "Df Residuals:                      67   BIC:                             2287.\n",
       "Df Model:                          14                                         \n",
       "Covariance Type:            nonrobust                                         \n",
       "=========================================================================================================\n",
       "                                            coef    std err          t      P>|t|      [0.025      0.975]\n",
       "---------------------------------------------------------------------------------------------------------\n",
       "const                                  1.027e+06   1.64e+05      6.278      0.000       7e+05    1.35e+06\n",
       "Rooms                                  2.316e+04   4.62e+04      0.502      0.617    -6.9e+04    1.15e+05\n",
       "Distance                              -3.385e+04   4965.118     -6.817      0.000   -4.38e+04   -2.39e+04\n",
       "Car                                    3.855e+04   2.89e+04      1.332      0.187   -1.92e+04    9.63e+04\n",
       "BuildingArea                           1808.5484    539.062      3.355      0.001     732.576    2884.520\n",
       "Propertycount                             6.7309      6.502      1.035      0.304      -6.247      19.709\n",
       "Type_t                                -9.729e+04    8.8e+04     -1.106      0.273   -2.73e+05    7.83e+04\n",
       "Type_u                                -4.312e+05   8.33e+04     -5.175      0.000   -5.97e+05   -2.65e+05\n",
       "Method_S                               9.511e+04   7.47e+04      1.273      0.207    -5.4e+04    2.44e+05\n",
       "Method_SP                              1.478e+05   1.02e+05      1.450      0.152   -5.56e+04    3.51e+05\n",
       "Method_VB                                6.1e+05   1.44e+05      4.234      0.000    3.22e+05    8.98e+05\n",
       "Regionname_Northern_Metropolitan      -2.746e+05   1.18e+05     -2.333      0.023    -5.1e+05   -3.96e+04\n",
       "Regionname_South_Eastern_Metropolitan  9.917e+04   1.19e+05      0.833      0.408   -1.38e+05    3.37e+05\n",
       "Regionname_Southern_Metropolitan       5.694e+05   1.16e+05      4.913      0.000    3.38e+05    8.01e+05\n",
       "Regionname_Western_Metropolitan       -3.303e+05   1.04e+05     -3.185      0.002   -5.37e+05   -1.23e+05\n",
       "==============================================================================\n",
       "Omnibus:                        0.250   Durbin-Watson:                   1.721\n",
       "Prob(Omnibus):                  0.883   Jarque-Bera (JB):                0.161\n",
       "Skew:                           0.107   Prob(JB):                        0.923\n",
       "Kurtosis:                       2.960   Cond. No.                     9.12e+04\n",
       "==============================================================================\n",
       "\n",
       "Warnings:\n",
       "[1] Standard Errors assume that the covariance matrix of the errors is correctly specified.\n",
       "[2] The condition number is large, 9.12e+04. This might indicate that there are\n",
       "strong multicollinearity or other numerical problems.\n",
       "\"\"\""
      ]
     },
     "execution_count": 63,
     "metadata": {},
     "output_type": "execute_result"
    }
   ],
   "source": [
    "results_1.summary()"
   ]
  },
  {
   "cell_type": "code",
   "execution_count": 64,
   "metadata": {
    "ExecuteTime": {
     "end_time": "2020-03-27T20:20:25.427823Z",
     "start_time": "2020-03-27T20:20:25.421840Z"
    }
   },
   "outputs": [
    {
     "data": {
      "text/plain": [
       "['Rooms',\n",
       " 'Distance',\n",
       " 'Car',\n",
       " 'Landsize',\n",
       " 'BuildingArea',\n",
       " 'Propertycount',\n",
       " 'Type_t',\n",
       " 'Type_u',\n",
       " 'Method_S',\n",
       " 'Method_SP',\n",
       " 'Method_VB',\n",
       " 'Regionname_Northern_Metropolitan',\n",
       " 'Regionname_South_Eastern_Metropolitan',\n",
       " 'Regionname_Southern_Metropolitan',\n",
       " 'Regionname_Western_Metropolitan']"
      ]
     },
     "execution_count": 64,
     "metadata": {},
     "output_type": "execute_result"
    }
   ],
   "source": [
    "#X1 still has \"Landsize\" feature and lacks \"const\" variable added by add_constant, \n",
    "#so we will have to drop Landsize in order to make predictions\n",
    "X1.columns.tolist()"
   ]
  },
  {
   "cell_type": "code",
   "execution_count": 65,
   "metadata": {
    "ExecuteTime": {
     "end_time": "2020-03-27T20:20:25.990210Z",
     "start_time": "2020-03-27T20:20:25.971282Z"
    }
   },
   "outputs": [
    {
     "name": "stderr",
     "output_type": "stream",
     "text": [
      "C:\\Users\\Srbuhi\\Anaconda3\\lib\\site-packages\\numpy\\core\\fromnumeric.py:2542: FutureWarning: Method .ptp is deprecated and will be removed in a future version. Use numpy.ptp instead.\n",
      "  return ptp(axis=axis, out=out, **kwargs)\n"
     ]
    }
   ],
   "source": [
    "#Lets see the model's predictions for train and test sets. We drop Landsize from the test data for this model.\n",
    "Y0_linear_2=results_1.predict(X0_second)\n",
    "Y1_linear_2=results_1.predict(sm.add_constant(X1.drop(\"Landsize\", axis=1)))"
   ]
  },
  {
   "cell_type": "code",
   "execution_count": 66,
   "metadata": {
    "ExecuteTime": {
     "end_time": "2020-03-27T20:20:26.462158Z",
     "start_time": "2020-03-27T20:20:26.453182Z"
    }
   },
   "outputs": [
    {
     "name": "stdout",
     "output_type": "stream",
     "text": [
      "R-squared Train: 0.8620123154854359\n",
      "R-squared Test: 0.496984450679298\n"
     ]
    }
   ],
   "source": [
    "#let's see r-squared for train and test sets for the model without Landsize\n",
    "print(\"R-squared Train:\",r2_score(Y0,Y0_linear_2))\n",
    "print(\"R-squared Test:\",r2_score(Y1,Y1_linear_2))\n"
   ]
  },
  {
   "cell_type": "markdown",
   "metadata": {},
   "source": [
    "We can see that the second model has marginally worse R-squared for the test set. In case of backward selection,\n",
    "one should continue removing the not significant variables based on their p-value size.\n",
    "This process can be continued till some desired output of R-squared and R-squared adjusted is reached"
   ]
  },
  {
   "cell_type": "code",
   "execution_count": 67,
   "metadata": {
    "ExecuteTime": {
     "end_time": "2020-03-27T20:20:28.176814Z",
     "start_time": "2020-03-27T20:20:27.913474Z"
    }
   },
   "outputs": [
    {
     "data": {
      "image/png": "[encoded data removed]",
      "text/plain": [
       "<Figure size 432x288 with 1 Axes>"
      ]
     },
     "metadata": {
      "needs_background": "light"
     },
     "output_type": "display_data"
    }
   ],
   "source": [
    "data.Landsize.hist()\n",
    "plt.title(\"Distribution of Landsize\")\n",
    "plt.show()"
   ]
  },
  {
   "cell_type": "code",
   "execution_count": 68,
   "metadata": {
    "ExecuteTime": {
     "end_time": "2020-03-27T20:20:28.777401Z",
     "start_time": "2020-03-27T20:20:28.565000Z"
    }
   },
   "outputs": [
    {
     "data": {
      "image/png": "[encoded data removed]",
      "text/plain": [
       "<Figure size 432x288 with 1 Axes>"
      ]
     },
     "metadata": {
      "needs_background": "light"
     },
     "output_type": "display_data"
    }
   ],
   "source": [
    "np.sqrt(data.Landsize).hist()\n",
    "plt.title(\"Distribution of sqrt of Landsize\")\n",
    "plt.show()"
   ]
  },
  {
   "cell_type": "markdown",
   "metadata": {},
   "source": [
    "<h3>Model transformation</h3>\n",
    "Let's also try to transform our model using log-linear one (as price is right skewed) and add an interaction term. \n",
    "E.g. we have Rooms and Building area correlation coefficient as 0.74, so instead of including both of them, will include the interaction term as <b><u> Building Area/Rooms, to get average area per room</b></u>\n",
    "Also, let's take a square root of Landsize, to have less skewed data (see the histograms above).\n"
   ]
  },
  {
   "cell_type": "code",
   "execution_count": 69,
   "metadata": {
    "ExecuteTime": {
     "end_time": "2020-03-27T20:20:40.945353Z",
     "start_time": "2020-03-27T20:20:40.940722Z"
    }
   },
   "outputs": [],
   "source": [
    "#let's save the data for transformed model in a new dataframe and only then modify it for a model\n",
    "data_tr=data"
   ]
  },
  {
   "cell_type": "code",
   "execution_count": 70,
   "metadata": {
    "ExecuteTime": {
     "end_time": "2020-03-27T20:20:41.337064Z",
     "start_time": "2020-03-27T20:20:41.328088Z"
    }
   },
   "outputs": [
    {
     "name": "stdout",
     "output_type": "stream",
     "text": [
      "<class 'pandas.core.frame.DataFrame'>\n",
      "RangeIndex: 110 entries, 0 to 109\n",
      "Data columns (total 16 columns):\n",
      "Rooms                                    110 non-null int64\n",
      "Price                                    110 non-null int64\n",
      "Distance                                 110 non-null float64\n",
      "Car                                      110 non-null int64\n",
      "Landsize                                 110 non-null int64\n",
      "BuildingArea                             110 non-null float64\n",
      "Propertycount                            110 non-null int64\n",
      "Type_t                                   110 non-null uint8\n",
      "Type_u                                   110 non-null uint8\n",
      "Method_S                                 110 non-null uint8\n",
      "Method_SP                                110 non-null uint8\n",
      "Method_VB                                110 non-null uint8\n",
      "Regionname_Northern_Metropolitan         110 non-null uint8\n",
      "Regionname_South_Eastern_Metropolitan    110 non-null uint8\n",
      "Regionname_Southern_Metropolitan         110 non-null uint8\n",
      "Regionname_Western_Metropolitan          110 non-null uint8\n",
      "dtypes: float64(2), int64(5), uint8(9)\n",
      "memory usage: 7.1 KB\n"
     ]
    }
   ],
   "source": [
    "data_tr.info()"
   ]
  },
  {
   "cell_type": "code",
   "execution_count": 71,
   "metadata": {
    "ExecuteTime": {
     "end_time": "2020-03-27T20:20:41.813875Z",
     "start_time": "2020-03-27T20:20:41.807890Z"
    }
   },
   "outputs": [],
   "source": [
    "data_tr[\"Price\"]=np.log(data[\"Price\"])\n"
   ]
  },
  {
   "cell_type": "code",
   "execution_count": 72,
   "metadata": {
    "ExecuteTime": {
     "end_time": "2020-03-27T20:20:42.419538Z",
     "start_time": "2020-03-27T20:20:42.415252Z"
    }
   },
   "outputs": [],
   "source": [
    "data_tr[\"Landsize\"]=np.sqrt(data[\"Landsize\"])"
   ]
  },
  {
   "cell_type": "code",
   "execution_count": 73,
   "metadata": {
    "ExecuteTime": {
     "end_time": "2020-03-27T20:20:42.905380Z",
     "start_time": "2020-03-27T20:20:42.899395Z"
    }
   },
   "outputs": [],
   "source": [
    "data_tr[\"Rooms_Build\"]=data_tr[\"BuildingArea\"]/data_tr[\"Rooms\"]"
   ]
  },
  {
   "cell_type": "code",
   "execution_count": 74,
   "metadata": {
    "ExecuteTime": {
     "end_time": "2020-03-27T20:20:43.349553Z",
     "start_time": "2020-03-27T20:20:43.342769Z"
    },
    "scrolled": true
   },
   "outputs": [],
   "source": [
    "data_tr=data_tr.drop([\"Rooms\", \"BuildingArea\"],axis=1)"
   ]
  },
  {
   "cell_type": "code",
   "execution_count": 75,
   "metadata": {
    "ExecuteTime": {
     "end_time": "2020-03-27T20:20:44.395725Z",
     "start_time": "2020-03-27T20:20:44.386785Z"
    }
   },
   "outputs": [
    {
     "name": "stdout",
     "output_type": "stream",
     "text": [
      "<class 'pandas.core.frame.DataFrame'>\n",
      "RangeIndex: 110 entries, 0 to 109\n",
      "Data columns (total 15 columns):\n",
      "Price                                    110 non-null float64\n",
      "Distance                                 110 non-null float64\n",
      "Car                                      110 non-null int64\n",
      "Landsize                                 110 non-null float64\n",
      "Propertycount                            110 non-null int64\n",
      "Type_t                                   110 non-null uint8\n",
      "Type_u                                   110 non-null uint8\n",
      "Method_S                                 110 non-null uint8\n",
      "Method_SP                                110 non-null uint8\n",
      "Method_VB                                110 non-null uint8\n",
      "Regionname_Northern_Metropolitan         110 non-null uint8\n",
      "Regionname_South_Eastern_Metropolitan    110 non-null uint8\n",
      "Regionname_Southern_Metropolitan         110 non-null uint8\n",
      "Regionname_Western_Metropolitan          110 non-null uint8\n",
      "Rooms_Build                              110 non-null float64\n",
      "dtypes: float64(4), int64(2), uint8(9)\n",
      "memory usage: 6.2 KB\n"
     ]
    }
   ],
   "source": [
    "data_tr.info()"
   ]
  },
  {
   "cell_type": "code",
   "execution_count": 76,
   "metadata": {
    "ExecuteTime": {
     "end_time": "2020-03-27T20:20:44.897357Z",
     "start_time": "2020-03-27T20:20:44.884310Z"
    }
   },
   "outputs": [
    {
     "name": "stderr",
     "output_type": "stream",
     "text": [
      "C:\\Users\\Srbuhi\\Anaconda3\\lib\\site-packages\\numpy\\core\\fromnumeric.py:2542: FutureWarning: Method .ptp is deprecated and will be removed in a future version. Use numpy.ptp instead.\n",
      "  return ptp(axis=axis, out=out, **kwargs)\n"
     ]
    }
   ],
   "source": [
    "#NOTE: here we add constant before splitting the data into train and test sets\n",
    "#therefore when making predictions for test set we will not have to use sm.add_constant() method for \n",
    "#X1_tr (testing set)\n",
    "Y_tr=data_tr[\"Price\"]\n",
    "X_tr=data_tr.drop(\"Price\", axis=1)\n",
    "X_tr=sm.add_constant(X_tr)"
   ]
  },
  {
   "cell_type": "code",
   "execution_count": 77,
   "metadata": {
    "ExecuteTime": {
     "end_time": "2020-03-27T20:20:45.767211Z",
     "start_time": "2020-03-27T20:20:45.757079Z"
    }
   },
   "outputs": [],
   "source": [
    "X0_tr,X1_tr,Y0_tr,Y1_tr=train_test_split(X_tr,Y_tr, test_size=0.25, random_state=42)"
   ]
  },
  {
   "cell_type": "code",
   "execution_count": 78,
   "metadata": {
    "ExecuteTime": {
     "end_time": "2020-03-27T20:20:48.410630Z",
     "start_time": "2020-03-27T20:20:48.403652Z"
    }
   },
   "outputs": [],
   "source": [
    "results_tr=sm.OLS(Y0_tr, X0_tr).fit()"
   ]
  },
  {
   "cell_type": "code",
   "execution_count": 79,
   "metadata": {
    "ExecuteTime": {
     "end_time": "2020-03-27T20:20:48.865560Z",
     "start_time": "2020-03-27T20:20:48.836641Z"
    }
   },
   "outputs": [
    {
     "data": {
      "text/html": [
       "<table class=\"simpletable\">\n",
       "<caption>OLS Regression Results</caption>\n",
       "<tr>\n",
       "  <th>Dep. Variable:</th>          <td>Price</td>      <th>  R-squared:         </th> <td>   0.789</td>\n",
       "</tr>\n",
       "<tr>\n",
       "  <th>Model:</th>                   <td>OLS</td>       <th>  Adj. R-squared:    </th> <td>   0.745</td>\n",
       "</tr>\n",
       "<tr>\n",
       "  <th>Method:</th>             <td>Least Squares</td>  <th>  F-statistic:       </th> <td>   17.92</td>\n",
       "</tr>\n",
       "<tr>\n",
       "  <th>Date:</th>             <td>Sat, 28 Mar 2020</td> <th>  Prob (F-statistic):</th> <td>1.99e-17</td>\n",
       "</tr>\n",
       "<tr>\n",
       "  <th>Time:</th>                 <td>00:20:48</td>     <th>  Log-Likelihood:    </th> <td>  14.939</td>\n",
       "</tr>\n",
       "<tr>\n",
       "  <th>No. Observations:</th>      <td>    82</td>      <th>  AIC:               </th> <td>  0.1216</td>\n",
       "</tr>\n",
       "<tr>\n",
       "  <th>Df Residuals:</th>          <td>    67</td>      <th>  BIC:               </th> <td>   36.22</td>\n",
       "</tr>\n",
       "<tr>\n",
       "  <th>Df Model:</th>              <td>    14</td>      <th>                     </th>     <td> </td>   \n",
       "</tr>\n",
       "<tr>\n",
       "  <th>Covariance Type:</th>      <td>nonrobust</td>    <th>                     </th>     <td> </td>   \n",
       "</tr>\n",
       "</table>\n",
       "<table class=\"simpletable\">\n",
       "<tr>\n",
       "                    <td></td>                       <th>coef</th>     <th>std err</th>      <th>t</th>      <th>P>|t|</th>  <th>[0.025</th>    <th>0.975]</th>  \n",
       "</tr>\n",
       "<tr>\n",
       "  <th>const</th>                                 <td>   14.0555</td> <td>    0.180</td> <td>   78.112</td> <td> 0.000</td> <td>   13.696</td> <td>   14.415</td>\n",
       "</tr>\n",
       "<tr>\n",
       "  <th>Distance</th>                              <td>   -0.0364</td> <td>    0.006</td> <td>   -6.543</td> <td> 0.000</td> <td>   -0.048</td> <td>   -0.025</td>\n",
       "</tr>\n",
       "<tr>\n",
       "  <th>Car</th>                                   <td>    0.0415</td> <td>    0.031</td> <td>    1.355</td> <td> 0.180</td> <td>   -0.020</td> <td>    0.103</td>\n",
       "</tr>\n",
       "<tr>\n",
       "  <th>Landsize</th>                              <td>   -0.0001</td> <td>    0.004</td> <td>   -0.039</td> <td> 0.969</td> <td>   -0.007</td> <td>    0.007</td>\n",
       "</tr>\n",
       "<tr>\n",
       "  <th>Propertycount</th>                         <td> 5.517e-06</td> <td> 7.12e-06</td> <td>    0.774</td> <td> 0.441</td> <td> -8.7e-06</td> <td> 1.97e-05</td>\n",
       "</tr>\n",
       "<tr>\n",
       "  <th>Type_t</th>                                <td>   -0.1443</td> <td>    0.100</td> <td>   -1.448</td> <td> 0.152</td> <td>   -0.343</td> <td>    0.055</td>\n",
       "</tr>\n",
       "<tr>\n",
       "  <th>Type_u</th>                                <td>   -0.7184</td> <td>    0.085</td> <td>   -8.497</td> <td> 0.000</td> <td>   -0.887</td> <td>   -0.550</td>\n",
       "</tr>\n",
       "<tr>\n",
       "  <th>Method_S</th>                              <td>    0.0708</td> <td>    0.082</td> <td>    0.863</td> <td> 0.391</td> <td>   -0.093</td> <td>    0.235</td>\n",
       "</tr>\n",
       "<tr>\n",
       "  <th>Method_SP</th>                             <td>    0.1667</td> <td>    0.111</td> <td>    1.498</td> <td> 0.139</td> <td>   -0.055</td> <td>    0.389</td>\n",
       "</tr>\n",
       "<tr>\n",
       "  <th>Method_VB</th>                             <td>    0.4136</td> <td>    0.160</td> <td>    2.591</td> <td> 0.012</td> <td>    0.095</td> <td>    0.732</td>\n",
       "</tr>\n",
       "<tr>\n",
       "  <th>Regionname_Northern_Metropolitan</th>      <td>   -0.3480</td> <td>    0.131</td> <td>   -2.649</td> <td> 0.010</td> <td>   -0.610</td> <td>   -0.086</td>\n",
       "</tr>\n",
       "<tr>\n",
       "  <th>Regionname_South_Eastern_Metropolitan</th> <td>    0.1271</td> <td>    0.132</td> <td>    0.961</td> <td> 0.340</td> <td>   -0.137</td> <td>    0.391</td>\n",
       "</tr>\n",
       "<tr>\n",
       "  <th>Regionname_Southern_Metropolitan</th>      <td>    0.3761</td> <td>    0.127</td> <td>    2.965</td> <td> 0.004</td> <td>    0.123</td> <td>    0.629</td>\n",
       "</tr>\n",
       "<tr>\n",
       "  <th>Regionname_Western_Metropolitan</th>       <td>   -0.4107</td> <td>    0.115</td> <td>   -3.559</td> <td> 0.001</td> <td>   -0.641</td> <td>   -0.180</td>\n",
       "</tr>\n",
       "<tr>\n",
       "  <th>Rooms_Build</th>                           <td>    0.0045</td> <td>    0.002</td> <td>    2.691</td> <td> 0.009</td> <td>    0.001</td> <td>    0.008</td>\n",
       "</tr>\n",
       "</table>\n",
       "<table class=\"simpletable\">\n",
       "<tr>\n",
       "  <th>Omnibus:</th>       <td> 0.346</td> <th>  Durbin-Watson:     </th> <td>   1.783</td>\n",
       "</tr>\n",
       "<tr>\n",
       "  <th>Prob(Omnibus):</th> <td> 0.841</td> <th>  Jarque-Bera (JB):  </th> <td>   0.242</td>\n",
       "</tr>\n",
       "<tr>\n",
       "  <th>Skew:</th>          <td>-0.132</td> <th>  Prob(JB):          </th> <td>   0.886</td>\n",
       "</tr>\n",
       "<tr>\n",
       "  <th>Kurtosis:</th>      <td> 2.963</td> <th>  Cond. No.          </th> <td>9.52e+04</td>\n",
       "</tr>\n",
       "</table><br/><br/>Warnings:<br/>[1] Standard Errors assume that the covariance matrix of the errors is correctly specified.<br/>[2] The condition number is large, 9.52e+04. This might indicate that there are<br/>strong multicollinearity or other numerical problems."
      ],
      "text/plain": [
       "<class 'statsmodels.iolib.summary.Summary'>\n",
       "\"\"\"\n",
       "                            OLS Regression Results                            \n",
       "==============================================================================\n",
       "Dep. Variable:                  Price   R-squared:                       0.789\n",
       "Model:                            OLS   Adj. R-squared:                  0.745\n",
       "Method:                 Least Squares   F-statistic:                     17.92\n",
       "Date:                Sat, 28 Mar 2020   Prob (F-statistic):           1.99e-17\n",
       "Time:                        00:20:48   Log-Likelihood:                 14.939\n",
       "No. Observations:                  82   AIC:                            0.1216\n",
       "Df Residuals:                      67   BIC:                             36.22\n",
       "Df Model:                          14                                         \n",
       "Covariance Type:            nonrobust                                         \n",
       "=========================================================================================================\n",
       "                                            coef    std err          t      P>|t|      [0.025      0.975]\n",
       "---------------------------------------------------------------------------------------------------------\n",
       "const                                    14.0555      0.180     78.112      0.000      13.696      14.415\n",
       "Distance                                 -0.0364      0.006     -6.543      0.000      -0.048      -0.025\n",
       "Car                                       0.0415      0.031      1.355      0.180      -0.020       0.103\n",
       "Landsize                                 -0.0001      0.004     -0.039      0.969      -0.007       0.007\n",
       "Propertycount                          5.517e-06   7.12e-06      0.774      0.441    -8.7e-06    1.97e-05\n",
       "Type_t                                   -0.1443      0.100     -1.448      0.152      -0.343       0.055\n",
       "Type_u                                   -0.7184      0.085     -8.497      0.000      -0.887      -0.550\n",
       "Method_S                                  0.0708      0.082      0.863      0.391      -0.093       0.235\n",
       "Method_SP                                 0.1667      0.111      1.498      0.139      -0.055       0.389\n",
       "Method_VB                                 0.4136      0.160      2.591      0.012       0.095       0.732\n",
       "Regionname_Northern_Metropolitan         -0.3480      0.131     -2.649      0.010      -0.610      -0.086\n",
       "Regionname_South_Eastern_Metropolitan     0.1271      0.132      0.961      0.340      -0.137       0.391\n",
       "Regionname_Southern_Metropolitan          0.3761      0.127      2.965      0.004       0.123       0.629\n",
       "Regionname_Western_Metropolitan          -0.4107      0.115     -3.559      0.001      -0.641      -0.180\n",
       "Rooms_Build                               0.0045      0.002      2.691      0.009       0.001       0.008\n",
       "==============================================================================\n",
       "Omnibus:                        0.346   Durbin-Watson:                   1.783\n",
       "Prob(Omnibus):                  0.841   Jarque-Bera (JB):                0.242\n",
       "Skew:                          -0.132   Prob(JB):                        0.886\n",
       "Kurtosis:                       2.963   Cond. No.                     9.52e+04\n",
       "==============================================================================\n",
       "\n",
       "Warnings:\n",
       "[1] Standard Errors assume that the covariance matrix of the errors is correctly specified.\n",
       "[2] The condition number is large, 9.52e+04. This might indicate that there are\n",
       "strong multicollinearity or other numerical problems.\n",
       "\"\"\""
      ]
     },
     "execution_count": 79,
     "metadata": {},
     "output_type": "execute_result"
    }
   ],
   "source": [
    "results_tr.summary()"
   ]
  },
  {
   "cell_type": "raw",
   "metadata": {},
   "source": [
    "Lets see whether the performance on test set is better than in case of previous two models.\n",
    "It's interesting whether the transformations have improved the overfitting."
   ]
  },
  {
   "cell_type": "code",
   "execution_count": 80,
   "metadata": {
    "ExecuteTime": {
     "end_time": "2020-03-27T20:20:49.765701Z",
     "start_time": "2020-03-27T20:20:49.761713Z"
    }
   },
   "outputs": [],
   "source": [
    "#further steps can be based also on backward stepwise elimination or using AIC/BIC forward/backward selection methods."
   ]
  },
  {
   "cell_type": "code",
   "execution_count": 81,
   "metadata": {
    "ExecuteTime": {
     "end_time": "2020-03-27T20:20:50.160673Z",
     "start_time": "2020-03-27T20:20:50.155652Z"
    }
   },
   "outputs": [],
   "source": [
    "#NOTE: we have added constant before splitting the data into train and test sets\n",
    "#therefore when making predictions for test set we don't have to use sm.add_constant() method for \n",
    "#X1_tr (testing set)\n",
    "Y0_linear_tr=results_tr.predict(X0_tr)\n",
    "Y1_linear_tr=results_tr.predict(X1_tr)"
   ]
  },
  {
   "cell_type": "code",
   "execution_count": 82,
   "metadata": {
    "ExecuteTime": {
     "end_time": "2020-03-27T20:20:50.754465Z",
     "start_time": "2020-03-27T20:20:50.744897Z"
    }
   },
   "outputs": [
    {
     "name": "stdout",
     "output_type": "stream",
     "text": [
      "R-squared Train: 0.7892681973199949\n",
      "R-squared Test: 0.5356190086574553\n"
     ]
    }
   ],
   "source": [
    "#let's see r-squared for train and test sets for the transformed model\n",
    "print(\"R-squared Train:\",r2_score(Y0_tr,Y0_linear_tr))\n",
    "print(\"R-squared Test:\",r2_score(Y1_tr,Y1_linear_tr))"
   ]
  },
  {
   "cell_type": "markdown",
   "metadata": {},
   "source": [
    "So from external validity point, the transformed model is performs better. Thus we will check assumptions for that model."
   ]
  },
  {
   "cell_type": "markdown",
   "metadata": {},
   "source": [
    "<h1>5.Checking LR assumptions using residual analysis (visual evidence)</h1><a name=\"resid\"></a>"
   ]
  },
  {
   "cell_type": "markdown",
   "metadata": {},
   "source": [
    "To check the assumptions using residual analysis we will plot the fitted values vs error terms (residuals). It should not exhibit any patterns (should be randomly distributed) to meet the Linearity, Normality and Independence assumptions."
   ]
  },
  {
   "cell_type": "code",
   "execution_count": 83,
   "metadata": {
    "ExecuteTime": {
     "end_time": "2020-03-27T20:20:53.167240Z",
     "start_time": "2020-03-27T20:20:53.162253Z"
    }
   },
   "outputs": [],
   "source": [
    "#residuals of the model\n",
    "residuals=results_tr.resid\n",
    "predicted_values=results_tr.predict()"
   ]
  },
  {
   "cell_type": "code",
   "execution_count": 84,
   "metadata": {
    "ExecuteTime": {
     "end_time": "2020-03-27T20:20:55.882811Z",
     "start_time": "2020-03-27T20:20:55.627862Z"
    }
   },
   "outputs": [
    {
     "data": {
      "image/png": "[encoded data removed]",
      "text/plain": [
       "<Figure size 720x360 with 1 Axes>"
      ]
     },
     "metadata": {
      "needs_background": "light"
     },
     "output_type": "display_data"
    }
   ],
   "source": [
    "#lets plot predicted values vs residuals\n",
    "plt.figure(figsize=(10,5))\n",
    "plt.scatter(predicted_values,residuals)\n",
    "plt.axhline(y=0, c=\"red\")\n",
    "plt.title(\"Residuals vs Predicted values\")\n",
    "plt.ylabel(\"Residuals\")\n",
    "plt.xlabel(\"Predicted values\")\n",
    "plt.show()"
   ]
  },
  {
   "cell_type": "markdown",
   "metadata": {},
   "source": [
    "The residuals vs fitted values plot pattern is random and we cannot see an increasing/decreasing variance."
   ]
  },
  {
   "cell_type": "code",
   "execution_count": 85,
   "metadata": {
    "ExecuteTime": {
     "end_time": "2020-03-27T20:20:57.005094Z",
     "start_time": "2020-03-27T20:20:56.761534Z"
    },
    "scrolled": true
   },
   "outputs": [
    {
     "data": {
      "image/png": "[encoded data removed]",
      "text/plain": [
       "<Figure size 432x288 with 1 Axes>"
      ]
     },
     "metadata": {
      "needs_background": "light"
     },
     "output_type": "display_data"
    }
   ],
   "source": [
    "#Normality\n",
    "#visual presentation- histogram\n",
    "sns.distplot(residuals)\n",
    "plt.show()"
   ]
  },
  {
   "cell_type": "code",
   "execution_count": 86,
   "metadata": {
    "ExecuteTime": {
     "end_time": "2020-03-27T20:20:57.482142Z",
     "start_time": "2020-03-27T20:20:57.305433Z"
    }
   },
   "outputs": [
    {
     "data": {
      "image/png": "[encoded data removed]",
      "text/plain": [
       "<Figure size 432x288 with 1 Axes>"
      ]
     },
     "metadata": {
      "needs_background": "light"
     },
     "output_type": "display_data"
    }
   ],
   "source": [
    "#QQ plot\n",
    "qqplot(residuals,fit=True, line='45')\n",
    "plt.show()"
   ]
  },
  {
   "cell_type": "markdown",
   "metadata": {},
   "source": [
    "The residuals distribution plot shows that the distribution is approximately bell-shaped, so based on the plot only we can say that the normality assumption is held.\n",
    "QQ-plot shows that the there are several outliers, but overall the dots are along the line."
   ]
  },
  {
   "cell_type": "markdown",
   "metadata": {},
   "source": [
    "<h2>Diagnostic tests for LINE assumptions </h2>"
   ]
  },
  {
   "cell_type": "code",
   "execution_count": 87,
   "metadata": {
    "ExecuteTime": {
     "end_time": "2020-03-27T20:21:00.656829Z",
     "start_time": "2020-03-27T20:21:00.648763Z"
    }
   },
   "outputs": [
    {
     "name": "stdout",
     "output_type": "stream",
     "text": [
      "[('fstat', 2.1518455928136087), ('p-value', 0.02080441637466503)]\n"
     ]
    }
   ],
   "source": [
    "#Linearity \n",
    "#The null hypothesis assumes that the regression is correctly modelled as linear\n",
    "rnames=[\"fstat\", \"p-value\"]\n",
    "rainbow=linear_rainbow(results_tr)\n",
    "print(list(zip(rnames, rainbow)))"
   ]
  },
  {
   "cell_type": "markdown",
   "metadata": {},
   "source": [
    "Linearity assumption is held at 1% significance level (p-value=0.02>0.01)."
   ]
  },
  {
   "cell_type": "code",
   "execution_count": 88,
   "metadata": {
    "ExecuteTime": {
     "end_time": "2020-03-27T20:21:01.540265Z",
     "start_time": "2020-03-27T20:21:01.531816Z"
    }
   },
   "outputs": [
    {
     "name": "stdout",
     "output_type": "stream",
     "text": [
      "[('Lagrange multiplier statistic', 21.270209713550344), ('p-value', 0.09490584531072994), ('f-value', 1.676164959670365), ('f p-value', 0.0819028537573446)]\n"
     ]
    }
   ],
   "source": [
    "#Breusch-Pagan test for homoscedasticity\n",
    "#The null hypothesis assumes homoskedasticity\n",
    "bnames = ['Lagrange multiplier statistic', 'p-value',\n",
    "        'f-value', 'f p-value']\n",
    "breush = het_breuschpagan(residuals, results_tr.model.exog)\n",
    "print(list(zip(bnames, breush)))\n"
   ]
  },
  {
   "cell_type": "code",
   "execution_count": 89,
   "metadata": {
    "ExecuteTime": {
     "end_time": "2020-03-27T20:21:01.932056Z",
     "start_time": "2020-03-27T20:21:01.928067Z"
    }
   },
   "outputs": [],
   "source": [
    "#We fail to reject the null hypothesis based on 5% significance level, thus homoscedasticity assumption is hold."
   ]
  },
  {
   "cell_type": "code",
   "execution_count": 90,
   "metadata": {
    "ExecuteTime": {
     "end_time": "2020-03-27T20:21:02.299838Z",
     "start_time": "2020-03-27T20:21:02.292861Z"
    }
   },
   "outputs": [
    {
     "name": "stdout",
     "output_type": "stream",
     "text": [
      "[('The test statistic', 0.9916415810585022), ('p-value', 0.8799199461936951)]\n"
     ]
    }
   ],
   "source": [
    "#Shapiro-Wilk normality test. \n",
    "#The null-hypothesis of this test is that the data was drawn from a normal distribution\n",
    "snames=['The test statistic', 'p-value']\n",
    "shapiro=shapiro(residuals)\n",
    "print(list(zip(snames, shapiro)))"
   ]
  },
  {
   "cell_type": "markdown",
   "metadata": {},
   "source": [
    "Test confirms that the data was drawn from a normal distribution."
   ]
  },
  {
   "cell_type": "code",
   "execution_count": 91,
   "metadata": {
    "ExecuteTime": {
     "end_time": "2020-03-27T20:21:03.293054Z",
     "start_time": "2020-03-27T20:21:03.289098Z"
    }
   },
   "outputs": [],
   "source": [
    "#defining colnames \n",
    "var=data_tr.columns.tolist()"
   ]
  },
  {
   "cell_type": "code",
   "execution_count": 92,
   "metadata": {
    "ExecuteTime": {
     "end_time": "2020-03-27T20:21:03.822398Z",
     "start_time": "2020-03-27T20:21:03.777518Z"
    }
   },
   "outputs": [
    {
     "name": "stdout",
     "output_type": "stream",
     "text": [
      "[53.88619961432709, 7.421161583281069, 5.784262028961987, 7.428441064537424, 6.387626126393305, 1.2962349427429187, 1.4804546028816288, 7.37554989987968, 2.6259169057065113, 1.609304203637475, 7.808463982971884, 2.0900153582700924, 3.7732557747752584, 8.903659580554615, 9.820450336463788]\n"
     ]
    }
   ],
   "source": [
    "#Multicollinearity\n",
    "#calculating vif using variance_inflation_factor() function from statsmodel\n",
    "vif = [variance_inflation_factor(data_tr[var].values, i) for i in range(0,len(var))]\n",
    "print(vif)"
   ]
  },
  {
   "cell_type": "code",
   "execution_count": 93,
   "metadata": {
    "ExecuteTime": {
     "end_time": "2020-03-27T20:21:11.159990Z",
     "start_time": "2020-03-27T20:21:11.152385Z"
    }
   },
   "outputs": [
    {
     "name": "stdout",
     "output_type": "stream",
     "text": [
      "Price : 53.88619961432709\n",
      "Distance : 7.421161583281069\n",
      "Car : 5.784262028961987\n",
      "Landsize : 7.428441064537424\n",
      "Propertycount : 6.387626126393305\n",
      "Type_t : 1.2962349427429187\n",
      "Type_u : 1.4804546028816288\n",
      "Method_S : 7.37554989987968\n",
      "Method_SP : 2.6259169057065113\n",
      "Method_VB : 1.609304203637475\n",
      "Regionname_Northern_Metropolitan : 7.808463982971884\n",
      "Regionname_South_Eastern_Metropolitan : 2.0900153582700924\n",
      "Regionname_Southern_Metropolitan : 3.7732557747752584\n",
      "Regionname_Western_Metropolitan : 8.903659580554615\n",
      "Rooms_Build : 9.820450336463788\n"
     ]
    }
   ],
   "source": [
    "#printing vif values together with variable names\n",
    "for i in range(0,len(var)):\n",
    "    print(var[i],\":\",vif[i])"
   ]
  },
  {
   "cell_type": "markdown",
   "metadata": {},
   "source": [
    "As we see for some variables we have vary big VIF values, so the there are highly correlated variables in the model. We should drop the correlated variables one by one."
   ]
  },
  {
   "cell_type": "markdown",
   "metadata": {},
   "source": [
    "<b>!Note: To choose the best model, we also should compare the model diagnostics for the models we outlined and select the one \n",
    "    having better test results and/or passing diagnostic tests</b>. In case of failing LINE assumptions, the analysis/transformation\n",
    "    should be continued to have BLUE."
   ]
  }
 ],
 "metadata": {
  "kernelspec": {
   "display_name": "Python 3",
   "language": "python",
   "name": "python3"
  },
  "language_info": {
   "codemirror_mode": {
    "name": "ipython",
    "version": 3
   },
   "file_extension": ".py",
   "mimetype": "text/x-python",
   "name": "python",
   "nbconvert_exporter": "python",
   "pygments_lexer": "ipython3",
   "version": "3.7.4"
  },
  "toc": {
   "base_numbering": 1,
   "nav_menu": {
    "height": "170px",
    "width": "285px"
   },
   "number_sections": true,
   "sideBar": true,
   "skip_h1_title": false,
   "title_cell": "Table of Contents",
   "title_sidebar": "Contents",
   "toc_cell": false,
   "toc_position": {},
   "toc_section_display": true,
   "toc_window_display": false
  }
 },
 "nbformat": 4,
 "nbformat_minor": 2
}
