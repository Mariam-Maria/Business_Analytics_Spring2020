{
 "cells": [
  {
   "cell_type": "markdown",
   "metadata": {},
   "source": [
    "# Session 6- Logistic Regression on Employee turnover(churn) data"
   ]
  },
  {
   "cell_type": "markdown",
   "metadata": {},
   "source": [
    "<p>The following notebook provides an example code of analyzing <b>Employee turnover(churn)</b> using logistic regression. The dependent variable is <b>Churn (1-yes, 0-no)</b>. \n",
    "    \n",
    "<br>The general sequence of steps for the analysis the following:\n",
    "1. [Descriptive analysis](#pandas)\n",
    "2. [Modelling (creating dummies, train test split)](#select)\n",
    "3. [Logistic regression construction and interpretation (log odds, marginal effects)](#stats)\n",
    "4. [Model evaluation(confusion matrix,classification report)](#stats1) "
   ]
  },
  {
   "cell_type": "markdown",
   "metadata": {},
   "source": [
    " <h2>1.Descriptive analysis</h2> <a name=\"pandas\"></a>"
   ]
  },
  {
   "cell_type": "markdown",
   "metadata": {},
   "source": [
    "The initial data consists of 14999 observations of 10 variables.There are 3008 duplicates in data, however we will Not drop them, as there is no employee ID or some uniquely defined variable using which we can identify each employee. In short, there might be just people having similar postitions, salary etc.  Data overview hints that there are continuous (satisfaction_level,last_evaluation,average_montly_hours etc.), binary(promotion_last_5years,work_accident) and categorical (department, salary) features.\n",
    "Employee churn is not evenly balanced between 0s and 1s. As the countplot and value counts show, only about 23% of employees are leaving and ~76% are staying.So we can use this info as a naive assumption for newcomers to decide whether they'll leave or stay. In other words, if the resulting score is more than the noted value, then our model will be not bad, otherwise-a bad one.\n",
    "\n",
    "We also outlined several questions answers of can be observed visually.\n",
    "\n",
    "    -Is there a relationship between satisfaction level, salary and churn?\n",
    "    -What is the salary rate distribution by departments?\n",
    "    -Which departments have the highest/lowest churn rate?\n",
    "The visualization shows that employee churn is connected with the satisfaction level. The boxplot shows that employees who left are on average less satisfied with the job, regardless of the salary.\n",
    "The highest paid department is management and it is also the one having highest staying rate. The lowest salary rate is at support department. HR is the department having hisghest churn rate.\n",
    "\n",
    "In case of logistic regression when constructing a heatmap we are mostly interested in identifying correlations between independent variables, as the target is binary and correlation between Y and X-s is not represenative in this case.\n",
    "The highest correlation is between average montly hours and number of projects (corr. coefficient is 0.42), which is logical as the more projects there are, the more time you spend for their implementation. Next comes number of projects and last evaluation, with 0.35 correlation \n",
    "coefficient.\n"
   ]
  },
  {
   "cell_type": "code",
   "execution_count": 1,
   "metadata": {
    "ExecuteTime": {
     "end_time": "2020-04-04T17:32:02.860375Z",
     "start_time": "2020-04-04T17:31:58.754997Z"
    }
   },
   "outputs": [],
   "source": [
    "import numpy as np\n",
    "import pandas as pd\n",
    "import matplotlib.pyplot as plt\n",
    "import seaborn as sns\n",
    "from statsmodels.discrete.discrete_model import Logit\n",
    "from sklearn.metrics import roc_auc_score, roc_curve\n",
    "from sklearn.model_selection import train_test_split\n",
    "import statsmodels.tools as sm\n",
    "from sklearn.metrics import accuracy_score,classification_report,confusion_matrix, recall_score, roc_auc_score"
   ]
  },
  {
   "cell_type": "code",
   "execution_count": 2,
   "metadata": {
    "ExecuteTime": {
     "end_time": "2020-04-04T17:32:03.787849Z",
     "start_time": "2020-04-04T17:32:02.863366Z"
    }
   },
   "outputs": [],
   "source": [
    "#importing the data and making a dataframe\n",
    "url=\"https://raw.githubusercontent.com/srbuhimirzoyan/Business_Analytics_Spring2020/master/Session_6_turnover_data.csv\"\n",
    "data=pd.read_csv(url)"
   ]
  },
  {
   "cell_type": "code",
   "execution_count": 3,
   "metadata": {
    "ExecuteTime": {
     "end_time": "2020-04-04T17:32:03.808795Z",
     "start_time": "2020-04-04T17:32:03.791498Z"
    }
   },
   "outputs": [
    {
     "name": "stdout",
     "output_type": "stream",
     "text": [
      "<class 'pandas.core.frame.DataFrame'>\n",
      "RangeIndex: 14999 entries, 0 to 14998\n",
      "Data columns (total 10 columns):\n",
      "satisfaction_level       14999 non-null float64\n",
      "last_evaluation          14999 non-null float64\n",
      "number_project           14999 non-null int64\n",
      "average_montly_hours     14999 non-null int64\n",
      "time_spend_company       14999 non-null int64\n",
      "work_accident            14999 non-null int64\n",
      "churn                    14999 non-null int64\n",
      "promotion_last_5years    14999 non-null int64\n",
      "department               14999 non-null object\n",
      "salary                   14999 non-null object\n",
      "dtypes: float64(2), int64(6), object(2)\n",
      "memory usage: 1.1+ MB\n"
     ]
    }
   ],
   "source": [
    "#data overview\n",
    "data.info()"
   ]
  },
  {
   "cell_type": "code",
   "execution_count": 4,
   "metadata": {
    "ExecuteTime": {
     "end_time": "2020-04-04T17:32:03.836964Z",
     "start_time": "2020-04-04T17:32:03.811786Z"
    }
   },
   "outputs": [
    {
     "data": {
      "text/html": [
       "<div>\n",
       "<style scoped>\n",
       "    .dataframe tbody tr th:only-of-type {\n",
       "        vertical-align: middle;\n",
       "    }\n",
       "\n",
       "    .dataframe tbody tr th {\n",
       "        vertical-align: top;\n",
       "    }\n",
       "\n",
       "    .dataframe thead th {\n",
       "        text-align: right;\n",
       "    }\n",
       "</style>\n",
       "<table border=\"1\" class=\"dataframe\">\n",
       "  <thead>\n",
       "    <tr style=\"text-align: right;\">\n",
       "      <th></th>\n",
       "      <th>satisfaction_level</th>\n",
       "      <th>last_evaluation</th>\n",
       "      <th>number_project</th>\n",
       "      <th>average_montly_hours</th>\n",
       "      <th>time_spend_company</th>\n",
       "      <th>work_accident</th>\n",
       "      <th>churn</th>\n",
       "      <th>promotion_last_5years</th>\n",
       "      <th>department</th>\n",
       "      <th>salary</th>\n",
       "    </tr>\n",
       "  </thead>\n",
       "  <tbody>\n",
       "    <tr>\n",
       "      <td>0</td>\n",
       "      <td>0.38</td>\n",
       "      <td>0.53</td>\n",
       "      <td>2</td>\n",
       "      <td>157</td>\n",
       "      <td>3</td>\n",
       "      <td>0</td>\n",
       "      <td>1</td>\n",
       "      <td>0</td>\n",
       "      <td>sales</td>\n",
       "      <td>low</td>\n",
       "    </tr>\n",
       "    <tr>\n",
       "      <td>1</td>\n",
       "      <td>0.80</td>\n",
       "      <td>0.86</td>\n",
       "      <td>5</td>\n",
       "      <td>262</td>\n",
       "      <td>6</td>\n",
       "      <td>0</td>\n",
       "      <td>1</td>\n",
       "      <td>0</td>\n",
       "      <td>sales</td>\n",
       "      <td>medium</td>\n",
       "    </tr>\n",
       "    <tr>\n",
       "      <td>2</td>\n",
       "      <td>0.11</td>\n",
       "      <td>0.88</td>\n",
       "      <td>7</td>\n",
       "      <td>272</td>\n",
       "      <td>4</td>\n",
       "      <td>0</td>\n",
       "      <td>1</td>\n",
       "      <td>0</td>\n",
       "      <td>sales</td>\n",
       "      <td>medium</td>\n",
       "    </tr>\n",
       "    <tr>\n",
       "      <td>3</td>\n",
       "      <td>0.72</td>\n",
       "      <td>0.87</td>\n",
       "      <td>5</td>\n",
       "      <td>223</td>\n",
       "      <td>5</td>\n",
       "      <td>0</td>\n",
       "      <td>1</td>\n",
       "      <td>0</td>\n",
       "      <td>sales</td>\n",
       "      <td>low</td>\n",
       "    </tr>\n",
       "    <tr>\n",
       "      <td>4</td>\n",
       "      <td>0.37</td>\n",
       "      <td>0.52</td>\n",
       "      <td>2</td>\n",
       "      <td>159</td>\n",
       "      <td>3</td>\n",
       "      <td>0</td>\n",
       "      <td>1</td>\n",
       "      <td>0</td>\n",
       "      <td>sales</td>\n",
       "      <td>low</td>\n",
       "    </tr>\n",
       "  </tbody>\n",
       "</table>\n",
       "</div>"
      ],
      "text/plain": [
       "   satisfaction_level  last_evaluation  number_project  average_montly_hours  \\\n",
       "0                0.38             0.53               2                   157   \n",
       "1                0.80             0.86               5                   262   \n",
       "2                0.11             0.88               7                   272   \n",
       "3                0.72             0.87               5                   223   \n",
       "4                0.37             0.52               2                   159   \n",
       "\n",
       "   time_spend_company  work_accident  churn  promotion_last_5years department  \\\n",
       "0                   3              0      1                      0      sales   \n",
       "1                   6              0      1                      0      sales   \n",
       "2                   4              0      1                      0      sales   \n",
       "3                   5              0      1                      0      sales   \n",
       "4                   3              0      1                      0      sales   \n",
       "\n",
       "   salary  \n",
       "0     low  \n",
       "1  medium  \n",
       "2  medium  \n",
       "3     low  \n",
       "4     low  "
      ]
     },
     "execution_count": 4,
     "metadata": {},
     "output_type": "execute_result"
    }
   ],
   "source": [
    "#have a look at first rows of the dataframe\n",
    "data.head()"
   ]
  },
  {
   "cell_type": "code",
   "execution_count": 5,
   "metadata": {
    "ExecuteTime": {
     "end_time": "2020-04-04T17:32:03.896722Z",
     "start_time": "2020-04-04T17:32:03.839747Z"
    }
   },
   "outputs": [
    {
     "data": {
      "text/html": [
       "<div>\n",
       "<style scoped>\n",
       "    .dataframe tbody tr th:only-of-type {\n",
       "        vertical-align: middle;\n",
       "    }\n",
       "\n",
       "    .dataframe tbody tr th {\n",
       "        vertical-align: top;\n",
       "    }\n",
       "\n",
       "    .dataframe thead th {\n",
       "        text-align: right;\n",
       "    }\n",
       "</style>\n",
       "<table border=\"1\" class=\"dataframe\">\n",
       "  <thead>\n",
       "    <tr style=\"text-align: right;\">\n",
       "      <th></th>\n",
       "      <th>satisfaction_level</th>\n",
       "      <th>last_evaluation</th>\n",
       "      <th>number_project</th>\n",
       "      <th>average_montly_hours</th>\n",
       "      <th>time_spend_company</th>\n",
       "      <th>work_accident</th>\n",
       "      <th>churn</th>\n",
       "      <th>promotion_last_5years</th>\n",
       "    </tr>\n",
       "  </thead>\n",
       "  <tbody>\n",
       "    <tr>\n",
       "      <td>count</td>\n",
       "      <td>14999.000000</td>\n",
       "      <td>14999.000000</td>\n",
       "      <td>14999.000000</td>\n",
       "      <td>14999.000000</td>\n",
       "      <td>14999.000000</td>\n",
       "      <td>14999.000000</td>\n",
       "      <td>14999.000000</td>\n",
       "      <td>14999.000000</td>\n",
       "    </tr>\n",
       "    <tr>\n",
       "      <td>mean</td>\n",
       "      <td>0.612834</td>\n",
       "      <td>0.716102</td>\n",
       "      <td>3.803054</td>\n",
       "      <td>201.050337</td>\n",
       "      <td>3.498233</td>\n",
       "      <td>0.144610</td>\n",
       "      <td>0.238083</td>\n",
       "      <td>0.021268</td>\n",
       "    </tr>\n",
       "    <tr>\n",
       "      <td>std</td>\n",
       "      <td>0.248631</td>\n",
       "      <td>0.171169</td>\n",
       "      <td>1.232592</td>\n",
       "      <td>49.943099</td>\n",
       "      <td>1.460136</td>\n",
       "      <td>0.351719</td>\n",
       "      <td>0.425924</td>\n",
       "      <td>0.144281</td>\n",
       "    </tr>\n",
       "    <tr>\n",
       "      <td>min</td>\n",
       "      <td>0.090000</td>\n",
       "      <td>0.360000</td>\n",
       "      <td>2.000000</td>\n",
       "      <td>96.000000</td>\n",
       "      <td>2.000000</td>\n",
       "      <td>0.000000</td>\n",
       "      <td>0.000000</td>\n",
       "      <td>0.000000</td>\n",
       "    </tr>\n",
       "    <tr>\n",
       "      <td>25%</td>\n",
       "      <td>0.440000</td>\n",
       "      <td>0.560000</td>\n",
       "      <td>3.000000</td>\n",
       "      <td>156.000000</td>\n",
       "      <td>3.000000</td>\n",
       "      <td>0.000000</td>\n",
       "      <td>0.000000</td>\n",
       "      <td>0.000000</td>\n",
       "    </tr>\n",
       "    <tr>\n",
       "      <td>50%</td>\n",
       "      <td>0.640000</td>\n",
       "      <td>0.720000</td>\n",
       "      <td>4.000000</td>\n",
       "      <td>200.000000</td>\n",
       "      <td>3.000000</td>\n",
       "      <td>0.000000</td>\n",
       "      <td>0.000000</td>\n",
       "      <td>0.000000</td>\n",
       "    </tr>\n",
       "    <tr>\n",
       "      <td>75%</td>\n",
       "      <td>0.820000</td>\n",
       "      <td>0.870000</td>\n",
       "      <td>5.000000</td>\n",
       "      <td>245.000000</td>\n",
       "      <td>4.000000</td>\n",
       "      <td>0.000000</td>\n",
       "      <td>0.000000</td>\n",
       "      <td>0.000000</td>\n",
       "    </tr>\n",
       "    <tr>\n",
       "      <td>max</td>\n",
       "      <td>1.000000</td>\n",
       "      <td>1.000000</td>\n",
       "      <td>7.000000</td>\n",
       "      <td>310.000000</td>\n",
       "      <td>10.000000</td>\n",
       "      <td>1.000000</td>\n",
       "      <td>1.000000</td>\n",
       "      <td>1.000000</td>\n",
       "    </tr>\n",
       "  </tbody>\n",
       "</table>\n",
       "</div>"
      ],
      "text/plain": [
       "       satisfaction_level  last_evaluation  number_project  \\\n",
       "count        14999.000000     14999.000000    14999.000000   \n",
       "mean             0.612834         0.716102        3.803054   \n",
       "std              0.248631         0.171169        1.232592   \n",
       "min              0.090000         0.360000        2.000000   \n",
       "25%              0.440000         0.560000        3.000000   \n",
       "50%              0.640000         0.720000        4.000000   \n",
       "75%              0.820000         0.870000        5.000000   \n",
       "max              1.000000         1.000000        7.000000   \n",
       "\n",
       "       average_montly_hours  time_spend_company  work_accident         churn  \\\n",
       "count          14999.000000        14999.000000   14999.000000  14999.000000   \n",
       "mean             201.050337            3.498233       0.144610      0.238083   \n",
       "std               49.943099            1.460136       0.351719      0.425924   \n",
       "min               96.000000            2.000000       0.000000      0.000000   \n",
       "25%              156.000000            3.000000       0.000000      0.000000   \n",
       "50%              200.000000            3.000000       0.000000      0.000000   \n",
       "75%              245.000000            4.000000       0.000000      0.000000   \n",
       "max              310.000000           10.000000       1.000000      1.000000   \n",
       "\n",
       "       promotion_last_5years  \n",
       "count           14999.000000  \n",
       "mean                0.021268  \n",
       "std                 0.144281  \n",
       "min                 0.000000  \n",
       "25%                 0.000000  \n",
       "50%                 0.000000  \n",
       "75%                 0.000000  \n",
       "max                 1.000000  "
      ]
     },
     "execution_count": 5,
     "metadata": {},
     "output_type": "execute_result"
    }
   ],
   "source": [
    "data.describe()"
   ]
  },
  {
   "cell_type": "code",
   "execution_count": 6,
   "metadata": {
    "ExecuteTime": {
     "end_time": "2020-04-04T17:32:03.944465Z",
     "start_time": "2020-04-04T17:32:03.899585Z"
    }
   },
   "outputs": [
    {
     "name": "stdout",
     "output_type": "stream",
     "text": [
      "Duplicates: 3008\n",
      "Missing values: 0\n",
      "Single valued columns: Index([], dtype='object')\n"
     ]
    }
   ],
   "source": [
    "#checking number of duplicates, missing values and columns with a single value\n",
    "print(\"Duplicates:\", data.duplicated().sum())\n",
    "print(\"Missing values:\", data.isna().sum().sum())\n",
    "print(\"Single valued columns:\", data.columns[data.nunique()==1])"
   ]
  },
  {
   "cell_type": "code",
   "execution_count": 7,
   "metadata": {
    "ExecuteTime": {
     "end_time": "2020-04-04T17:32:04.159744Z",
     "start_time": "2020-04-04T17:32:03.955746Z"
    }
   },
   "outputs": [
    {
     "data": {
      "image/png": "[encoded data removed]",
      "text/plain": [
       "<Figure size 648x360 with 1 Axes>"
      ]
     },
     "metadata": {
      "needs_background": "light"
     },
     "output_type": "display_data"
    }
   ],
   "source": [
    "#let's visualise the distribution of churn\n",
    "plt.figure(figsize=(9,5))\n",
    "sns.countplot(data.churn)\n",
    "plt.title(\"Churn distribution\")\n",
    "plt.show()"
   ]
  },
  {
   "cell_type": "code",
   "execution_count": 8,
   "metadata": {
    "ExecuteTime": {
     "end_time": "2020-04-04T17:32:04.191963Z",
     "start_time": "2020-04-04T17:32:04.162042Z"
    }
   },
   "outputs": [
    {
     "data": {
      "text/plain": [
       "0    76.191746\n",
       "1    23.808254\n",
       "Name: churn percentage, dtype: float64"
      ]
     },
     "execution_count": 8,
     "metadata": {},
     "output_type": "execute_result"
    }
   ],
   "source": [
    "#lets count the benchmark for employee churn\n",
    "data.churn.value_counts(normalize=True).mul(100).rename(\"churn percentage\")"
   ]
  },
  {
   "cell_type": "code",
   "execution_count": 9,
   "metadata": {
    "ExecuteTime": {
     "end_time": "2020-04-04T17:32:04.619881Z",
     "start_time": "2020-04-04T17:32:04.195077Z"
    }
   },
   "outputs": [
    {
     "data": {
      "image/png": "[encoded data removed]",
      "text/plain": [
       "<Figure size 648x360 with 1 Axes>"
      ]
     },
     "metadata": {
      "needs_background": "light"
     },
     "output_type": "display_data"
    }
   ],
   "source": [
    "#Let's see the relationship of salary and satisfaction level\n",
    "plt.figure(figsize=(9,5))\n",
    "sns.boxplot(x=\"salary\", y=\"satisfaction_level\", data=data, showmeans=True, hue=\"churn\")\n",
    "plt.legend(title='Employee churn', loc='upper right')\n",
    "plt.xlabel(\"Salary\")\n",
    "plt.ylabel(\"Satisfaction level\")\n",
    "plt.title(\"Employee satisfaction by salary and churn\",fontdict={\"fontsize\":16})\n",
    "plt.show()\n"
   ]
  },
  {
   "cell_type": "code",
   "execution_count": 10,
   "metadata": {
    "ExecuteTime": {
     "end_time": "2020-04-04T17:32:04.647924Z",
     "start_time": "2020-04-04T17:32:04.623019Z"
    }
   },
   "outputs": [],
   "source": [
    "#creating churn rate and salary rate\n",
    "#data using groupby. parameter: \"normalize\"in value_counts() returns relative frequencies, \"mul\" multiplies by noted number\n",
    "#(in this case-100,to get %)\n",
    "churn_rate=data.groupby(\"department\")[\"churn\"].value_counts(normalize=True).rename(\"percentage\").mul(100).reset_index()\n",
    "salary_rate=data.groupby(\"department\")[\"salary\"].value_counts(normalize=True).rename(\"percentage\").mul(100).reset_index()"
   ]
  },
  {
   "cell_type": "code",
   "execution_count": 11,
   "metadata": {
    "ExecuteTime": {
     "end_time": "2020-04-04T17:32:05.271020Z",
     "start_time": "2020-04-04T17:32:04.650916Z"
    }
   },
   "outputs": [
    {
     "data": {
      "image/png": "[encoded data removed]",
      "text/plain": [
       "<Figure size 864x504 with 1 Axes>"
      ]
     },
     "metadata": {
      "needs_background": "light"
     },
     "output_type": "display_data"
    }
   ],
   "source": [
    "plt.figure(figsize=(12,7))\n",
    "sns.barplot(x=\"department\", y=\"percentage\", hue=\"salary\", data=salary_rate)\n",
    "plt.title(\"Salary rate by departments\")\n",
    "plt.show()"
   ]
  },
  {
   "cell_type": "code",
   "execution_count": 12,
   "metadata": {
    "ExecuteTime": {
     "end_time": "2020-04-04T17:32:05.705248Z",
     "start_time": "2020-04-04T17:32:05.273703Z"
    }
   },
   "outputs": [
    {
     "data": {
      "image/png": "[encoded data removed]",
      "text/plain": [
       "<Figure size 648x360 with 1 Axes>"
      ]
     },
     "metadata": {
      "needs_background": "light"
     },
     "output_type": "display_data"
    }
   ],
   "source": [
    "plt.figure(figsize=(9,5))\n",
    "sns.barplot(x=\"department\",y=\"percentage\", hue=\"churn\",data=churn_rate)\n",
    "plt.title(\"Employee churn rate by departments\")\n",
    "plt.show()"
   ]
  },
  {
   "cell_type": "code",
   "execution_count": 13,
   "metadata": {
    "ExecuteTime": {
     "end_time": "2020-04-04T17:32:06.730493Z",
     "start_time": "2020-04-04T17:32:05.707225Z"
    }
   },
   "outputs": [
    {
     "data": {
      "image/png": "[encoded data removed]",
      "text/plain": [
       "<Figure size 432x288 with 2 Axes>"
      ]
     },
     "metadata": {
      "needs_background": "light"
     },
     "output_type": "display_data"
    }
   ],
   "source": [
    "sns.heatmap(data.corr().abs().round(2),annot=True)\n",
    "plt.show()"
   ]
  },
  {
   "cell_type": "markdown",
   "metadata": {},
   "source": [
    "<h1> 2. Modelling (creating dummies, train test split)</h1> <a name=\"select\"> </a>"
   ]
  },
  {
   "cell_type": "markdown",
   "metadata": {},
   "source": [
    "We dummify the categorical variables, separate X and Y and split the data into train and test sets"
   ]
  },
  {
   "cell_type": "code",
   "execution_count": 14,
   "metadata": {
    "ExecuteTime": {
     "end_time": "2020-04-04T17:32:06.763518Z",
     "start_time": "2020-04-04T17:32:06.734884Z"
    }
   },
   "outputs": [],
   "source": [
    "#Let's create dummy variables \n",
    "data=pd.get_dummies(data,drop_first=True)"
   ]
  },
  {
   "cell_type": "code",
   "execution_count": 15,
   "metadata": {
    "ExecuteTime": {
     "end_time": "2020-04-04T17:32:06.777094Z",
     "start_time": "2020-04-04T17:32:06.766511Z"
    }
   },
   "outputs": [],
   "source": [
    "#separating X and Y\n",
    "Y=data[\"churn\"]\n",
    "X=data.drop(\"churn\",axis=1)"
   ]
  },
  {
   "cell_type": "code",
   "execution_count": 16,
   "metadata": {
    "ExecuteTime": {
     "end_time": "2020-04-04T17:32:06.818384Z",
     "start_time": "2020-04-04T17:32:06.781278Z"
    }
   },
   "outputs": [
    {
     "name": "stderr",
     "output_type": "stream",
     "text": [
      "C:\\Users\\Srbuhi\\Anaconda3\\lib\\site-packages\\numpy\\core\\fromnumeric.py:2542: FutureWarning: Method .ptp is deprecated and will be removed in a future version. Use numpy.ptp instead.\n",
      "  return ptp(axis=axis, out=out, **kwargs)\n"
     ]
    }
   ],
   "source": [
    "#as we are going to use not formula but X and Y data in the logit function, \n",
    "#so we need to add the intercept to data (X) manually\n",
    "X=sm.add_constant(X)"
   ]
  },
  {
   "cell_type": "code",
   "execution_count": 17,
   "metadata": {
    "ExecuteTime": {
     "end_time": "2020-04-04T17:32:06.836265Z",
     "start_time": "2020-04-04T17:32:06.821374Z"
    }
   },
   "outputs": [],
   "source": [
    "#let's split X and Y data into test and train datasets, test data is 25% of overall data\n",
    "#splitting the data into train and test sets\n",
    "X0, X1, Y0, Y1 = train_test_split(X, Y, test_size=0.25, random_state=42)"
   ]
  },
  {
   "cell_type": "markdown",
   "metadata": {},
   "source": [
    "<h1> 3. Logistic regression construction and interpretation (log odds, marginal effects)</h1> <a name=\"stats\"> </a>"
   ]
  },
  {
   "cell_type": "markdown",
   "metadata": {},
   "source": [
    "We will construct the model based on statsmodels.api library, meaning will fit the data on training set and evaluate both \n",
    "for training and testing sets."
   ]
  },
  {
   "cell_type": "code",
   "execution_count": 18,
   "metadata": {
    "ExecuteTime": {
     "end_time": "2020-04-04T17:32:06.891118Z",
     "start_time": "2020-04-04T17:32:06.839257Z"
    }
   },
   "outputs": [
    {
     "name": "stdout",
     "output_type": "stream",
     "text": [
      "Optimization terminated successfully.\n",
      "         Current function value: 0.426662\n",
      "         Iterations 7\n"
     ]
    }
   ],
   "source": [
    "#constructing the logit model\n",
    "model=Logit(Y0,X0)\n",
    "#fitting the model\n",
    "results=model.fit()"
   ]
  },
  {
   "cell_type": "code",
   "execution_count": 19,
   "metadata": {
    "ExecuteTime": {
     "end_time": "2020-04-04T17:32:06.977917Z",
     "start_time": "2020-04-04T17:32:06.895108Z"
    }
   },
   "outputs": [
    {
     "data": {
      "text/html": [
       "<table class=\"simpletable\">\n",
       "<caption>Logit Regression Results</caption>\n",
       "<tr>\n",
       "  <th>Dep. Variable:</th>         <td>churn</td>      <th>  No. Observations:  </th>  <td> 11249</td> \n",
       "</tr>\n",
       "<tr>\n",
       "  <th>Model:</th>                 <td>Logit</td>      <th>  Df Residuals:      </th>  <td> 11230</td> \n",
       "</tr>\n",
       "<tr>\n",
       "  <th>Method:</th>                 <td>MLE</td>       <th>  Df Model:          </th>  <td>    18</td> \n",
       "</tr>\n",
       "<tr>\n",
       "  <th>Date:</th>            <td>Sat, 04 Apr 2020</td> <th>  Pseudo R-squ.:     </th>  <td>0.2220</td> \n",
       "</tr>\n",
       "<tr>\n",
       "  <th>Time:</th>                <td>21:32:06</td>     <th>  Log-Likelihood:    </th> <td> -4799.5</td>\n",
       "</tr>\n",
       "<tr>\n",
       "  <th>converged:</th>             <td>True</td>       <th>  LL-Null:           </th> <td> -6169.2</td>\n",
       "</tr>\n",
       "<tr>\n",
       "  <th>Covariance Type:</th>     <td>nonrobust</td>    <th>  LLR p-value:       </th>  <td> 0.000</td> \n",
       "</tr>\n",
       "</table>\n",
       "<table class=\"simpletable\">\n",
       "<tr>\n",
       "             <td></td>               <th>coef</th>     <th>std err</th>      <th>z</th>      <th>P>|z|</th>  <th>[0.025</th>    <th>0.975]</th>  \n",
       "</tr>\n",
       "<tr>\n",
       "  <th>const</th>                  <td>   -1.6772</td> <td>    0.220</td> <td>   -7.622</td> <td> 0.000</td> <td>   -2.108</td> <td>   -1.246</td>\n",
       "</tr>\n",
       "<tr>\n",
       "  <th>satisfaction_level</th>     <td>   -4.1914</td> <td>    0.114</td> <td>  -36.915</td> <td> 0.000</td> <td>   -4.414</td> <td>   -3.969</td>\n",
       "</tr>\n",
       "<tr>\n",
       "  <th>last_evaluation</th>        <td>    0.6789</td> <td>    0.172</td> <td>    3.936</td> <td> 0.000</td> <td>    0.341</td> <td>    1.017</td>\n",
       "</tr>\n",
       "<tr>\n",
       "  <th>number_project</th>         <td>   -0.3066</td> <td>    0.025</td> <td>  -12.480</td> <td> 0.000</td> <td>   -0.355</td> <td>   -0.258</td>\n",
       "</tr>\n",
       "<tr>\n",
       "  <th>average_montly_hours</th>   <td>    0.0047</td> <td>    0.001</td> <td>    7.820</td> <td> 0.000</td> <td>    0.004</td> <td>    0.006</td>\n",
       "</tr>\n",
       "<tr>\n",
       "  <th>time_spend_company</th>     <td>    0.2646</td> <td>    0.018</td> <td>   14.683</td> <td> 0.000</td> <td>    0.229</td> <td>    0.300</td>\n",
       "</tr>\n",
       "<tr>\n",
       "  <th>work_accident</th>          <td>   -1.5052</td> <td>    0.103</td> <td>  -14.657</td> <td> 0.000</td> <td>   -1.706</td> <td>   -1.304</td>\n",
       "</tr>\n",
       "<tr>\n",
       "  <th>promotion_last_5years</th>  <td>   -1.3486</td> <td>    0.290</td> <td>   -4.649</td> <td> 0.000</td> <td>   -1.917</td> <td>   -0.780</td>\n",
       "</tr>\n",
       "<tr>\n",
       "  <th>department_RandD</th>       <td>   -0.5731</td> <td>    0.161</td> <td>   -3.556</td> <td> 0.000</td> <td>   -0.889</td> <td>   -0.257</td>\n",
       "</tr>\n",
       "<tr>\n",
       "  <th>department_accounting</th>  <td>    0.1222</td> <td>    0.141</td> <td>    0.864</td> <td> 0.388</td> <td>   -0.155</td> <td>    0.400</td>\n",
       "</tr>\n",
       "<tr>\n",
       "  <th>department_hr</th>          <td>    0.4125</td> <td>    0.142</td> <td>    2.912</td> <td> 0.004</td> <td>    0.135</td> <td>    0.690</td>\n",
       "</tr>\n",
       "<tr>\n",
       "  <th>department_management</th>  <td>   -0.2649</td> <td>    0.172</td> <td>   -1.541</td> <td> 0.123</td> <td>   -0.602</td> <td>    0.072</td>\n",
       "</tr>\n",
       "<tr>\n",
       "  <th>department_marketing</th>   <td>    0.2000</td> <td>    0.141</td> <td>    1.414</td> <td> 0.157</td> <td>   -0.077</td> <td>    0.477</td>\n",
       "</tr>\n",
       "<tr>\n",
       "  <th>department_product_mng</th> <td>    0.0736</td> <td>    0.136</td> <td>    0.540</td> <td> 0.590</td> <td>   -0.194</td> <td>    0.341</td>\n",
       "</tr>\n",
       "<tr>\n",
       "  <th>department_sales</th>       <td>    0.1398</td> <td>    0.103</td> <td>    1.355</td> <td> 0.175</td> <td>   -0.062</td> <td>    0.342</td>\n",
       "</tr>\n",
       "<tr>\n",
       "  <th>department_support</th>     <td>    0.1817</td> <td>    0.113</td> <td>    1.610</td> <td> 0.107</td> <td>   -0.039</td> <td>    0.403</td>\n",
       "</tr>\n",
       "<tr>\n",
       "  <th>department_technical</th>   <td>    0.2437</td> <td>    0.109</td> <td>    2.239</td> <td> 0.025</td> <td>    0.030</td> <td>    0.457</td>\n",
       "</tr>\n",
       "<tr>\n",
       "  <th>salary_low</th>             <td>    1.9639</td> <td>    0.151</td> <td>   13.028</td> <td> 0.000</td> <td>    1.668</td> <td>    2.259</td>\n",
       "</tr>\n",
       "<tr>\n",
       "  <th>salary_medium</th>          <td>    1.4705</td> <td>    0.152</td> <td>    9.704</td> <td> 0.000</td> <td>    1.173</td> <td>    1.767</td>\n",
       "</tr>\n",
       "</table>"
      ],
      "text/plain": [
       "<class 'statsmodels.iolib.summary.Summary'>\n",
       "\"\"\"\n",
       "                           Logit Regression Results                           \n",
       "==============================================================================\n",
       "Dep. Variable:                  churn   No. Observations:                11249\n",
       "Model:                          Logit   Df Residuals:                    11230\n",
       "Method:                           MLE   Df Model:                           18\n",
       "Date:                Sat, 04 Apr 2020   Pseudo R-squ.:                  0.2220\n",
       "Time:                        21:32:06   Log-Likelihood:                -4799.5\n",
       "converged:                       True   LL-Null:                       -6169.2\n",
       "Covariance Type:            nonrobust   LLR p-value:                     0.000\n",
       "==========================================================================================\n",
       "                             coef    std err          z      P>|z|      [0.025      0.975]\n",
       "------------------------------------------------------------------------------------------\n",
       "const                     -1.6772      0.220     -7.622      0.000      -2.108      -1.246\n",
       "satisfaction_level        -4.1914      0.114    -36.915      0.000      -4.414      -3.969\n",
       "last_evaluation            0.6789      0.172      3.936      0.000       0.341       1.017\n",
       "number_project            -0.3066      0.025    -12.480      0.000      -0.355      -0.258\n",
       "average_montly_hours       0.0047      0.001      7.820      0.000       0.004       0.006\n",
       "time_spend_company         0.2646      0.018     14.683      0.000       0.229       0.300\n",
       "work_accident             -1.5052      0.103    -14.657      0.000      -1.706      -1.304\n",
       "promotion_last_5years     -1.3486      0.290     -4.649      0.000      -1.917      -0.780\n",
       "department_RandD          -0.5731      0.161     -3.556      0.000      -0.889      -0.257\n",
       "department_accounting      0.1222      0.141      0.864      0.388      -0.155       0.400\n",
       "department_hr              0.4125      0.142      2.912      0.004       0.135       0.690\n",
       "department_management     -0.2649      0.172     -1.541      0.123      -0.602       0.072\n",
       "department_marketing       0.2000      0.141      1.414      0.157      -0.077       0.477\n",
       "department_product_mng     0.0736      0.136      0.540      0.590      -0.194       0.341\n",
       "department_sales           0.1398      0.103      1.355      0.175      -0.062       0.342\n",
       "department_support         0.1817      0.113      1.610      0.107      -0.039       0.403\n",
       "department_technical       0.2437      0.109      2.239      0.025       0.030       0.457\n",
       "salary_low                 1.9639      0.151     13.028      0.000       1.668       2.259\n",
       "salary_medium              1.4705      0.152      9.704      0.000       1.173       1.767\n",
       "==========================================================================================\n",
       "\"\"\""
      ]
     },
     "execution_count": 19,
     "metadata": {},
     "output_type": "execute_result"
    }
   ],
   "source": [
    "results.summary()"
   ]
  },
  {
   "cell_type": "markdown",
   "metadata": {},
   "source": [
    "- <b> For a one-unit increase in satisfaction_level we expect on average a 4.1914 decrease in the log-odds of churn, holding all other independent variables constant.</b>\n",
    "- <b> For employees with low salaries, we expect on average a 1.9639 increase in the log-odds of the dependent variable churn compared to the employees with high salaries.</b>"
   ]
  },
  {
   "cell_type": "markdown",
   "metadata": {},
   "source": [
    "As we want to interpret probabilites, let's get marginal effects."
   ]
  },
  {
   "cell_type": "code",
   "execution_count": 20,
   "metadata": {
    "ExecuteTime": {
     "end_time": "2020-04-04T17:32:07.326867Z",
     "start_time": "2020-04-04T17:32:06.980911Z"
    }
   },
   "outputs": [
    {
     "data": {
      "text/html": [
       "<table class=\"simpletable\">\n",
       "<caption>Logit Marginal Effects</caption>\n",
       "<tr>\n",
       "  <th>Dep. Variable:</th>  <td>churn</td> \n",
       "</tr>\n",
       "<tr>\n",
       "  <th>Method:</th>         <td>dydx</td>  \n",
       "</tr>\n",
       "<tr>\n",
       "  <th>At:</th>            <td>overall</td>\n",
       "</tr>\n",
       "</table>\n",
       "<table class=\"simpletable\">\n",
       "<tr>\n",
       "             <th></th>               <th>dy/dx</th>    <th>std err</th>      <th>z</th>      <th>P>|z|</th>  <th>[0.025</th>    <th>0.975]</th>  \n",
       "</tr>\n",
       "<tr>\n",
       "  <th>satisfaction_level</th>     <td>   -0.5748</td> <td>    0.012</td> <td>  -48.250</td> <td> 0.000</td> <td>   -0.598</td> <td>   -0.551</td>\n",
       "</tr>\n",
       "<tr>\n",
       "  <th>last_evaluation</th>        <td>    0.0931</td> <td>    0.024</td> <td>    3.944</td> <td> 0.000</td> <td>    0.047</td> <td>    0.139</td>\n",
       "</tr>\n",
       "<tr>\n",
       "  <th>number_project</th>         <td>   -0.0420</td> <td>    0.003</td> <td>  -12.712</td> <td> 0.000</td> <td>   -0.049</td> <td>   -0.036</td>\n",
       "</tr>\n",
       "<tr>\n",
       "  <th>average_montly_hours</th>   <td>    0.0006</td> <td> 8.14e-05</td> <td>    7.892</td> <td> 0.000</td> <td>    0.000</td> <td>    0.001</td>\n",
       "</tr>\n",
       "<tr>\n",
       "  <th>time_spend_company</th>     <td>    0.0363</td> <td>    0.002</td> <td>   15.133</td> <td> 0.000</td> <td>    0.032</td> <td>    0.041</td>\n",
       "</tr>\n",
       "<tr>\n",
       "  <th>work_accident</th>          <td>   -0.2064</td> <td>    0.014</td> <td>  -15.043</td> <td> 0.000</td> <td>   -0.233</td> <td>   -0.180</td>\n",
       "</tr>\n",
       "<tr>\n",
       "  <th>promotion_last_5years</th>  <td>   -0.1849</td> <td>    0.040</td> <td>   -4.660</td> <td> 0.000</td> <td>   -0.263</td> <td>   -0.107</td>\n",
       "</tr>\n",
       "<tr>\n",
       "  <th>department_RandD</th>       <td>   -0.0786</td> <td>    0.022</td> <td>   -3.562</td> <td> 0.000</td> <td>   -0.122</td> <td>   -0.035</td>\n",
       "</tr>\n",
       "<tr>\n",
       "  <th>department_accounting</th>  <td>    0.0168</td> <td>    0.019</td> <td>    0.864</td> <td> 0.388</td> <td>   -0.021</td> <td>    0.055</td>\n",
       "</tr>\n",
       "<tr>\n",
       "  <th>department_hr</th>          <td>    0.0566</td> <td>    0.019</td> <td>    2.916</td> <td> 0.004</td> <td>    0.019</td> <td>    0.095</td>\n",
       "</tr>\n",
       "<tr>\n",
       "  <th>department_management</th>  <td>   -0.0363</td> <td>    0.024</td> <td>   -1.542</td> <td> 0.123</td> <td>   -0.083</td> <td>    0.010</td>\n",
       "</tr>\n",
       "<tr>\n",
       "  <th>department_marketing</th>   <td>    0.0274</td> <td>    0.019</td> <td>    1.414</td> <td> 0.157</td> <td>   -0.011</td> <td>    0.065</td>\n",
       "</tr>\n",
       "<tr>\n",
       "  <th>department_product_mng</th> <td>    0.0101</td> <td>    0.019</td> <td>    0.540</td> <td> 0.589</td> <td>   -0.027</td> <td>    0.047</td>\n",
       "</tr>\n",
       "<tr>\n",
       "  <th>department_sales</th>       <td>    0.0192</td> <td>    0.014</td> <td>    1.355</td> <td> 0.175</td> <td>   -0.009</td> <td>    0.047</td>\n",
       "</tr>\n",
       "<tr>\n",
       "  <th>department_support</th>     <td>    0.0249</td> <td>    0.015</td> <td>    1.611</td> <td> 0.107</td> <td>   -0.005</td> <td>    0.055</td>\n",
       "</tr>\n",
       "<tr>\n",
       "  <th>department_technical</th>   <td>    0.0334</td> <td>    0.015</td> <td>    2.240</td> <td> 0.025</td> <td>    0.004</td> <td>    0.063</td>\n",
       "</tr>\n",
       "<tr>\n",
       "  <th>salary_low</th>             <td>    0.2693</td> <td>    0.020</td> <td>   13.292</td> <td> 0.000</td> <td>    0.230</td> <td>    0.309</td>\n",
       "</tr>\n",
       "<tr>\n",
       "  <th>salary_medium</th>          <td>    0.2017</td> <td>    0.021</td> <td>    9.802</td> <td> 0.000</td> <td>    0.161</td> <td>    0.242</td>\n",
       "</tr>\n",
       "</table>"
      ],
      "text/plain": [
       "<class 'statsmodels.iolib.summary.Summary'>\n",
       "\"\"\"\n",
       "        Logit Marginal Effects       \n",
       "=====================================\n",
       "Dep. Variable:                  churn\n",
       "Method:                          dydx\n",
       "At:                           overall\n",
       "==========================================================================================\n",
       "                            dy/dx    std err          z      P>|z|      [0.025      0.975]\n",
       "------------------------------------------------------------------------------------------\n",
       "satisfaction_level        -0.5748      0.012    -48.250      0.000      -0.598      -0.551\n",
       "last_evaluation            0.0931      0.024      3.944      0.000       0.047       0.139\n",
       "number_project            -0.0420      0.003    -12.712      0.000      -0.049      -0.036\n",
       "average_montly_hours       0.0006   8.14e-05      7.892      0.000       0.000       0.001\n",
       "time_spend_company         0.0363      0.002     15.133      0.000       0.032       0.041\n",
       "work_accident             -0.2064      0.014    -15.043      0.000      -0.233      -0.180\n",
       "promotion_last_5years     -0.1849      0.040     -4.660      0.000      -0.263      -0.107\n",
       "department_RandD          -0.0786      0.022     -3.562      0.000      -0.122      -0.035\n",
       "department_accounting      0.0168      0.019      0.864      0.388      -0.021       0.055\n",
       "department_hr              0.0566      0.019      2.916      0.004       0.019       0.095\n",
       "department_management     -0.0363      0.024     -1.542      0.123      -0.083       0.010\n",
       "department_marketing       0.0274      0.019      1.414      0.157      -0.011       0.065\n",
       "department_product_mng     0.0101      0.019      0.540      0.589      -0.027       0.047\n",
       "department_sales           0.0192      0.014      1.355      0.175      -0.009       0.047\n",
       "department_support         0.0249      0.015      1.611      0.107      -0.005       0.055\n",
       "department_technical       0.0334      0.015      2.240      0.025       0.004       0.063\n",
       "salary_low                 0.2693      0.020     13.292      0.000       0.230       0.309\n",
       "salary_medium              0.2017      0.021      9.802      0.000       0.161       0.242\n",
       "==========================================================================================\n",
       "\"\"\""
      ]
     },
     "execution_count": 20,
     "metadata": {},
     "output_type": "execute_result"
    }
   ],
   "source": [
    "results.get_margeff().summary()"
   ]
  },
  {
   "cell_type": "markdown",
   "metadata": {},
   "source": [
    "- <b> An Incremental increase in satisfaction level will decrease the probability of churn on average by 57.48% when other factors are held constant.</b>\n",
    "- <b>Employees with low salary have on average 26.93% higher probability of churn compared to employees with high salaries.</b>"
   ]
  },
  {
   "cell_type": "markdown",
   "metadata": {},
   "source": [
    "<h1> 3. Model evaluation(confusion matrix,classification report)</h1> <a name=\"stats1\"> </a>"
   ]
  },
  {
   "cell_type": "markdown",
   "metadata": {},
   "source": [
    "In order to evaluate the model, we will use several methods. First,we will calculate classification metrics by hand. For that purpose we will use confusion matrix based on <code>pred_table()</code> to observe the different results of predictions based on the threshold.\n",
    "Next, we will use <code> confusion_matrix()</code> from sklearn library, to make calculations easier.\n",
    "Last, we will use classification report.\n",
    "Note that in order to calculate the metrics for test data we will need:\n",
    "   - to predict probabilities for test data,\n",
    "   - based on the predicted probabilities to classify observations into \"1\" and \"0\",\n",
    "   - construct confusion matrix for the predicted classes and true values of dependent variables"
   ]
  },
  {
   "attachments": {
    "image.png": {
     "image/png": "[encoded data removed]"
    }
   },
   "cell_type": "markdown",
   "metadata": {
    "ExecuteTime": {
     "end_time": "2020-04-04T16:51:23.904353Z",
     "start_time": "2020-04-04T16:51:23.868385Z"
    }
   },
   "source": [
    "![image.png](attachment:image.png)"
   ]
  },
  {
   "cell_type": "markdown",
   "metadata": {},
   "source": [
    "<b> Precision=TP/TP+FP</b> Out of all the positive classes we have predicted correctly, how many are actually positive.\n",
    "\n",
    "<b>Recall(Sensitivity)=TP/TP+FN </b>  Out of all the positive classes, how much we predicted correctly.\n",
    "\n",
    "<b>Specificity=TN/TN+FP </b>  Out of all the positive classes, how much we predicted correctly.\n",
    "\n",
    "<b>F1 Score:</b>This is a harmonic mean (2xPrecisionxRecall/Precision+Recall) of the true positive rate (recall) and precision. "
   ]
  },
  {
   "cell_type": "markdown",
   "metadata": {},
   "source": [
    "<b>*NOTE*:</b> We use `probabilities` for ROC_AUC score calculation and `classes` for accuracy, recall, specificity."
   ]
  },
  {
   "cell_type": "code",
   "execution_count": 21,
   "metadata": {
    "ExecuteTime": {
     "end_time": "2020-04-04T17:32:07.347812Z",
     "start_time": "2020-04-04T17:32:07.336843Z"
    }
   },
   "outputs": [
    {
     "data": {
      "text/plain": [
       "array([[7965., 1739.],\n",
       "       [ 610.,  935.]])"
      ]
     },
     "execution_count": 21,
     "metadata": {},
     "output_type": "execute_result"
    }
   ],
   "source": [
    "#default treshold is 0.5, T is for transposing the matrix\n",
    "results.pred_table().T"
   ]
  },
  {
   "cell_type": "code",
   "execution_count": 22,
   "metadata": {
    "ExecuteTime": {
     "end_time": "2020-04-04T17:32:07.360930Z",
     "start_time": "2020-04-04T17:32:07.351801Z"
    }
   },
   "outputs": [
    {
     "data": {
      "text/plain": [
       "array([[8367., 2312.],\n",
       "       [ 208.,  362.]])"
      ]
     },
     "execution_count": 22,
     "metadata": {},
     "output_type": "execute_result"
    }
   ],
   "source": [
    "#let's change treshold from 0.5 to 0.7\n",
    "results.pred_table(0.7).T"
   ]
  },
  {
   "cell_type": "markdown",
   "metadata": {},
   "source": [
    "It can be seen that after changing treshold, we predicted more 0 (8367) and less 1 (362)."
   ]
  },
  {
   "cell_type": "code",
   "execution_count": 23,
   "metadata": {
    "ExecuteTime": {
     "end_time": "2020-04-04T17:32:07.371915Z",
     "start_time": "2020-04-04T17:32:07.363926Z"
    }
   },
   "outputs": [
    {
     "name": "stdout",
     "output_type": "stream",
     "text": [
      "Accuracy: 0.7911814383500756\n",
      "Recall: 0.34966342557965596\n",
      "Specificity: 0.928862973760933\n"
     ]
    }
   ],
   "source": [
    "#let's calculate overall accuracy, recall and specificity by hand for the train set\n",
    "Accuracy=(7965+935)/(7965+1739+610+935)\n",
    "Recall=935/(935+1739)\n",
    "Specificity=7965/(7965+610)\n",
    "print(\"Accuracy:\",Accuracy)\n",
    "print(\"Recall:\",Recall)\n",
    "print(\"Specificity:\",Specificity)"
   ]
  },
  {
   "cell_type": "code",
   "execution_count": 24,
   "metadata": {
    "ExecuteTime": {
     "end_time": "2020-04-04T17:32:07.387551Z",
     "start_time": "2020-04-04T17:32:07.373919Z"
    }
   },
   "outputs": [],
   "source": [
    "#now let's make everything easier\n",
    "#predicting for train and test data\n",
    "Y1_hat=results.predict(X1)\n",
    "Y0_hat=results.predict(X0)"
   ]
  },
  {
   "cell_type": "code",
   "execution_count": 25,
   "metadata": {
    "ExecuteTime": {
     "end_time": "2020-04-04T17:32:07.460506Z",
     "start_time": "2020-04-04T17:32:07.451477Z"
    }
   },
   "outputs": [],
   "source": [
    "#converting probabilities into labels\n",
    "Y1_class=np.where(Y1_hat>=0.5,1,0)\n",
    "Y0_class=np.where(Y0_hat>=0.5,1,0)"
   ]
  },
  {
   "cell_type": "code",
   "execution_count": 26,
   "metadata": {
    "ExecuteTime": {
     "end_time": "2020-04-04T17:32:07.489898Z",
     "start_time": "2020-04-04T17:32:07.464483Z"
    }
   },
   "outputs": [],
   "source": [
    "#Using confusion matrix for train and test data\n",
    "cm_train=confusion_matrix(Y0,Y0_class).T"
   ]
  },
  {
   "cell_type": "code",
   "execution_count": 27,
   "metadata": {
    "ExecuteTime": {
     "end_time": "2020-04-04T17:32:07.500525Z",
     "start_time": "2020-04-04T17:32:07.492264Z"
    }
   },
   "outputs": [
    {
     "name": "stdout",
     "output_type": "stream",
     "text": [
      "Accuracy_train: 0.7911814383500756\n",
      "Sensitivity_train: 0.34966342557965596\n",
      "Specificity_train: 0.928862973760933\n"
     ]
    }
   ],
   "source": [
    "#let's calculate overall accuracy, recall and specificity for train data\n",
    "print(\"Accuracy_train:\", (cm_train[0,0]+cm_train[1,1])/len(Y0))\n",
    "print(\"Sensitivity_train:\",cm_train[1,1]/(cm_train[1,1]+cm_train[0,1]))\n",
    "print(\"Specificity_train:\",cm_train[0,0]/(cm_train[0,0]+cm_train[1,0]))"
   ]
  },
  {
   "cell_type": "code",
   "execution_count": 28,
   "metadata": {
    "ExecuteTime": {
     "end_time": "2020-04-04T17:32:07.516605Z",
     "start_time": "2020-04-04T17:32:07.503516Z"
    }
   },
   "outputs": [],
   "source": [
    "#confusion matrix for the test data\n",
    "cm_test=confusion_matrix(Y1,Y1_class).T"
   ]
  },
  {
   "cell_type": "code",
   "execution_count": 29,
   "metadata": {
    "ExecuteTime": {
     "end_time": "2020-04-04T17:32:07.527080Z",
     "start_time": "2020-04-04T17:32:07.519616Z"
    }
   },
   "outputs": [
    {
     "name": "stdout",
     "output_type": "stream",
     "text": [
      "Accuracy_test: 0.7850666666666667\n",
      "Sensitivity_test: 0.34002229654403565\n",
      "Specificity_test: 0.9249912372940764\n"
     ]
    }
   ],
   "source": [
    "#let's calculate overall accuracy, recall and specificity for test data\n",
    "print(\"Accuracy_test:\", (cm_test[0,0]+cm_test[1,1])/len(Y1))\n",
    "print(\"Sensitivity_test:\",cm_test[1,1]/(cm_test[1,1]+cm_test[0,1]))\n",
    "print(\"Specificity_test:\",cm_test[0,0]/(cm_test[0,0]+cm_test[1,0]))\n"
   ]
  },
  {
   "cell_type": "code",
   "execution_count": 30,
   "metadata": {
    "ExecuteTime": {
     "end_time": "2020-04-04T17:32:07.587559Z",
     "start_time": "2020-04-04T17:32:07.530626Z"
    }
   },
   "outputs": [
    {
     "name": "stdout",
     "output_type": "stream",
     "text": [
      "Logistic Regression Train:\n",
      "              precision    recall  f1-score   support\n",
      "\n",
      "           0       0.82      0.93      0.87      8575\n",
      "           1       0.61      0.35      0.44      2674\n",
      "\n",
      "    accuracy                           0.79     11249\n",
      "   macro avg       0.71      0.64      0.66     11249\n",
      "weighted avg       0.77      0.79      0.77     11249\n",
      "\n",
      "Logistic Regression Test:\n",
      "              precision    recall  f1-score   support\n",
      "\n",
      "           0       0.82      0.92      0.87      2853\n",
      "           1       0.59      0.34      0.43       897\n",
      "\n",
      "    accuracy                           0.79      3750\n",
      "   macro avg       0.70      0.63      0.65      3750\n",
      "weighted avg       0.76      0.79      0.76      3750\n",
      "\n"
     ]
    }
   ],
   "source": [
    "#calculating using classification report\n",
    "print(\"Logistic Regression Train:\")\n",
    "print(classification_report(Y0,Y0_class))\n",
    "\n",
    "print(\"Logistic Regression Test:\")\n",
    "print(classification_report(Y1,Y1_class))"
   ]
  },
  {
   "cell_type": "markdown",
   "metadata": {},
   "source": [
    "We can see that although the metrics are good for 0s, our model is not doing a good job when predicting 1s. This may be a problem \n",
    "of unbalanced data, not using cross-validation and hyperparameter tuning."
   ]
  },
  {
   "cell_type": "code",
   "execution_count": 31,
   "metadata": {
    "ExecuteTime": {
     "end_time": "2020-04-04T17:32:07.625759Z",
     "start_time": "2020-04-04T17:32:07.590551Z"
    },
    "scrolled": true
   },
   "outputs": [
    {
     "data": {
      "text/html": [
       "<div>\n",
       "<style scoped>\n",
       "    .dataframe tbody tr th:only-of-type {\n",
       "        vertical-align: middle;\n",
       "    }\n",
       "\n",
       "    .dataframe tbody tr th {\n",
       "        vertical-align: top;\n",
       "    }\n",
       "\n",
       "    .dataframe thead th {\n",
       "        text-align: right;\n",
       "    }\n",
       "</style>\n",
       "<table border=\"1\" class=\"dataframe\">\n",
       "  <thead>\n",
       "    <tr style=\"text-align: right;\">\n",
       "      <th></th>\n",
       "      <th>Accuracy</th>\n",
       "      <th>ROC_AUC</th>\n",
       "      <th>Recall</th>\n",
       "    </tr>\n",
       "  </thead>\n",
       "  <tbody>\n",
       "    <tr>\n",
       "      <td>Training set</td>\n",
       "      <td>0.791181</td>\n",
       "      <td>0.821893</td>\n",
       "      <td>0.349663</td>\n",
       "    </tr>\n",
       "    <tr>\n",
       "      <td>Testing set</td>\n",
       "      <td>0.785067</td>\n",
       "      <td>0.818762</td>\n",
       "      <td>0.340022</td>\n",
       "    </tr>\n",
       "  </tbody>\n",
       "</table>\n",
       "</div>"
      ],
      "text/plain": [
       "              Accuracy   ROC_AUC    Recall\n",
       "Training set  0.791181  0.821893  0.349663\n",
       "Testing set   0.785067  0.818762  0.340022"
      ]
     },
     "execution_count": 31,
     "metadata": {},
     "output_type": "execute_result"
    }
   ],
   "source": [
    "#Note that we can also calculate accuracy, recall and ROC_AUC score using respective metrics from sklearn library\n",
    "#summarizing the results into a dataframe\n",
    "results_summary=pd.DataFrame({\"Accuracy\":[accuracy_score(Y0,Y0_class),accuracy_score(Y1,Y1_class)],\n",
    "                              \"ROC_AUC\":[roc_auc_score(Y0,Y0_hat),roc_auc_score(Y1, Y1_hat)],\n",
    "                              \"Recall\":[recall_score(Y0, Y0_class),recall_score(Y1, Y1_class)]\n",
    "                              },\n",
    "                             index=[\"Training set\",\"Testing set\"])\n",
    "results_summary\n",
    "\n"
   ]
  },
  {
   "cell_type": "markdown",
   "metadata": {},
   "source": [
    "You can note the difference between accuracy and ROC AUC score: Accuracy is much higher than ROC AUC, conditioned by not balanced \n",
    "data. ROC AUC score is lower as it is based on all levels of thresholds (not just 0.5), and takes into account both recall and\n",
    "specificity score values."
   ]
  }
 ],
 "metadata": {
  "kernelspec": {
   "display_name": "Python 3",
   "language": "python",
   "name": "python3"
  },
  "language_info": {
   "codemirror_mode": {
    "name": "ipython",
    "version": 3
   },
   "file_extension": ".py",
   "mimetype": "text/x-python",
   "name": "python",
   "nbconvert_exporter": "python",
   "pygments_lexer": "ipython3",
   "version": "3.7.4"
  },
  "toc": {
   "base_numbering": 1,
   "nav_menu": {},
   "number_sections": true,
   "sideBar": true,
   "skip_h1_title": false,
   "title_cell": "Table of Contents",
   "title_sidebar": "Contents",
   "toc_cell": false,
   "toc_position": {},
   "toc_section_display": true,
   "toc_window_display": false
  }
 },
 "nbformat": 4,
 "nbformat_minor": 2
}
